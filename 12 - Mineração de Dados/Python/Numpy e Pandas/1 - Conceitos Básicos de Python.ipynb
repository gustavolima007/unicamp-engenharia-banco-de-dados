{
 "cells": [
  {
   "cell_type": "markdown",
   "metadata": {
    "id": "3jRncmx3jkPQ"
   },
   "source": [
    "# 1. Conceitos Básicos de Python\n",
    "\n",
    "O objetivo do hello world é apresentar o texto na tela para o usuários. Portanto, utilizaremos a função **print()**, a qual é método de saída.\n",
    "\n",
    "Neste exemplo, 'hello world' é uma string, ou seja, uma sequência de caracteres. Em Python, strings podem ser definidas usando tanto aspas simples ('') quanto aspas duplas (\"\"). Por exemplo:"
   ]
  },
  {
   "cell_type": "code",
   "execution_count": 2,
   "metadata": {
    "colab": {
     "base_uri": "https://localhost:8080/"
    },
    "executionInfo": {
     "elapsed": 27,
     "status": "ok",
     "timestamp": 1741957753391,
     "user": {
      "displayName": "Julio Cesar dos Reis",
      "userId": "07725049740648948644"
     },
     "user_tz": 180
    },
    "id": "MY-VRZqhicZJ",
    "outputId": "8162f88f-9e9b-469e-8736-9e5303ec6787"
   },
   "outputs": [
    {
     "name": "stdout",
     "output_type": "stream",
     "text": [
      "Hello World\n",
      "Hello World\n"
     ]
    }
   ],
   "source": [
    "print('Hello World')\n",
    "print(\"Hello World\")"
   ]
  },
  {
   "cell_type": "markdown",
   "metadata": {
    "id": "g6POAbVHicZQ"
   },
   "source": [
    "Note que ambos os comandos apresentaram as mesmas saídas"
   ]
  },
  {
   "cell_type": "markdown",
   "metadata": {
    "id": "j5Rfcl5hicZR"
   },
   "source": [
    "## 1.1 Indentação\n",
    "\n",
    "Indentação é python é um requisito essencial e **deve ser respeitada**, pois ela quem determina os escopos das funções e variáveis no código. Além disso, caso ela não for respeitada corretamente, o código não será executado. De forma analoga, a identação tem o papel das chaves {} no código C"
   ]
  },
  {
   "cell_type": "code",
   "execution_count": 3,
   "metadata": {
    "colab": {
     "base_uri": "https://localhost:8080/",
     "height": 106
    },
    "executionInfo": {
     "elapsed": 19,
     "status": "error",
     "timestamp": 1741957753560,
     "user": {
      "displayName": "Julio Cesar dos Reis",
      "userId": "07725049740648948644"
     },
     "user_tz": 180
    },
    "id": "xdNnQ4oiicZS",
    "outputId": "c6444562-90fa-47c8-b92e-63bb7b97f5e0"
   },
   "outputs": [
    {
     "ename": "IndentationError",
     "evalue": "unexpected indent (1253328302.py, line 2)",
     "output_type": "error",
     "traceback": [
      "  \u001b[36mCell\u001b[39m\u001b[36m \u001b[39m\u001b[32mIn[3]\u001b[39m\u001b[32m, line 2\u001b[39m\n\u001b[31m    \u001b[39m\u001b[31mprint(\"Hello World\")\u001b[39m\n    ^\n\u001b[31mIndentationError\u001b[39m\u001b[31m:\u001b[39m unexpected indent\n"
     ]
    }
   ],
   "source": [
    "print('Hello World')\n",
    "    print(\"Hello World\")"
   ]
  },
  {
   "cell_type": "markdown",
   "metadata": {
    "id": "PxQtZ2KpicZT"
   },
   "source": [
    "## 1.2 Comentários\n",
    "\n",
    "Comentários são muito importantes durante o desenvolvimento de códigos. Eles são usados pelos desenvolvedores para explicar o código.\n",
    "\n",
    "Em Python, usamos o símbolo hash (#) para iniciar um comentário. É importante destacar que o interpretador ignora comentários durante a execução. Podemos, utilizar comentários das seguintes formas:\n",
    "\n",
    "* \\# para comentar uma linha\n",
    "* ''' comentario ''' para comentar múltiplas linhas"
   ]
  },
  {
   "cell_type": "code",
   "execution_count": 4,
   "metadata": {
    "colab": {
     "base_uri": "https://localhost:8080/"
    },
    "executionInfo": {
     "elapsed": 5,
     "status": "ok",
     "timestamp": 1741958194332,
     "user": {
      "displayName": "Julio Cesar dos Reis",
      "userId": "07725049740648948644"
     },
     "user_tz": 180
    },
    "id": "5yUretlricZU",
    "outputId": "e92e05c9-f048-4cef-9da6-4a805cbbcdd8"
   },
   "outputs": [
    {
     "name": "stdout",
     "output_type": "stream",
     "text": [
      "Hello World\n"
     ]
    }
   ],
   "source": [
    "print('Hello World') #este é um comentário"
   ]
  },
  {
   "cell_type": "code",
   "execution_count": 5,
   "metadata": {
    "colab": {
     "base_uri": "https://localhost:8080/"
    },
    "executionInfo": {
     "elapsed": 3,
     "status": "ok",
     "timestamp": 1741958196868,
     "user": {
      "displayName": "Julio Cesar dos Reis",
      "userId": "07725049740648948644"
     },
     "user_tz": 180
    },
    "id": "SP3-ZJ8kicZW",
    "outputId": "6b70f65e-8421-4887-a897-faeb958c9098"
   },
   "outputs": [
    {
     "name": "stdout",
     "output_type": "stream",
     "text": [
      "Hello World\n"
     ]
    }
   ],
   "source": [
    "'''\n",
    "Este é um comentário\n",
    "com múltiplas linhas\n",
    "'''\n",
    "print('Hello World')"
   ]
  },
  {
   "cell_type": "markdown",
   "metadata": {
    "id": "Il915PegicZY"
   },
   "source": [
    "Note que apenas o texto do comando print() foi apresentado"
   ]
  },
  {
   "cell_type": "markdown",
   "metadata": {
    "id": "LvE3KRHHicZZ"
   },
   "source": [
    "## 1.3 Pacotes e módulos\n",
    "\n",
    "Python possui pacotes e módulos.\n",
    "Módulo é um arquivo que contém código em Python.\n",
    "Pacote é um diretório que contem múltiplos módulos.\n",
    "\n",
    "Para usar esses pacotes/módulos em Python utilizamos:\n",
    "* import\n",
    "* from pacote import modulo"
   ]
  },
  {
   "cell_type": "code",
   "execution_count": 6,
   "metadata": {
    "colab": {
     "base_uri": "https://localhost:8080/",
     "height": 35
    },
    "executionInfo": {
     "elapsed": 49,
     "status": "ok",
     "timestamp": 1741958238933,
     "user": {
      "displayName": "Julio Cesar dos Reis",
      "userId": "07725049740648948644"
     },
     "user_tz": 180
    },
    "id": "zqWqRelJicZa",
    "outputId": "3a714627-1939-4f25-b12f-06007dac9f7c"
   },
   "outputs": [
    {
     "data": {
      "text/plain": [
       "'e:\\\\Github\\\\unicamp-engenharia-banco-de-dados\\\\12 - Mineração de Dados\\\\Python-20250315T092832Z-001\\\\Python'"
      ]
     },
     "execution_count": 6,
     "metadata": {},
     "output_type": "execute_result"
    }
   ],
   "source": [
    "import os #importa modulo\n",
    "os.getcwd() #retorna o diretório atual"
   ]
  },
  {
   "cell_type": "markdown",
   "metadata": {
    "id": "3kuySd-MicZb"
   },
   "source": [
    "caso o pacote possua um nome muito grande ou complexo, podemos atribuir um alias (apelido) para refenciar durante a utilização. Por exemplo:"
   ]
  },
  {
   "cell_type": "code",
   "execution_count": 7,
   "metadata": {
    "colab": {
     "base_uri": "https://localhost:8080/",
     "height": 35
    },
    "executionInfo": {
     "elapsed": 4,
     "status": "ok",
     "timestamp": 1741958249803,
     "user": {
      "displayName": "Julio Cesar dos Reis",
      "userId": "07725049740648948644"
     },
     "user_tz": 180
    },
    "id": "aUnVYG4qicZb",
    "outputId": "ba8c029b-021e-4ea0-e4a3-025204ef903f"
   },
   "outputs": [
    {
     "data": {
      "text/plain": [
       "'Windows-11-10.0.26100-SP0'"
      ]
     },
     "execution_count": 7,
     "metadata": {},
     "output_type": "execute_result"
    }
   ],
   "source": [
    "import platform\n",
    "platform.platform()"
   ]
  },
  {
   "cell_type": "code",
   "execution_count": 8,
   "metadata": {
    "colab": {
     "base_uri": "https://localhost:8080/",
     "height": 35
    },
    "executionInfo": {
     "elapsed": 4,
     "status": "ok",
     "timestamp": 1741958251474,
     "user": {
      "displayName": "Julio Cesar dos Reis",
      "userId": "07725049740648948644"
     },
     "user_tz": 180
    },
    "id": "TVoMJ504icZc",
    "outputId": "db4c5198-e403-4b6e-fff2-81f624215eba"
   },
   "outputs": [
    {
     "data": {
      "text/plain": [
       "'Windows-11-10.0.26100-SP0'"
      ]
     },
     "execution_count": 8,
     "metadata": {},
     "output_type": "execute_result"
    }
   ],
   "source": [
    "import platform as pf\n",
    "pf.platform()"
   ]
  },
  {
   "cell_type": "markdown",
   "metadata": {
    "id": "OSdc1-pQicZd"
   },
   "source": [
    "## 1.4 Variáveis\n",
    "\n",
    "Variáveis são utilizadas para armazenar valores, a qual é uma localização nomeada para armazenar valores na memória. Podemos declarar variáveis da seguinte forma:"
   ]
  },
  {
   "cell_type": "code",
   "execution_count": 9,
   "metadata": {
    "colab": {
     "base_uri": "https://localhost:8080/"
    },
    "executionInfo": {
     "elapsed": 6,
     "status": "ok",
     "timestamp": 1741960158915,
     "user": {
      "displayName": "Julio Cesar dos Reis",
      "userId": "07725049740648948644"
     },
     "user_tz": 180
    },
    "id": "SdqKDNFzicZe",
    "outputId": "4a122754-d7e4-4c1e-c107-f2e537e54f00"
   },
   "outputs": [
    {
     "name": "stdout",
     "output_type": "stream",
     "text": [
      "1\n"
     ]
    }
   ],
   "source": [
    "a = 1\n",
    "print(a)"
   ]
  },
  {
   "cell_type": "markdown",
   "metadata": {
    "id": "DiU6jQQgicZf"
   },
   "source": [
    "O valor da variável pode ser alterado no código. Como python é fracamente tipado, essa mesma variável pode receber qualquer tipo: int, float, string, lista, dict, etc. Por exemplo:"
   ]
  },
  {
   "cell_type": "code",
   "execution_count": 10,
   "metadata": {
    "colab": {
     "base_uri": "https://localhost:8080/"
    },
    "executionInfo": {
     "elapsed": 6,
     "status": "ok",
     "timestamp": 1741960165698,
     "user": {
      "displayName": "Julio Cesar dos Reis",
      "userId": "07725049740648948644"
     },
     "user_tz": 180
    },
    "id": "FBCk8leYicZf",
    "outputId": "276e7c33-c925-4b96-e4fe-bdf2054148f8"
   },
   "outputs": [
    {
     "name": "stdout",
     "output_type": "stream",
     "text": [
      "esta variável agora é uma string\n"
     ]
    }
   ],
   "source": [
    "a = 'esta variável agora é uma string'\n",
    "print(a)"
   ]
  },
  {
   "cell_type": "markdown",
   "metadata": {
    "id": "w6jOajL0icZg"
   },
   "source": [
    "### 1.4.1 Regras para Nomes de Variáveis\n",
    "\n",
    "Os nomes das variáveis devem ter uma combinação de letras minúsculas (a à z) ou letras maiúsculas (A à Z) ou dígitos (0 à 9) ou underline (\\_). É importante destacar que as variáveis não podem iniciar com digitos"
   ]
  },
  {
   "cell_type": "code",
   "execution_count": 11,
   "metadata": {
    "colab": {
     "base_uri": "https://localhost:8080/"
    },
    "executionInfo": {
     "elapsed": 4,
     "status": "ok",
     "timestamp": 1741960172135,
     "user": {
      "displayName": "Julio Cesar dos Reis",
      "userId": "07725049740648948644"
     },
     "user_tz": 180
    },
    "id": "Qoory0lCicZg",
    "outputId": "aa0c8058-2afe-452e-dae5-ff262217b27f"
   },
   "outputs": [
    {
     "name": "stdout",
     "output_type": "stream",
     "text": [
      "1\n"
     ]
    }
   ],
   "source": [
    "aZ9_ = 1\n",
    "print(aZ9_)"
   ]
  },
  {
   "cell_type": "markdown",
   "metadata": {
    "id": "BZC2Efw1icZh"
   },
   "source": [
    "devemos utilizar nomes que fazerm sentido para facilitar a leitura do código. Por exemplo:"
   ]
  },
  {
   "cell_type": "code",
   "execution_count": 12,
   "metadata": {
    "executionInfo": {
     "elapsed": 2,
     "status": "ok",
     "timestamp": 1741960174483,
     "user": {
      "displayName": "Julio Cesar dos Reis",
      "userId": "07725049740648948644"
     },
     "user_tz": 180
    },
    "id": "Mmy-vzzFicZh"
   },
   "outputs": [],
   "source": [
    "asdeg = 100\n",
    "valor = 100"
   ]
  },
  {
   "cell_type": "markdown",
   "metadata": {
    "id": "gL8Ase_MicZi"
   },
   "source": [
    "no exemplo, não conseguimos identificar o que é **asdeg=100**, mas ao utilizar um nome que faça mais sentido, podemos entender que o **valor** de algo é 100"
   ]
  },
  {
   "cell_type": "markdown",
   "metadata": {
    "id": "BbZ5wsxuicZi"
   },
   "source": [
    "Se quisermos criar nome de variável com espaço, devemos utilizar o underline (\\_) para separar as palavras. Não podemos utilizar traço (-)"
   ]
  },
  {
   "cell_type": "code",
   "execution_count": 13,
   "metadata": {
    "colab": {
     "base_uri": "https://localhost:8080/",
     "height": 35
    },
    "executionInfo": {
     "elapsed": 39,
     "status": "ok",
     "timestamp": 1741960188582,
     "user": {
      "displayName": "Julio Cesar dos Reis",
      "userId": "07725049740648948644"
     },
     "user_tz": 180
    },
    "id": "DY4WwkYwicZi",
    "outputId": "5b7a3a05-0f15-4a4e-e981-eafc7eeb696b"
   },
   "outputs": [
    {
     "data": {
      "text/plain": [
       "'OK'"
      ]
     },
     "execution_count": 13,
     "metadata": {},
     "output_type": "execute_result"
    }
   ],
   "source": [
    "nome_com_espaco = 'OK'\n",
    "nome_com_espaco"
   ]
  },
  {
   "cell_type": "code",
   "execution_count": 14,
   "metadata": {
    "colab": {
     "base_uri": "https://localhost:8080/",
     "height": 106
    },
    "executionInfo": {
     "elapsed": 6,
     "status": "error",
     "timestamp": 1741960190730,
     "user": {
      "displayName": "Julio Cesar dos Reis",
      "userId": "07725049740648948644"
     },
     "user_tz": 180
    },
    "id": "2DMrB1VxicZj",
    "outputId": "cba3fd67-98a2-4a91-ec37-d3dad8a81a44"
   },
   "outputs": [
    {
     "ename": "SyntaxError",
     "evalue": "cannot assign to expression here. Maybe you meant '==' instead of '='? (1184751018.py, line 1)",
     "output_type": "error",
     "traceback": [
      "  \u001b[36mCell\u001b[39m\u001b[36m \u001b[39m\u001b[32mIn[14]\u001b[39m\u001b[32m, line 1\u001b[39m\n\u001b[31m    \u001b[39m\u001b[31mnome-com-traco = 'Não é Ok' #uso incorreto\u001b[39m\n    ^\n\u001b[31mSyntaxError\u001b[39m\u001b[31m:\u001b[39m cannot assign to expression here. Maybe you meant '==' instead of '='?\n"
     ]
    }
   ],
   "source": [
    "nome-com-traco = 'Não é Ok' #uso incorreto"
   ]
  },
  {
   "cell_type": "markdown",
   "metadata": {
    "id": "z1f1uZfjicZj"
   },
   "source": [
    "### 1.4.2 Palavras Chaves\n",
    "\n",
    "essas são palavras reservadas em Python que **não** podem ser usadas como nome de variáveis, pois são usadas como comandos para o interpretador"
   ]
  },
  {
   "cell_type": "code",
   "execution_count": 15,
   "metadata": {
    "colab": {
     "base_uri": "https://localhost:8080/",
     "height": 106
    },
    "executionInfo": {
     "elapsed": 56,
     "status": "error",
     "timestamp": 1741960216357,
     "user": {
      "displayName": "Julio Cesar dos Reis",
      "userId": "07725049740648948644"
     },
     "user_tz": 180
    },
    "id": "30UMClm2icZj",
    "outputId": "75ea3102-fb43-4ba5-c5e6-a7d2929cb08d"
   },
   "outputs": [
    {
     "ename": "SyntaxError",
     "evalue": "invalid syntax (2348844145.py, line 1)",
     "output_type": "error",
     "traceback": [
      "  \u001b[36mCell\u001b[39m\u001b[36m \u001b[39m\u001b[32mIn[15]\u001b[39m\u001b[32m, line 1\u001b[39m\n\u001b[31m    \u001b[39m\u001b[31mdef = 1 #def é uma keyword portanto não podemos criar uma variável com esse nome\u001b[39m\n        ^\n\u001b[31mSyntaxError\u001b[39m\u001b[31m:\u001b[39m invalid syntax\n"
     ]
    }
   ],
   "source": [
    "def = 1 #def é uma keyword portanto não podemos criar uma variável com esse nome"
   ]
  },
  {
   "cell_type": "code",
   "execution_count": 16,
   "metadata": {
    "colab": {
     "base_uri": "https://localhost:8080/"
    },
    "executionInfo": {
     "elapsed": 4,
     "status": "ok",
     "timestamp": 1741960217887,
     "user": {
      "displayName": "Julio Cesar dos Reis",
      "userId": "07725049740648948644"
     },
     "user_tz": 180
    },
    "id": "SKpEs1bQicZk",
    "outputId": "61e45131-717a-4e89-da42-da3b9b9ca696"
   },
   "outputs": [
    {
     "name": "stdout",
     "output_type": "stream",
     "text": [
      "\n",
      "Here is a list of the Python keywords.  Enter any keyword to get more help.\n",
      "\n",
      "False               class               from                or\n",
      "None                continue            global              pass\n",
      "True                def                 if                  raise\n",
      "and                 del                 import              return\n",
      "as                  elif                in                  try\n",
      "assert              else                is                  while\n",
      "async               except              lambda              with\n",
      "await               finally             nonlocal            yield\n",
      "break               for                 not                 \n",
      "\n"
     ]
    }
   ],
   "source": [
    "help('keywords')"
   ]
  },
  {
   "cell_type": "markdown",
   "metadata": {
    "id": "CLDTUFhxicZk"
   },
   "source": [
    "## 1.5 Entrada e Saída\n",
    "\n",
    "Para ler uma entrada fornecida pelo usuário, utilizamos o métodos input(). Por outro lado, como vimos anteriormente, para mostrar uma saída para o usuário utilizamos o método print(). Por exemplo:"
   ]
  },
  {
   "cell_type": "code",
   "execution_count": 17,
   "metadata": {
    "colab": {
     "base_uri": "https://localhost:8080/"
    },
    "executionInfo": {
     "elapsed": 4062,
     "status": "ok",
     "timestamp": 1741960227995,
     "user": {
      "displayName": "Julio Cesar dos Reis",
      "userId": "07725049740648948644"
     },
     "user_tz": 180
    },
    "id": "7U0P7KDQicZl",
    "outputId": "312dfea5-75e1-48d1-8574-cf22130d0606"
   },
   "outputs": [
    {
     "name": "stdout",
     "output_type": "stream",
     "text": [
      "O valor digitado foi:  Olá man\n"
     ]
    }
   ],
   "source": [
    "a = input('Digite um valor: ')\n",
    "print(\"O valor digitado foi: \", a)"
   ]
  },
  {
   "cell_type": "markdown",
   "metadata": {
    "id": "bqlwR_v_icZl"
   },
   "source": [
    "## 1.6 Funções Básicas\n"
   ]
  },
  {
   "cell_type": "markdown",
   "metadata": {
    "id": "l0SzBT_jicZn"
   },
   "source": [
    "### 1.6.1 help()\n",
    "\n",
    "é usada para apresentar a documentação de módulos, funções, classes, etc para ajudar o desenvolvedor a entender como utilizar tal módulo"
   ]
  },
  {
   "cell_type": "code",
   "execution_count": 18,
   "metadata": {
    "colab": {
     "base_uri": "https://localhost:8080/"
    },
    "executionInfo": {
     "elapsed": 4,
     "status": "ok",
     "timestamp": 1741960234301,
     "user": {
      "displayName": "Julio Cesar dos Reis",
      "userId": "07725049740648948644"
     },
     "user_tz": 180
    },
    "id": "2875nxqZicZn",
    "outputId": "4ea4f57f-ce08-4840-96dc-b8cc47cb3df8"
   },
   "outputs": [
    {
     "name": "stdout",
     "output_type": "stream",
     "text": [
      "Help on built-in function print in module builtins:\n",
      "\n",
      "print(*args, sep=' ', end='\\n', file=None, flush=False)\n",
      "    Prints the values to a stream, or to sys.stdout by default.\n",
      "\n",
      "    sep\n",
      "      string inserted between values, default a space.\n",
      "    end\n",
      "      string appended after the last value, default a newline.\n",
      "    file\n",
      "      a file-like object (stream); defaults to the current sys.stdout.\n",
      "    flush\n",
      "      whether to forcibly flush the stream.\n",
      "\n"
     ]
    }
   ],
   "source": [
    "help(print)"
   ]
  },
  {
   "cell_type": "markdown",
   "metadata": {
    "id": "eHC9X5D5icZn"
   },
   "source": [
    "### 1.6.2 type()\n",
    "\n",
    "É utilizada para retornar o tipo de um objeto"
   ]
  },
  {
   "cell_type": "code",
   "execution_count": 22,
   "metadata": {
    "colab": {
     "base_uri": "https://localhost:8080/"
    },
    "executionInfo": {
     "elapsed": 10,
     "status": "ok",
     "timestamp": 1741960261903,
     "user": {
      "displayName": "Julio Cesar dos Reis",
      "userId": "07725049740648948644"
     },
     "user_tz": 180
    },
    "id": "bGIfCNRNicZo",
    "outputId": "7db5c205-5e4d-4221-90cf-f5d002f1a0e5"
   },
   "outputs": [
    {
     "name": "stdout",
     "output_type": "stream",
     "text": [
      "<class 'int'>\n",
      "<class 'str'>\n"
     ]
    }
   ],
   "source": [
    "a = 1\n",
    "b = 'hello world'\n",
    "\n",
    "print(type(a))\n",
    "print(type(b))"
   ]
  },
  {
   "cell_type": "markdown",
   "metadata": {
    "id": "TXIiYg2zicZp"
   },
   "source": [
    "### 1.6.3 del()\n",
    "\n",
    "É utilizada para apagar um objeto da memória"
   ]
  },
  {
   "cell_type": "code",
   "execution_count": 23,
   "metadata": {
    "colab": {
     "base_uri": "https://localhost:8080/",
     "height": 176
    },
    "executionInfo": {
     "elapsed": 42,
     "status": "error",
     "timestamp": 1741960309294,
     "user": {
      "displayName": "Julio Cesar dos Reis",
      "userId": "07725049740648948644"
     },
     "user_tz": 180
    },
    "id": "Zhw8S-9FicZp",
    "outputId": "5571bde3-bd26-4624-d17c-e1096d5b4d13"
   },
   "outputs": [
    {
     "ename": "NameError",
     "evalue": "name 'a' is not defined",
     "output_type": "error",
     "traceback": [
      "\u001b[31m---------------------------------------------------------------------------\u001b[39m",
      "\u001b[31mNameError\u001b[39m                                 Traceback (most recent call last)",
      "\u001b[36mCell\u001b[39m\u001b[36m \u001b[39m\u001b[32mIn[23]\u001b[39m\u001b[32m, line 3\u001b[39m\n\u001b[32m      1\u001b[39m a = \u001b[32m10\u001b[39m\n\u001b[32m      2\u001b[39m \u001b[38;5;28;01mdel\u001b[39;00m(a)\n\u001b[32m----> \u001b[39m\u001b[32m3\u001b[39m \u001b[38;5;28mprint\u001b[39m(\u001b[43ma\u001b[49m)\n",
      "\u001b[31mNameError\u001b[39m: name 'a' is not defined"
     ]
    }
   ],
   "source": [
    "a = 10\n",
    "del(a)\n",
    "print(a)"
   ]
  },
  {
   "cell_type": "markdown",
   "metadata": {
    "id": "xNUp4uUeicZq"
   },
   "source": [
    "### 1.6.4 len()\n",
    "\n",
    "É utilizado para contar os elementos de uma coleção, incluindo caracteres de uma string, itens de uma lista, dicionário, array, etc."
   ]
  },
  {
   "cell_type": "code",
   "execution_count": 24,
   "metadata": {
    "executionInfo": {
     "elapsed": 57,
     "status": "aborted",
     "timestamp": 1741957756486,
     "user": {
      "displayName": "Julio Cesar dos Reis",
      "userId": "07725049740648948644"
     },
     "user_tz": 180
    },
    "id": "lM-SHhE-icZ3"
   },
   "outputs": [
    {
     "data": {
      "text/plain": [
       "11"
      ]
     },
     "execution_count": 24,
     "metadata": {},
     "output_type": "execute_result"
    }
   ],
   "source": [
    "len('hello world')"
   ]
  }
 ],
 "metadata": {
  "colab": {
   "provenance": []
  },
  "kernelspec": {
   "display_name": "Python 3",
   "language": "python",
   "name": "python3"
  },
  "language_info": {
   "codemirror_mode": {
    "name": "ipython",
    "version": 3
   },
   "file_extension": ".py",
   "mimetype": "text/x-python",
   "name": "python",
   "nbconvert_exporter": "python",
   "pygments_lexer": "ipython3",
   "version": "3.13.2"
  }
 },
 "nbformat": 4,
 "nbformat_minor": 0
}
