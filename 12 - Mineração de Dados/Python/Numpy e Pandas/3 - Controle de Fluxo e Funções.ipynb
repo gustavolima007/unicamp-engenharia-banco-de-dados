{
 "cells": [
  {
   "cell_type": "markdown",
   "metadata": {
    "id": "fuYUPng3jkPB"
   },
   "source": [
    "# 4. Controle de Fluxo\n",
    "\n",
    "Controle de fluxos são utilizados para determinar a sequência de execução de um código. Esses controles podem ser saltos condicioniais (if-else-elif) como também repretições (for e while). A seguir são apresentados os principais controles de fluxos em Python"
   ]
  },
  {
   "cell_type": "markdown",
   "metadata": {
    "id": "dzbQ-4fa1lJm"
   },
   "source": [
    "## 4.1 Comando if\n",
    "\n",
    "é utilizado para expressar condições que vão determinar sequências diferentes de execuções. Essas condições são expressadas usando **if**, **else**, **elif** e podem ser usados da seguinte forma:\n",
    "\n"
   ]
  },
  {
   "cell_type": "code",
   "execution_count": null,
   "metadata": {
    "id": "oljUqsQY1lJo"
   },
   "outputs": [],
   "source": [
    "if 'condição 1':\n",
    "    pass\n",
    "elif 'condição 2':\n",
    "    pass\n",
    "else:\n",
    "    pass"
   ]
  },
  {
   "cell_type": "markdown",
   "metadata": {
    "id": "fE2iAS2e1lJs"
   },
   "source": [
    "No exemplo, o texto 'condição 1' e 'condição 2' representam as condições para que sejam executados a sequencia de códigos definidos dentro do **if** e **elif**. Dessa forma, caso a condição for verdadeira, o bloco de código interna é executada. Caso a condição for falsa, o bloco de código **else** é executado\n",
    "\n",
    "\n",
    "Para exemplificar, utilizaremos como exemplo uma sequência de código que determina o conceito (A, B, C, D) da nota de um aluno:"
   ]
  },
  {
   "cell_type": "code",
   "execution_count": null,
   "metadata": {
    "colab": {
     "base_uri": "https://localhost:8080/"
    },
    "executionInfo": {
     "elapsed": 5109,
     "status": "ok",
     "timestamp": 1741960937927,
     "user": {
      "displayName": "Julio Cesar dos Reis",
      "userId": "07725049740648948644"
     },
     "user_tz": 180
    },
    "id": "iEofQL0b1lJt",
    "outputId": "00ff470c-d371-4b59-d1e5-8be8cb0e2993"
   },
   "outputs": [],
   "source": [
    "nota = int(input('Entre com a nota do aluno: '))\n",
    "\n",
    "if nota >= 90:\n",
    "    if nota == 100:\n",
    "        print('A+')\n",
    "    else:\n",
    "        print('A')\n",
    "\n",
    "elif nota >= 80:\n",
    "    print('B')\n",
    "\n",
    "elif nota >= 70:\n",
    "    print('C')\n",
    "\n",
    "else:\n",
    "    print('D')"
   ]
  },
  {
   "cell_type": "markdown",
   "metadata": {
    "id": "4O_zPIDf1lJw"
   },
   "source": [
    "## 4.2 Comando while\n",
    "\n",
    "while é utilizado para repetições enquanto uma condição for verdadeira. É utilizado quando não sabemos ao certo a quantidade de iterações préviamente.\n",
    "\n",
    "Ao final da repetição, podemos adicionar um comando else\n",
    "\n",
    "Podemos utilizar **break** para sair da repetição caso necessário\n",
    "\n",
    "Podemos utilizar **continue** para pular uma iteração no laço"
   ]
  },
  {
   "cell_type": "markdown",
   "metadata": {
    "id": "6t0b5zci1lJx"
   },
   "source": [
    "## 4.2.1 while"
   ]
  },
  {
   "cell_type": "code",
   "execution_count": null,
   "metadata": {
    "colab": {
     "base_uri": "https://localhost:8080/"
    },
    "executionInfo": {
     "elapsed": 42,
     "status": "ok",
     "timestamp": 1741960963660,
     "user": {
      "displayName": "Julio Cesar dos Reis",
      "userId": "07725049740648948644"
     },
     "user_tz": 180
    },
    "id": "I1SEY2HW1lJy",
    "outputId": "943c0525-d31f-4f3e-dc60-e5ded3d6e53f"
   },
   "outputs": [],
   "source": [
    "i = 0\n",
    "\n",
    "while i < 10:\n",
    "    i = i + 1\n",
    "    print(i)\n",
    "\n",
    "else:\n",
    "    print('a repetição terminou!')"
   ]
  },
  {
   "cell_type": "markdown",
   "metadata": {
    "id": "EDaH6PBO1lJ0"
   },
   "source": [
    "## 4.2.2 while com continue\n",
    "\n",
    "com o continue, assim que o comando é executado ele vai direto para a próxima iteração da repetição. Assim, tudo que está a baixo do continue não é executado"
   ]
  },
  {
   "cell_type": "code",
   "execution_count": null,
   "metadata": {
    "colab": {
     "base_uri": "https://localhost:8080/"
    },
    "executionInfo": {
     "elapsed": 11,
     "status": "ok",
     "timestamp": 1741960969438,
     "user": {
      "displayName": "Julio Cesar dos Reis",
      "userId": "07725049740648948644"
     },
     "user_tz": 180
    },
    "id": "5LtDUheW1lJ1",
    "outputId": "2e367120-99f5-4e63-fc35-6caa8133be19"
   },
   "outputs": [],
   "source": [
    "i = 0\n",
    "while i < 9:\n",
    "    i = i + 1\n",
    "\n",
    "    if i == 3:\n",
    "        print('pulou iteração! código a baixo do continue não é executado')\n",
    "        continue\n",
    "\n",
    "    print(i)\n"
   ]
  },
  {
   "cell_type": "markdown",
   "metadata": {
    "id": "gaYXz5mS1lJ2"
   },
   "source": [
    "## 4.2.3 while com break\n",
    "\n",
    "com o break, assim que o comando é executado a execução sai da repetição, portanto, nenhuma outra iteração do código é executada"
   ]
  },
  {
   "cell_type": "code",
   "execution_count": null,
   "metadata": {
    "colab": {
     "base_uri": "https://localhost:8080/"
    },
    "executionInfo": {
     "elapsed": 4,
     "status": "ok",
     "timestamp": 1741960993909,
     "user": {
      "displayName": "Julio Cesar dos Reis",
      "userId": "07725049740648948644"
     },
     "user_tz": 180
    },
    "id": "Q_uxjTSz1lJ3",
    "outputId": "f5787f7b-6823-495f-8ccf-e89d52a0603f"
   },
   "outputs": [],
   "source": [
    "i = 0\n",
    "while i < 9:\n",
    "    i = i + 1\n",
    "\n",
    "    if i == 4:\n",
    "        print('Termina a repetição!')\n",
    "        break\n",
    "\n",
    "    print(i)"
   ]
  },
  {
   "cell_type": "markdown",
   "metadata": {
    "id": "aVuyWAIp2po1"
   },
   "source": [
    "**Nota**: Se um comando **break** for executado, o **else** correspondente ao bloco **while** NÃO será executado."
   ]
  },
  {
   "cell_type": "code",
   "execution_count": null,
   "metadata": {
    "colab": {
     "base_uri": "https://localhost:8080/"
    },
    "executionInfo": {
     "elapsed": 4,
     "status": "ok",
     "timestamp": 1741961003181,
     "user": {
      "displayName": "Julio Cesar dos Reis",
      "userId": "07725049740648948644"
     },
     "user_tz": 180
    },
    "id": "2RgGgaPg2wBq",
    "outputId": "de221186-3c78-4ab1-cdab-7aaf3e7f6784"
   },
   "outputs": [],
   "source": [
    "i = 0\n",
    "while i < 9:\n",
    "    i = i + 1\n",
    "\n",
    "    if i == 4:\n",
    "        print('Termina a repetição!')\n",
    "     ##   break\n",
    "\n",
    "    print(i)\n",
    "else:\n",
    "    print(\"O break foi executado, logo essa mensagem não deveria ser impressa...\")"
   ]
  },
  {
   "cell_type": "markdown",
   "metadata": {
    "id": "B8gIP1hh1lJ3"
   },
   "source": [
    "## 4.3 Comando for\n",
    "\n",
    "O for é tipicamente utilizado para iterar sobre elementos de uma sequencia, incluindo: strings, listas, tuplas, ou até mesmo outro objeto iteravél.\n",
    "\n",
    "O comando for possui a seguinte estrutura"
   ]
  },
  {
   "cell_type": "code",
   "execution_count": null,
   "metadata": {
    "id": "m_LJc5uo1lJ4"
   },
   "outputs": [],
   "source": [
    "for variavel in 'sequencia':\n",
    "    pass"
   ]
  },
  {
   "cell_type": "markdown",
   "metadata": {
    "id": "YViC5jIn1lJ5"
   },
   "source": [
    "variavel recebe um valor da 'sequencia' em cada iteração até atingir o final da sequência. Dessa forma, podemos adicionar o bloco de código desejado para cada iteração dentro do for. Por exemplo:"
   ]
  },
  {
   "cell_type": "code",
   "execution_count": null,
   "metadata": {
    "colab": {
     "base_uri": "https://localhost:8080/"
    },
    "executionInfo": {
     "elapsed": 4,
     "status": "ok",
     "timestamp": 1741961023810,
     "user": {
      "displayName": "Julio Cesar dos Reis",
      "userId": "07725049740648948644"
     },
     "user_tz": 180
    },
    "id": "ysdwNSZF1lJ5",
    "outputId": "25859985-26c3-406d-ab72-2ba76daf842b"
   },
   "outputs": [],
   "source": [
    "animais = ['gato', 'cachorro', 'peixe']\n",
    "for i in animais:\n",
    "    print(i)"
   ]
  },
  {
   "cell_type": "markdown",
   "metadata": {
    "id": "gZqsZrbH1lJ6"
   },
   "source": [
    "## 4.4 Laços Aninhados\n",
    "\n",
    "são laços dentro de laços que são definidos para executar operações específicas. Como por exemplo, multiplicação de sequências e matrizes"
   ]
  },
  {
   "cell_type": "code",
   "execution_count": null,
   "metadata": {
    "colab": {
     "base_uri": "https://localhost:8080/"
    },
    "executionInfo": {
     "elapsed": 3,
     "status": "ok",
     "timestamp": 1741961027192,
     "user": {
      "displayName": "Julio Cesar dos Reis",
      "userId": "07725049740648948644"
     },
     "user_tz": 180
    },
    "id": "SgICVs3m1lJ6",
    "outputId": "4d0cb0c9-4e36-4792-e87c-5cc678e85d12"
   },
   "outputs": [],
   "source": [
    "for i in range(1, 10):\n",
    "    for j in range(1, i+1):\n",
    "        print(f'{i}*{j} = {i * j}', end=\" \")\n",
    "    print()"
   ]
  },
  {
   "cell_type": "markdown",
   "metadata": {
    "id": "E-1kA2Xu1lJ7"
   },
   "source": [
    "# 5. Funções\n",
    "\n",
    "Funções são blocos de código que realizam determinadas tarefas que normalmente precisam ser executadas diversas vezes dentro de uma aplicação. Quando surge essa necessidade, para que várias instruções não precisem ser repetidas, elas são agrupadas em uma função, à qual é dado um nome e que poderá ser chamada/executada em diferentes partes do programa."
   ]
  },
  {
   "cell_type": "code",
   "execution_count": 28,
   "metadata": {
    "id": "fA48r13G1lJ7"
   },
   "outputs": [],
   "source": [
    "def minha_funcao():\n",
    "    print('Hello')\n",
    "    print('World')"
   ]
  },
  {
   "cell_type": "code",
   "execution_count": 29,
   "metadata": {
    "colab": {
     "base_uri": "https://localhost:8080/"
    },
    "executionInfo": {
     "elapsed": 4,
     "status": "ok",
     "timestamp": 1741961066035,
     "user": {
      "displayName": "Julio Cesar dos Reis",
      "userId": "07725049740648948644"
     },
     "user_tz": 180
    },
    "id": "SW55TYo01lJ8",
    "outputId": "4b13361c-2583-4059-f4ad-41be89280d90"
   },
   "outputs": [
    {
     "name": "stdout",
     "output_type": "stream",
     "text": [
      "Hello\n",
      "World\n"
     ]
    }
   ],
   "source": [
    "minha_funcao()"
   ]
  },
  {
   "cell_type": "markdown",
   "metadata": {
    "id": "4Dk6Vbq11lJ9"
   },
   "source": [
    "## 5.1 Argumentos\n",
    "\n",
    "são usados para passar dados para a função. Existem diferentes formas de passar esses argumentos. Como por exemplo:\n",
    "\n",
    "* por posição\n",
    "* por padrão\n",
    "* por atributo\n",
    "* de forma arbitrária"
   ]
  },
  {
   "cell_type": "code",
   "execution_count": 27,
   "metadata": {
    "executionInfo": {
     "elapsed": 11,
     "status": "ok",
     "timestamp": 1741975298828,
     "user": {
      "displayName": "Julio Cesar dos Reis",
      "userId": "07725049740648948644"
     },
     "user_tz": 180
    },
    "id": "P7R_F6Wo1lJ9"
   },
   "outputs": [],
   "source": [
    "def funcao(a=128, b=2, *args, **kwargs):\n",
    "    print(f'a: {a}')\n",
    "    print(f'b: {b}')\n",
    "    print(f'args: {args}')\n",
    "\n",
    "    print(\"kwargs:\")\n",
    "    for chave, valor in kwargs.items():\n",
    "        print(f'  {chave} é {valor}')\n",
    "    print()"
   ]
  },
  {
   "cell_type": "markdown",
   "metadata": {
    "id": "n6PtDieH1lJ9"
   },
   "source": [
    "### 5.1.1 Passagem de argumento por padrão\n",
    "\n",
    "Quando valores padrões são definidos esses valores são usados caso nenhum argumento seja passado para a função"
   ]
  },
  {
   "cell_type": "code",
   "execution_count": 30,
   "metadata": {
    "colab": {
     "base_uri": "https://localhost:8080/"
    },
    "executionInfo": {
     "elapsed": 11,
     "status": "ok",
     "timestamp": 1741975312553,
     "user": {
      "displayName": "Julio Cesar dos Reis",
      "userId": "07725049740648948644"
     },
     "user_tz": 180
    },
    "id": "0GuywxJF1lJ-",
    "outputId": "04cf053f-f1d4-4160-e051-acf64b59b23b"
   },
   "outputs": [
    {
     "name": "stdout",
     "output_type": "stream",
     "text": [
      "a: 128\n",
      "b: 2\n",
      "args: ()\n",
      "kwargs:\n",
      "\n"
     ]
    }
   ],
   "source": [
    "funcao()"
   ]
  },
  {
   "cell_type": "markdown",
   "metadata": {
    "id": "8yKR_ODW1lJ_"
   },
   "source": [
    "### 5.1.2 Passagem de argumento por posição\n",
    "\n",
    "Quando a passagem de argumento por posição é usado, a variavel na posição referenciada é substituida na função:"
   ]
  },
  {
   "cell_type": "code",
   "execution_count": 31,
   "metadata": {
    "colab": {
     "base_uri": "https://localhost:8080/"
    },
    "executionInfo": {
     "elapsed": 5,
     "status": "ok",
     "timestamp": 1741960938094,
     "user": {
      "displayName": "Julio Cesar dos Reis",
      "userId": "07725049740648948644"
     },
     "user_tz": 180
    },
    "id": "4Fvf-Dex1lJ_",
    "outputId": "72f09ceb-deda-4551-b629-d37b8bd4e3ba"
   },
   "outputs": [
    {
     "name": "stdout",
     "output_type": "stream",
     "text": [
      "a: 0\n",
      "b: 4\n",
      "args: ()\n",
      "kwargs:\n",
      "\n"
     ]
    }
   ],
   "source": [
    "funcao(0, 4)"
   ]
  },
  {
   "cell_type": "markdown",
   "metadata": {
    "id": "ChPXsY3J1lKA"
   },
   "source": [
    "### 5.1.3 Passagem de argumento por atributo\n",
    "\n",
    "podemos especificar explicitamente o valor de cada atributo, assim não import a posição que os argumentos são passados:"
   ]
  },
  {
   "cell_type": "code",
   "execution_count": 32,
   "metadata": {
    "colab": {
     "base_uri": "https://localhost:8080/"
    },
    "executionInfo": {
     "elapsed": 3,
     "status": "ok",
     "timestamp": 1741960938103,
     "user": {
      "displayName": "Julio Cesar dos Reis",
      "userId": "07725049740648948644"
     },
     "user_tz": 180
    },
    "id": "5_ShVwH-1lKA",
    "outputId": "3ed1b43c-ad34-4e73-afe6-d697cb56ea72"
   },
   "outputs": [
    {
     "name": "stdout",
     "output_type": "stream",
     "text": [
      "a: 0\n",
      "b: 4\n",
      "args: ()\n",
      "kwargs:\n",
      "\n"
     ]
    }
   ],
   "source": [
    "funcao(b=4, a=0)"
   ]
  },
  {
   "cell_type": "markdown",
   "metadata": {
    "id": "hCMcppQT1lKB"
   },
   "source": [
    "### 5.1.4 Passagem de argumentos  arbitrários\n",
    "\n",
    "muitas vezes não sabemos a quantidade de parâmetros que uma função pode receber. Assim, podemos definir uma quantidade arbitrária utilizando um atributo definido com \\*args. Assim, os argumentos excedentes serão atribuidos a variavel args"
   ]
  },
  {
   "cell_type": "code",
   "execution_count": 33,
   "metadata": {
    "colab": {
     "base_uri": "https://localhost:8080/"
    },
    "executionInfo": {
     "elapsed": 3,
     "status": "ok",
     "timestamp": 1741960938107,
     "user": {
      "displayName": "Julio Cesar dos Reis",
      "userId": "07725049740648948644"
     },
     "user_tz": 180
    },
    "id": "0xjKt9Oy1lKB",
    "outputId": "de5fe788-d0f3-446c-c1c5-4ca3e9d18ce1"
   },
   "outputs": [
    {
     "name": "stdout",
     "output_type": "stream",
     "text": [
      "a: 1\n",
      "b: 2\n",
      "args: (3, 4, 5, 6, 7, 8, 9)\n",
      "kwargs:\n",
      "\n"
     ]
    }
   ],
   "source": [
    "funcao(1, 2, 3, 4, 5, 6, 7, 8, 9)"
   ]
  },
  {
   "cell_type": "markdown",
   "metadata": {
    "id": "D9YELdlF1lKB"
   },
   "source": [
    "### 5.1.5 Passagem atributos arbitrários\n",
    "\n",
    "da mesma forma, podemos passar novos atributos de forma arbitrária para a função que serão recebidos pelo argumento \\*\\*kwargs"
   ]
  },
  {
   "cell_type": "code",
   "execution_count": null,
   "metadata": {
    "colab": {
     "base_uri": "https://localhost:8080/"
    },
    "executionInfo": {
     "elapsed": 7,
     "status": "ok",
     "timestamp": 1741975516757,
     "user": {
      "displayName": "Julio Cesar dos Reis",
      "userId": "07725049740648948644"
     },
     "user_tz": 180
    },
    "id": "aKz8Iypt1lKC",
    "outputId": "2d10d963-e95e-4ebc-afd8-cdd04ef181cb"
   },
   "outputs": [],
   "source": [
    "funcao(gato='animal', cachorro='animal', peixe='animal')"
   ]
  },
  {
   "cell_type": "markdown",
   "metadata": {
    "id": "IaoB1jTN1lKD"
   },
   "source": [
    "## 5.2 Retorno de Funções\n",
    "\n",
    "Uma função também pode retornar valores quando forem chamadas. Esse retorno pode ser tanto um valor simples, quanto uma lista de valores"
   ]
  },
  {
   "cell_type": "code",
   "execution_count": null,
   "metadata": {
    "executionInfo": {
     "elapsed": 2,
     "status": "ok",
     "timestamp": 1741975526805,
     "user": {
      "displayName": "Julio Cesar dos Reis",
      "userId": "07725049740648948644"
     },
     "user_tz": 180
    },
    "id": "ls6AtQ1w1lKE"
   },
   "outputs": [],
   "source": [
    "def retorna_um_valor(a, b):\n",
    "    return a + b"
   ]
  },
  {
   "cell_type": "code",
   "execution_count": null,
   "metadata": {
    "colab": {
     "base_uri": "https://localhost:8080/"
    },
    "executionInfo": {
     "elapsed": 5,
     "status": "ok",
     "timestamp": 1741975527490,
     "user": {
      "displayName": "Julio Cesar dos Reis",
      "userId": "07725049740648948644"
     },
     "user_tz": 180
    },
    "id": "dYSmG20-1lKE",
    "outputId": "97fed89a-5b20-4fcd-dbdb-6f5cc146a1f3"
   },
   "outputs": [],
   "source": [
    "a = retorna_um_valor(10, 20)\n",
    "print(f'a: {a}')"
   ]
  },
  {
   "cell_type": "code",
   "execution_count": null,
   "metadata": {
    "executionInfo": {
     "elapsed": 42,
     "status": "ok",
     "timestamp": 1741975567585,
     "user": {
      "displayName": "Julio Cesar dos Reis",
      "userId": "07725049740648948644"
     },
     "user_tz": 180
    },
    "id": "17Ng9JoA1lKF"
   },
   "outputs": [],
   "source": [
    "def retorna_dois_valores(a, b):\n",
    "    return a*2, b*2"
   ]
  },
  {
   "cell_type": "code",
   "execution_count": null,
   "metadata": {
    "colab": {
     "base_uri": "https://localhost:8080/"
    },
    "executionInfo": {
     "elapsed": 7,
     "status": "ok",
     "timestamp": 1741975571332,
     "user": {
      "displayName": "Julio Cesar dos Reis",
      "userId": "07725049740648948644"
     },
     "user_tz": 180
    },
    "id": "hqPMfw5C1lKF",
    "outputId": "ffd0940b-db3a-4085-da52-7e042cda4843"
   },
   "outputs": [],
   "source": [
    "a, b = retorna_dois_valores(10, 20)\n",
    "print(f'a: {a}')\n",
    "print(f'b: {b}')"
   ]
  },
  {
   "cell_type": "markdown",
   "metadata": {
    "id": "2e16vuSB1lKG"
   },
   "source": [
    "## 5.3 Função Lambda\n",
    "\n",
    "Em Python, usamos a palavra-chave lambda para declarar uma função anônima, e é por isso que nos referimos a elas como \"funções lambda\". Uma função anônima se refere a uma função declarada sem nome."
   ]
  },
  {
   "cell_type": "code",
   "execution_count": null,
   "metadata": {
    "colab": {
     "base_uri": "https://localhost:8080/"
    },
    "executionInfo": {
     "elapsed": 13,
     "status": "ok",
     "timestamp": 1741975583248,
     "user": {
      "displayName": "Julio Cesar dos Reis",
      "userId": "07725049740648948644"
     },
     "user_tz": 180
    },
    "id": "nqOxODKu1lKU",
    "outputId": "3e90bf53-acd2-475f-be4b-783f6da2e387"
   },
   "outputs": [],
   "source": [
    "multiplicar = lambda x,y: x*y\n",
    "multiplicar(10,20)"
   ]
  },
  {
   "cell_type": "markdown",
   "metadata": {
    "id": "7Dlec7H41lKU"
   },
   "source": [
    "## 5.4 Função Map\n",
    "A função map () executa uma função especificada para cada item em um iterável. O item é enviado para a função como parâmetro."
   ]
  },
  {
   "cell_type": "code",
   "execution_count": null,
   "metadata": {
    "colab": {
     "base_uri": "https://localhost:8080/"
    },
    "executionInfo": {
     "elapsed": 20,
     "status": "ok",
     "timestamp": 1741975646897,
     "user": {
      "displayName": "Julio Cesar dos Reis",
      "userId": "07725049740648948644"
     },
     "user_tz": 180
    },
    "id": "zHebse4K1lKV",
    "outputId": "c21af40a-6fda-4e0b-a27a-3f25124f5d30"
   },
   "outputs": [],
   "source": [
    "conta_letras = lambda x: len(x)\n",
    "contagem     = map(conta_letras, ['banana', 'maça', 'uva'])\n",
    "print(list(contagem))"
   ]
  },
  {
   "cell_type": "code",
   "execution_count": null,
   "metadata": {
    "id": "5pJn6_o81lKW"
   },
   "outputs": [],
   "source": []
  }
 ],
 "metadata": {
  "colab": {
   "provenance": []
  },
  "kernelspec": {
   "display_name": "Python 3",
   "language": "python",
   "name": "python3"
  },
  "language_info": {
   "codemirror_mode": {
    "name": "ipython",
    "version": 3
   },
   "file_extension": ".py",
   "mimetype": "text/x-python",
   "name": "python",
   "nbconvert_exporter": "python",
   "pygments_lexer": "ipython3",
   "version": "3.13.2"
  }
 },
 "nbformat": 4,
 "nbformat_minor": 0
}
