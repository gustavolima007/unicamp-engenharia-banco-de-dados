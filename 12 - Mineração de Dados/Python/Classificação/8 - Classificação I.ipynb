{
 "cells": [
  {
   "cell_type": "markdown",
   "metadata": {
    "id": "oTES7xhlDisR"
   },
   "source": [
    "# Prática com Classificação de Dados\n",
    "\n",
    "Neste notebook trabalhamos os conceitos aprendidos ao analisar um dataset que contem dados sobre células que representam, ou não, câncer de mama."
   ]
  },
  {
   "cell_type": "markdown",
   "metadata": {
    "id": "OiTboofQDisT"
   },
   "source": [
    "## Importando as bibliotecas necessárias e realizando o tratamento inicial dos dados\n",
    "\n",
    "A partir de agora, utilizaremos a biblioteca Scikit-Learn (`sklearn`) https://scikit-learn.org/stable/getting_started.html, que provê ferramentas simples e eficientes para análises de predição de dados.\n",
    "\n",
    "Em nosso exemplo, a última coluna do dataset, `Class`, indica `0` se não é câncer ou `1` se é câncer.\n",
    "\n",
    "Nosso objetivo é ler os dados, efetuar tratamento dos dados (e.g., verificar se há algum dado faltante e/ou realizar sua remoção.\n",
    "\n",
    "Note que nem sempre **remover** toda uma linha de um dataset por conta da ausência de um único dado nela é a melhor estratégia, pois os demais que serão excluídos *poderiam* ser úteis no treinamento do modelo para predizer o que se deseja. Nesses casos, uma opção é substituir valores ausentes pela média dos demais da mesma coluna (uma possível estrategia), mas note que isso só funciona para valores numéricos.\n",
    "\n",
    "Para efeitos de simplicidade deste exemplo, vamos apenas deletar as linhas."
   ]
  },
  {
   "cell_type": "code",
   "execution_count": null,
   "metadata": {
    "colab": {
     "base_uri": "https://localhost:8080/"
    },
    "executionInfo": {
     "elapsed": 8761,
     "status": "ok",
     "timestamp": 1742582547520,
     "user": {
      "displayName": "Julio Cesar dos Reis",
      "userId": "07725049740648948644"
     },
     "user_tz": 180
    },
    "id": "fMmAEQAMDxbQ",
    "outputId": "b210640b-b70e-4271-ff5a-dcec6ab5109c"
   },
   "outputs": [],
   "source": [
    "!pip install pandas\n",
    "!pip install scikit-learn\n",
    "!pip install matplotlib"
   ]
  },
  {
   "cell_type": "code",
   "execution_count": 1,
   "metadata": {
    "id": "3RTBeTWaDisT"
   },
   "outputs": [],
   "source": [
    "import pandas as pd\n",
    "import matplotlib.pyplot as plt\n",
    "from sklearn.model_selection import train_test_split\n",
    "from sklearn.tree import DecisionTreeClassifier\n",
    "from sklearn import tree\n",
    "from sklearn.metrics import accuracy_score"
   ]
  },
  {
   "cell_type": "markdown",
   "metadata": {
    "id": "moUKLlM_I37Q"
   },
   "source": [
    "\n",
    "## Upload e tratamento dos dados\n"
   ]
  },
  {
   "cell_type": "code",
   "execution_count": 7,
   "metadata": {
    "colab": {
     "base_uri": "https://localhost:8080/",
     "height": 91
    },
    "executionInfo": {
     "elapsed": 9257,
     "status": "ok",
     "timestamp": 1742582560500,
     "user": {
      "displayName": "Julio Cesar dos Reis",
      "userId": "07725049740648948644"
     },
     "user_tz": 180
    },
    "id": "J_bRagRDIfJF",
    "outputId": "5044da83-0cf5-4c0d-949e-2d49247b993e"
   },
   "outputs": [],
   "source": [
    "import os\n",
    "\n",
    "uploaded = r\"E:\\Github\\unicamp-engenharia-banco-de-dados\\12 - Mineração de Dados\\Python\\Classificação\\BreastCancer.csv\"\n",
    "\n",
    "# for fn in uploaded.keys():\n",
    "#   print('User uploaded file \"{name}\" with length {length} bytes'.format(\n",
    "#       name=fn, length=len(uploaded[fn])))"
   ]
  },
  {
   "cell_type": "code",
   "execution_count": 8,
   "metadata": {
    "colab": {
     "base_uri": "https://localhost:8080/",
     "height": 424
    },
    "executionInfo": {
     "elapsed": 187,
     "status": "ok",
     "timestamp": 1742582562515,
     "user": {
      "displayName": "Julio Cesar dos Reis",
      "userId": "07725049740648948644"
     },
     "user_tz": 180
    },
    "id": "IDlOm-NQDisU",
    "outputId": "84708e52-c56b-4065-dbe4-f239ac91e0c8"
   },
   "outputs": [
    {
     "data": {
      "application/vnd.microsoft.datawrangler.viewer.v0+json": {
       "columns": [
        {
         "name": "index",
         "rawType": "int64",
         "type": "integer"
        },
        {
         "name": "Id",
         "rawType": "int64",
         "type": "integer"
        },
        {
         "name": "Cl.thickness",
         "rawType": "int64",
         "type": "integer"
        },
        {
         "name": "Cell.size",
         "rawType": "int64",
         "type": "integer"
        },
        {
         "name": "Cell.shape",
         "rawType": "int64",
         "type": "integer"
        },
        {
         "name": "Marg.adhesion",
         "rawType": "int64",
         "type": "integer"
        },
        {
         "name": "Epith.c.size",
         "rawType": "int64",
         "type": "integer"
        },
        {
         "name": "Bare.nuclei",
         "rawType": "float64",
         "type": "float"
        },
        {
         "name": "Bl.cromatin",
         "rawType": "int64",
         "type": "integer"
        },
        {
         "name": "Normal.nucleoli",
         "rawType": "int64",
         "type": "integer"
        },
        {
         "name": "Mitoses",
         "rawType": "int64",
         "type": "integer"
        },
        {
         "name": "Class",
         "rawType": "int64",
         "type": "integer"
        }
       ],
       "conversionMethod": "pd.DataFrame",
       "ref": "8b582378-56b4-4731-8337-1f2b7d50b91d",
       "rows": [
        [
         "0",
         "1000025",
         "5",
         "1",
         "1",
         "1",
         "2",
         "1.0",
         "3",
         "1",
         "1",
         "0"
        ],
        [
         "1",
         "1002945",
         "5",
         "4",
         "4",
         "5",
         "7",
         "10.0",
         "3",
         "2",
         "1",
         "0"
        ],
        [
         "2",
         "1015425",
         "3",
         "1",
         "1",
         "1",
         "2",
         "2.0",
         "3",
         "1",
         "1",
         "0"
        ],
        [
         "3",
         "1016277",
         "6",
         "8",
         "8",
         "1",
         "3",
         "4.0",
         "3",
         "7",
         "1",
         "0"
        ],
        [
         "4",
         "1017023",
         "4",
         "1",
         "1",
         "3",
         "2",
         "1.0",
         "3",
         "1",
         "1",
         "0"
        ],
        [
         "5",
         "1017122",
         "8",
         "10",
         "10",
         "8",
         "7",
         "10.0",
         "9",
         "7",
         "1",
         "1"
        ],
        [
         "6",
         "1018099",
         "1",
         "1",
         "1",
         "1",
         "2",
         "10.0",
         "3",
         "1",
         "1",
         "0"
        ],
        [
         "7",
         "1018561",
         "2",
         "1",
         "2",
         "1",
         "2",
         "1.0",
         "3",
         "1",
         "1",
         "0"
        ],
        [
         "8",
         "1033078",
         "2",
         "1",
         "1",
         "1",
         "2",
         "1.0",
         "1",
         "1",
         "5",
         "0"
        ],
        [
         "9",
         "1033078",
         "4",
         "2",
         "1",
         "1",
         "2",
         "1.0",
         "2",
         "1",
         "1",
         "0"
        ],
        [
         "10",
         "1035283",
         "1",
         "1",
         "1",
         "1",
         "1",
         "1.0",
         "3",
         "1",
         "1",
         "0"
        ],
        [
         "11",
         "1036172",
         "2",
         "1",
         "1",
         "1",
         "2",
         "1.0",
         "2",
         "1",
         "1",
         "0"
        ],
        [
         "12",
         "1041801",
         "5",
         "3",
         "3",
         "3",
         "2",
         "3.0",
         "4",
         "4",
         "1",
         "1"
        ],
        [
         "13",
         "1043999",
         "1",
         "1",
         "1",
         "1",
         "2",
         "3.0",
         "3",
         "1",
         "1",
         "0"
        ],
        [
         "14",
         "1044572",
         "8",
         "7",
         "5",
         "10",
         "7",
         "9.0",
         "5",
         "5",
         "4",
         "1"
        ],
        [
         "15",
         "1047630",
         "7",
         "4",
         "6",
         "4",
         "6",
         "1.0",
         "4",
         "3",
         "1",
         "1"
        ],
        [
         "16",
         "1048672",
         "4",
         "1",
         "1",
         "1",
         "2",
         "1.0",
         "2",
         "1",
         "1",
         "0"
        ],
        [
         "17",
         "1049815",
         "4",
         "1",
         "1",
         "1",
         "2",
         "1.0",
         "3",
         "1",
         "1",
         "0"
        ],
        [
         "18",
         "1050670",
         "10",
         "7",
         "7",
         "6",
         "4",
         "10.0",
         "4",
         "1",
         "2",
         "1"
        ],
        [
         "19",
         "1050718",
         "6",
         "1",
         "1",
         "1",
         "2",
         "1.0",
         "3",
         "1",
         "1",
         "0"
        ],
        [
         "20",
         "1054590",
         "7",
         "3",
         "2",
         "10",
         "5",
         "10.0",
         "5",
         "4",
         "4",
         "1"
        ],
        [
         "21",
         "1054593",
         "10",
         "5",
         "5",
         "3",
         "6",
         "7.0",
         "7",
         "10",
         "1",
         "1"
        ],
        [
         "22",
         "1056784",
         "3",
         "1",
         "1",
         "1",
         "2",
         "1.0",
         "2",
         "1",
         "1",
         "0"
        ],
        [
         "23",
         "1057013",
         "8",
         "4",
         "5",
         "1",
         "2",
         null,
         "7",
         "3",
         "1",
         "1"
        ],
        [
         "24",
         "1059552",
         "1",
         "1",
         "1",
         "1",
         "2",
         "1.0",
         "3",
         "1",
         "1",
         "0"
        ],
        [
         "25",
         "1065726",
         "5",
         "2",
         "3",
         "4",
         "2",
         "7.0",
         "3",
         "6",
         "1",
         "1"
        ],
        [
         "26",
         "1066373",
         "3",
         "2",
         "1",
         "1",
         "1",
         "1.0",
         "2",
         "1",
         "1",
         "0"
        ],
        [
         "27",
         "1066979",
         "5",
         "1",
         "1",
         "1",
         "2",
         "1.0",
         "2",
         "1",
         "1",
         "0"
        ],
        [
         "28",
         "1067444",
         "2",
         "1",
         "1",
         "1",
         "2",
         "1.0",
         "2",
         "1",
         "1",
         "0"
        ],
        [
         "29",
         "1070935",
         "1",
         "1",
         "3",
         "1",
         "2",
         "1.0",
         "1",
         "1",
         "1",
         "0"
        ],
        [
         "30",
         "1070935",
         "3",
         "1",
         "1",
         "1",
         "1",
         "1.0",
         "2",
         "1",
         "1",
         "0"
        ],
        [
         "31",
         "1071760",
         "2",
         "1",
         "1",
         "1",
         "2",
         "1.0",
         "3",
         "1",
         "1",
         "0"
        ],
        [
         "32",
         "1072179",
         "10",
         "7",
         "7",
         "3",
         "8",
         "5.0",
         "7",
         "4",
         "3",
         "1"
        ],
        [
         "33",
         "1074610",
         "2",
         "1",
         "1",
         "2",
         "2",
         "1.0",
         "3",
         "1",
         "1",
         "0"
        ],
        [
         "34",
         "1075123",
         "3",
         "1",
         "2",
         "1",
         "2",
         "1.0",
         "2",
         "1",
         "1",
         "0"
        ],
        [
         "35",
         "1079304",
         "2",
         "1",
         "1",
         "1",
         "2",
         "1.0",
         "2",
         "1",
         "1",
         "0"
        ],
        [
         "36",
         "1080185",
         "10",
         "10",
         "10",
         "8",
         "6",
         "1.0",
         "8",
         "9",
         "1",
         "1"
        ],
        [
         "37",
         "1081791",
         "6",
         "2",
         "1",
         "1",
         "1",
         "1.0",
         "7",
         "1",
         "1",
         "0"
        ],
        [
         "38",
         "1084584",
         "5",
         "4",
         "4",
         "9",
         "2",
         "10.0",
         "5",
         "6",
         "1",
         "1"
        ],
        [
         "39",
         "1091262",
         "2",
         "5",
         "3",
         "3",
         "6",
         "7.0",
         "7",
         "5",
         "1",
         "1"
        ],
        [
         "40",
         "1096800",
         "6",
         "6",
         "6",
         "9",
         "6",
         null,
         "7",
         "8",
         "1",
         "0"
        ],
        [
         "41",
         "1099510",
         "10",
         "4",
         "3",
         "1",
         "3",
         "3.0",
         "6",
         "5",
         "2",
         "1"
        ],
        [
         "42",
         "1100524",
         "6",
         "10",
         "10",
         "2",
         "8",
         "10.0",
         "7",
         "3",
         "3",
         "1"
        ],
        [
         "43",
         "1102573",
         "5",
         "6",
         "5",
         "6",
         "10",
         "1.0",
         "3",
         "1",
         "1",
         "1"
        ],
        [
         "44",
         "1103608",
         "10",
         "10",
         "10",
         "4",
         "8",
         "1.0",
         "8",
         "10",
         "1",
         "1"
        ],
        [
         "45",
         "1103722",
         "1",
         "1",
         "1",
         "1",
         "2",
         "1.0",
         "2",
         "1",
         "2",
         "0"
        ],
        [
         "46",
         "1105257",
         "3",
         "7",
         "7",
         "4",
         "4",
         "9.0",
         "4",
         "8",
         "1",
         "1"
        ],
        [
         "47",
         "1105524",
         "1",
         "1",
         "1",
         "1",
         "2",
         "1.0",
         "2",
         "1",
         "1",
         "0"
        ],
        [
         "48",
         "1106095",
         "4",
         "1",
         "1",
         "3",
         "2",
         "1.0",
         "3",
         "1",
         "1",
         "0"
        ],
        [
         "49",
         "1106829",
         "7",
         "8",
         "7",
         "2",
         "4",
         "8.0",
         "3",
         "8",
         "2",
         "1"
        ]
       ],
       "shape": {
        "columns": 11,
        "rows": 699
       }
      },
      "text/html": [
       "<div>\n",
       "<style scoped>\n",
       "    .dataframe tbody tr th:only-of-type {\n",
       "        vertical-align: middle;\n",
       "    }\n",
       "\n",
       "    .dataframe tbody tr th {\n",
       "        vertical-align: top;\n",
       "    }\n",
       "\n",
       "    .dataframe thead th {\n",
       "        text-align: right;\n",
       "    }\n",
       "</style>\n",
       "<table border=\"1\" class=\"dataframe\">\n",
       "  <thead>\n",
       "    <tr style=\"text-align: right;\">\n",
       "      <th></th>\n",
       "      <th>Id</th>\n",
       "      <th>Cl.thickness</th>\n",
       "      <th>Cell.size</th>\n",
       "      <th>Cell.shape</th>\n",
       "      <th>Marg.adhesion</th>\n",
       "      <th>Epith.c.size</th>\n",
       "      <th>Bare.nuclei</th>\n",
       "      <th>Bl.cromatin</th>\n",
       "      <th>Normal.nucleoli</th>\n",
       "      <th>Mitoses</th>\n",
       "      <th>Class</th>\n",
       "    </tr>\n",
       "  </thead>\n",
       "  <tbody>\n",
       "    <tr>\n",
       "      <th>0</th>\n",
       "      <td>1000025</td>\n",
       "      <td>5</td>\n",
       "      <td>1</td>\n",
       "      <td>1</td>\n",
       "      <td>1</td>\n",
       "      <td>2</td>\n",
       "      <td>1.0</td>\n",
       "      <td>3</td>\n",
       "      <td>1</td>\n",
       "      <td>1</td>\n",
       "      <td>0</td>\n",
       "    </tr>\n",
       "    <tr>\n",
       "      <th>1</th>\n",
       "      <td>1002945</td>\n",
       "      <td>5</td>\n",
       "      <td>4</td>\n",
       "      <td>4</td>\n",
       "      <td>5</td>\n",
       "      <td>7</td>\n",
       "      <td>10.0</td>\n",
       "      <td>3</td>\n",
       "      <td>2</td>\n",
       "      <td>1</td>\n",
       "      <td>0</td>\n",
       "    </tr>\n",
       "    <tr>\n",
       "      <th>2</th>\n",
       "      <td>1015425</td>\n",
       "      <td>3</td>\n",
       "      <td>1</td>\n",
       "      <td>1</td>\n",
       "      <td>1</td>\n",
       "      <td>2</td>\n",
       "      <td>2.0</td>\n",
       "      <td>3</td>\n",
       "      <td>1</td>\n",
       "      <td>1</td>\n",
       "      <td>0</td>\n",
       "    </tr>\n",
       "    <tr>\n",
       "      <th>3</th>\n",
       "      <td>1016277</td>\n",
       "      <td>6</td>\n",
       "      <td>8</td>\n",
       "      <td>8</td>\n",
       "      <td>1</td>\n",
       "      <td>3</td>\n",
       "      <td>4.0</td>\n",
       "      <td>3</td>\n",
       "      <td>7</td>\n",
       "      <td>1</td>\n",
       "      <td>0</td>\n",
       "    </tr>\n",
       "    <tr>\n",
       "      <th>4</th>\n",
       "      <td>1017023</td>\n",
       "      <td>4</td>\n",
       "      <td>1</td>\n",
       "      <td>1</td>\n",
       "      <td>3</td>\n",
       "      <td>2</td>\n",
       "      <td>1.0</td>\n",
       "      <td>3</td>\n",
       "      <td>1</td>\n",
       "      <td>1</td>\n",
       "      <td>0</td>\n",
       "    </tr>\n",
       "    <tr>\n",
       "      <th>...</th>\n",
       "      <td>...</td>\n",
       "      <td>...</td>\n",
       "      <td>...</td>\n",
       "      <td>...</td>\n",
       "      <td>...</td>\n",
       "      <td>...</td>\n",
       "      <td>...</td>\n",
       "      <td>...</td>\n",
       "      <td>...</td>\n",
       "      <td>...</td>\n",
       "      <td>...</td>\n",
       "    </tr>\n",
       "    <tr>\n",
       "      <th>694</th>\n",
       "      <td>776715</td>\n",
       "      <td>3</td>\n",
       "      <td>1</td>\n",
       "      <td>1</td>\n",
       "      <td>1</td>\n",
       "      <td>3</td>\n",
       "      <td>2.0</td>\n",
       "      <td>1</td>\n",
       "      <td>1</td>\n",
       "      <td>1</td>\n",
       "      <td>0</td>\n",
       "    </tr>\n",
       "    <tr>\n",
       "      <th>695</th>\n",
       "      <td>841769</td>\n",
       "      <td>2</td>\n",
       "      <td>1</td>\n",
       "      <td>1</td>\n",
       "      <td>1</td>\n",
       "      <td>2</td>\n",
       "      <td>1.0</td>\n",
       "      <td>1</td>\n",
       "      <td>1</td>\n",
       "      <td>1</td>\n",
       "      <td>0</td>\n",
       "    </tr>\n",
       "    <tr>\n",
       "      <th>696</th>\n",
       "      <td>888820</td>\n",
       "      <td>5</td>\n",
       "      <td>10</td>\n",
       "      <td>10</td>\n",
       "      <td>3</td>\n",
       "      <td>7</td>\n",
       "      <td>3.0</td>\n",
       "      <td>8</td>\n",
       "      <td>10</td>\n",
       "      <td>2</td>\n",
       "      <td>1</td>\n",
       "    </tr>\n",
       "    <tr>\n",
       "      <th>697</th>\n",
       "      <td>897471</td>\n",
       "      <td>4</td>\n",
       "      <td>8</td>\n",
       "      <td>6</td>\n",
       "      <td>4</td>\n",
       "      <td>3</td>\n",
       "      <td>4.0</td>\n",
       "      <td>10</td>\n",
       "      <td>6</td>\n",
       "      <td>1</td>\n",
       "      <td>1</td>\n",
       "    </tr>\n",
       "    <tr>\n",
       "      <th>698</th>\n",
       "      <td>897471</td>\n",
       "      <td>4</td>\n",
       "      <td>8</td>\n",
       "      <td>8</td>\n",
       "      <td>5</td>\n",
       "      <td>4</td>\n",
       "      <td>5.0</td>\n",
       "      <td>10</td>\n",
       "      <td>4</td>\n",
       "      <td>1</td>\n",
       "      <td>1</td>\n",
       "    </tr>\n",
       "  </tbody>\n",
       "</table>\n",
       "<p>699 rows × 11 columns</p>\n",
       "</div>"
      ],
      "text/plain": [
       "          Id  Cl.thickness  Cell.size  Cell.shape  Marg.adhesion  \\\n",
       "0    1000025             5          1           1              1   \n",
       "1    1002945             5          4           4              5   \n",
       "2    1015425             3          1           1              1   \n",
       "3    1016277             6          8           8              1   \n",
       "4    1017023             4          1           1              3   \n",
       "..       ...           ...        ...         ...            ...   \n",
       "694   776715             3          1           1              1   \n",
       "695   841769             2          1           1              1   \n",
       "696   888820             5         10          10              3   \n",
       "697   897471             4          8           6              4   \n",
       "698   897471             4          8           8              5   \n",
       "\n",
       "     Epith.c.size  Bare.nuclei  Bl.cromatin  Normal.nucleoli  Mitoses  Class  \n",
       "0               2          1.0            3                1        1      0  \n",
       "1               7         10.0            3                2        1      0  \n",
       "2               2          2.0            3                1        1      0  \n",
       "3               3          4.0            3                7        1      0  \n",
       "4               2          1.0            3                1        1      0  \n",
       "..            ...          ...          ...              ...      ...    ...  \n",
       "694             3          2.0            1                1        1      0  \n",
       "695             2          1.0            1                1        1      0  \n",
       "696             7          3.0            8               10        2      1  \n",
       "697             3          4.0           10                6        1      1  \n",
       "698             4          5.0           10                4        1      1  \n",
       "\n",
       "[699 rows x 11 columns]"
      ]
     },
     "execution_count": 8,
     "metadata": {},
     "output_type": "execute_result"
    }
   ],
   "source": [
    "df = pd.read_csv(\"BreastCancer.csv\")\n",
    "df"
   ]
  },
  {
   "cell_type": "code",
   "execution_count": 9,
   "metadata": {
    "colab": {
     "base_uri": "https://localhost:8080/",
     "height": 429
    },
    "executionInfo": {
     "elapsed": 9,
     "status": "ok",
     "timestamp": 1742582565703,
     "user": {
      "displayName": "Julio Cesar dos Reis",
      "userId": "07725049740648948644"
     },
     "user_tz": 180
    },
    "id": "QKqhWq5zDisU",
    "outputId": "6a486a70-f30d-466a-a6c9-54b22f3ec50f"
   },
   "outputs": [
    {
     "data": {
      "text/plain": [
       "Id                  0\n",
       "Cl.thickness        0\n",
       "Cell.size           0\n",
       "Cell.shape          0\n",
       "Marg.adhesion       0\n",
       "Epith.c.size        0\n",
       "Bare.nuclei        16\n",
       "Bl.cromatin         0\n",
       "Normal.nucleoli     0\n",
       "Mitoses             0\n",
       "Class               0\n",
       "dtype: int64"
      ]
     },
     "execution_count": 9,
     "metadata": {},
     "output_type": "execute_result"
    }
   ],
   "source": [
    "df.isnull().sum()"
   ]
  },
  {
   "cell_type": "code",
   "execution_count": 10,
   "metadata": {
    "colab": {
     "base_uri": "https://localhost:8080/",
     "height": 424
    },
    "executionInfo": {
     "elapsed": 141,
     "status": "ok",
     "timestamp": 1742582589498,
     "user": {
      "displayName": "Julio Cesar dos Reis",
      "userId": "07725049740648948644"
     },
     "user_tz": 180
    },
    "id": "zrkvpz0sDisU",
    "outputId": "b9692c12-4177-42ca-d06e-a7de214768e1"
   },
   "outputs": [
    {
     "data": {
      "application/vnd.microsoft.datawrangler.viewer.v0+json": {
       "columns": [
        {
         "name": "index",
         "rawType": "int64",
         "type": "integer"
        },
        {
         "name": "Id",
         "rawType": "int64",
         "type": "integer"
        },
        {
         "name": "Cl.thickness",
         "rawType": "int64",
         "type": "integer"
        },
        {
         "name": "Cell.size",
         "rawType": "int64",
         "type": "integer"
        },
        {
         "name": "Cell.shape",
         "rawType": "int64",
         "type": "integer"
        },
        {
         "name": "Marg.adhesion",
         "rawType": "int64",
         "type": "integer"
        },
        {
         "name": "Epith.c.size",
         "rawType": "int64",
         "type": "integer"
        },
        {
         "name": "Bare.nuclei",
         "rawType": "float64",
         "type": "float"
        },
        {
         "name": "Bl.cromatin",
         "rawType": "int64",
         "type": "integer"
        },
        {
         "name": "Normal.nucleoli",
         "rawType": "int64",
         "type": "integer"
        },
        {
         "name": "Mitoses",
         "rawType": "int64",
         "type": "integer"
        },
        {
         "name": "Class",
         "rawType": "int64",
         "type": "integer"
        }
       ],
       "conversionMethod": "pd.DataFrame",
       "ref": "1e2d5a53-fb8c-46d6-9d55-b3b1b3b3bd56",
       "rows": [
        [
         "0",
         "1000025",
         "5",
         "1",
         "1",
         "1",
         "2",
         "1.0",
         "3",
         "1",
         "1",
         "0"
        ],
        [
         "1",
         "1002945",
         "5",
         "4",
         "4",
         "5",
         "7",
         "10.0",
         "3",
         "2",
         "1",
         "0"
        ],
        [
         "2",
         "1015425",
         "3",
         "1",
         "1",
         "1",
         "2",
         "2.0",
         "3",
         "1",
         "1",
         "0"
        ],
        [
         "3",
         "1016277",
         "6",
         "8",
         "8",
         "1",
         "3",
         "4.0",
         "3",
         "7",
         "1",
         "0"
        ],
        [
         "4",
         "1017023",
         "4",
         "1",
         "1",
         "3",
         "2",
         "1.0",
         "3",
         "1",
         "1",
         "0"
        ],
        [
         "5",
         "1017122",
         "8",
         "10",
         "10",
         "8",
         "7",
         "10.0",
         "9",
         "7",
         "1",
         "1"
        ],
        [
         "6",
         "1018099",
         "1",
         "1",
         "1",
         "1",
         "2",
         "10.0",
         "3",
         "1",
         "1",
         "0"
        ],
        [
         "7",
         "1018561",
         "2",
         "1",
         "2",
         "1",
         "2",
         "1.0",
         "3",
         "1",
         "1",
         "0"
        ],
        [
         "8",
         "1033078",
         "2",
         "1",
         "1",
         "1",
         "2",
         "1.0",
         "1",
         "1",
         "5",
         "0"
        ],
        [
         "9",
         "1033078",
         "4",
         "2",
         "1",
         "1",
         "2",
         "1.0",
         "2",
         "1",
         "1",
         "0"
        ],
        [
         "10",
         "1035283",
         "1",
         "1",
         "1",
         "1",
         "1",
         "1.0",
         "3",
         "1",
         "1",
         "0"
        ],
        [
         "11",
         "1036172",
         "2",
         "1",
         "1",
         "1",
         "2",
         "1.0",
         "2",
         "1",
         "1",
         "0"
        ],
        [
         "12",
         "1041801",
         "5",
         "3",
         "3",
         "3",
         "2",
         "3.0",
         "4",
         "4",
         "1",
         "1"
        ],
        [
         "13",
         "1043999",
         "1",
         "1",
         "1",
         "1",
         "2",
         "3.0",
         "3",
         "1",
         "1",
         "0"
        ],
        [
         "14",
         "1044572",
         "8",
         "7",
         "5",
         "10",
         "7",
         "9.0",
         "5",
         "5",
         "4",
         "1"
        ],
        [
         "15",
         "1047630",
         "7",
         "4",
         "6",
         "4",
         "6",
         "1.0",
         "4",
         "3",
         "1",
         "1"
        ],
        [
         "16",
         "1048672",
         "4",
         "1",
         "1",
         "1",
         "2",
         "1.0",
         "2",
         "1",
         "1",
         "0"
        ],
        [
         "17",
         "1049815",
         "4",
         "1",
         "1",
         "1",
         "2",
         "1.0",
         "3",
         "1",
         "1",
         "0"
        ],
        [
         "18",
         "1050670",
         "10",
         "7",
         "7",
         "6",
         "4",
         "10.0",
         "4",
         "1",
         "2",
         "1"
        ],
        [
         "19",
         "1050718",
         "6",
         "1",
         "1",
         "1",
         "2",
         "1.0",
         "3",
         "1",
         "1",
         "0"
        ],
        [
         "20",
         "1054590",
         "7",
         "3",
         "2",
         "10",
         "5",
         "10.0",
         "5",
         "4",
         "4",
         "1"
        ],
        [
         "21",
         "1054593",
         "10",
         "5",
         "5",
         "3",
         "6",
         "7.0",
         "7",
         "10",
         "1",
         "1"
        ],
        [
         "22",
         "1056784",
         "3",
         "1",
         "1",
         "1",
         "2",
         "1.0",
         "2",
         "1",
         "1",
         "0"
        ],
        [
         "24",
         "1059552",
         "1",
         "1",
         "1",
         "1",
         "2",
         "1.0",
         "3",
         "1",
         "1",
         "0"
        ],
        [
         "25",
         "1065726",
         "5",
         "2",
         "3",
         "4",
         "2",
         "7.0",
         "3",
         "6",
         "1",
         "1"
        ],
        [
         "26",
         "1066373",
         "3",
         "2",
         "1",
         "1",
         "1",
         "1.0",
         "2",
         "1",
         "1",
         "0"
        ],
        [
         "27",
         "1066979",
         "5",
         "1",
         "1",
         "1",
         "2",
         "1.0",
         "2",
         "1",
         "1",
         "0"
        ],
        [
         "28",
         "1067444",
         "2",
         "1",
         "1",
         "1",
         "2",
         "1.0",
         "2",
         "1",
         "1",
         "0"
        ],
        [
         "29",
         "1070935",
         "1",
         "1",
         "3",
         "1",
         "2",
         "1.0",
         "1",
         "1",
         "1",
         "0"
        ],
        [
         "30",
         "1070935",
         "3",
         "1",
         "1",
         "1",
         "1",
         "1.0",
         "2",
         "1",
         "1",
         "0"
        ],
        [
         "31",
         "1071760",
         "2",
         "1",
         "1",
         "1",
         "2",
         "1.0",
         "3",
         "1",
         "1",
         "0"
        ],
        [
         "32",
         "1072179",
         "10",
         "7",
         "7",
         "3",
         "8",
         "5.0",
         "7",
         "4",
         "3",
         "1"
        ],
        [
         "33",
         "1074610",
         "2",
         "1",
         "1",
         "2",
         "2",
         "1.0",
         "3",
         "1",
         "1",
         "0"
        ],
        [
         "34",
         "1075123",
         "3",
         "1",
         "2",
         "1",
         "2",
         "1.0",
         "2",
         "1",
         "1",
         "0"
        ],
        [
         "35",
         "1079304",
         "2",
         "1",
         "1",
         "1",
         "2",
         "1.0",
         "2",
         "1",
         "1",
         "0"
        ],
        [
         "36",
         "1080185",
         "10",
         "10",
         "10",
         "8",
         "6",
         "1.0",
         "8",
         "9",
         "1",
         "1"
        ],
        [
         "37",
         "1081791",
         "6",
         "2",
         "1",
         "1",
         "1",
         "1.0",
         "7",
         "1",
         "1",
         "0"
        ],
        [
         "38",
         "1084584",
         "5",
         "4",
         "4",
         "9",
         "2",
         "10.0",
         "5",
         "6",
         "1",
         "1"
        ],
        [
         "39",
         "1091262",
         "2",
         "5",
         "3",
         "3",
         "6",
         "7.0",
         "7",
         "5",
         "1",
         "1"
        ],
        [
         "41",
         "1099510",
         "10",
         "4",
         "3",
         "1",
         "3",
         "3.0",
         "6",
         "5",
         "2",
         "1"
        ],
        [
         "42",
         "1100524",
         "6",
         "10",
         "10",
         "2",
         "8",
         "10.0",
         "7",
         "3",
         "3",
         "1"
        ],
        [
         "43",
         "1102573",
         "5",
         "6",
         "5",
         "6",
         "10",
         "1.0",
         "3",
         "1",
         "1",
         "1"
        ],
        [
         "44",
         "1103608",
         "10",
         "10",
         "10",
         "4",
         "8",
         "1.0",
         "8",
         "10",
         "1",
         "1"
        ],
        [
         "45",
         "1103722",
         "1",
         "1",
         "1",
         "1",
         "2",
         "1.0",
         "2",
         "1",
         "2",
         "0"
        ],
        [
         "46",
         "1105257",
         "3",
         "7",
         "7",
         "4",
         "4",
         "9.0",
         "4",
         "8",
         "1",
         "1"
        ],
        [
         "47",
         "1105524",
         "1",
         "1",
         "1",
         "1",
         "2",
         "1.0",
         "2",
         "1",
         "1",
         "0"
        ],
        [
         "48",
         "1106095",
         "4",
         "1",
         "1",
         "3",
         "2",
         "1.0",
         "3",
         "1",
         "1",
         "0"
        ],
        [
         "49",
         "1106829",
         "7",
         "8",
         "7",
         "2",
         "4",
         "8.0",
         "3",
         "8",
         "2",
         "1"
        ],
        [
         "50",
         "1108370",
         "9",
         "5",
         "8",
         "1",
         "2",
         "3.0",
         "2",
         "1",
         "5",
         "1"
        ],
        [
         "51",
         "1108449",
         "5",
         "3",
         "3",
         "4",
         "2",
         "4.0",
         "3",
         "4",
         "1",
         "1"
        ]
       ],
       "shape": {
        "columns": 11,
        "rows": 683
       }
      },
      "text/html": [
       "<div>\n",
       "<style scoped>\n",
       "    .dataframe tbody tr th:only-of-type {\n",
       "        vertical-align: middle;\n",
       "    }\n",
       "\n",
       "    .dataframe tbody tr th {\n",
       "        vertical-align: top;\n",
       "    }\n",
       "\n",
       "    .dataframe thead th {\n",
       "        text-align: right;\n",
       "    }\n",
       "</style>\n",
       "<table border=\"1\" class=\"dataframe\">\n",
       "  <thead>\n",
       "    <tr style=\"text-align: right;\">\n",
       "      <th></th>\n",
       "      <th>Id</th>\n",
       "      <th>Cl.thickness</th>\n",
       "      <th>Cell.size</th>\n",
       "      <th>Cell.shape</th>\n",
       "      <th>Marg.adhesion</th>\n",
       "      <th>Epith.c.size</th>\n",
       "      <th>Bare.nuclei</th>\n",
       "      <th>Bl.cromatin</th>\n",
       "      <th>Normal.nucleoli</th>\n",
       "      <th>Mitoses</th>\n",
       "      <th>Class</th>\n",
       "    </tr>\n",
       "  </thead>\n",
       "  <tbody>\n",
       "    <tr>\n",
       "      <th>0</th>\n",
       "      <td>1000025</td>\n",
       "      <td>5</td>\n",
       "      <td>1</td>\n",
       "      <td>1</td>\n",
       "      <td>1</td>\n",
       "      <td>2</td>\n",
       "      <td>1.0</td>\n",
       "      <td>3</td>\n",
       "      <td>1</td>\n",
       "      <td>1</td>\n",
       "      <td>0</td>\n",
       "    </tr>\n",
       "    <tr>\n",
       "      <th>1</th>\n",
       "      <td>1002945</td>\n",
       "      <td>5</td>\n",
       "      <td>4</td>\n",
       "      <td>4</td>\n",
       "      <td>5</td>\n",
       "      <td>7</td>\n",
       "      <td>10.0</td>\n",
       "      <td>3</td>\n",
       "      <td>2</td>\n",
       "      <td>1</td>\n",
       "      <td>0</td>\n",
       "    </tr>\n",
       "    <tr>\n",
       "      <th>2</th>\n",
       "      <td>1015425</td>\n",
       "      <td>3</td>\n",
       "      <td>1</td>\n",
       "      <td>1</td>\n",
       "      <td>1</td>\n",
       "      <td>2</td>\n",
       "      <td>2.0</td>\n",
       "      <td>3</td>\n",
       "      <td>1</td>\n",
       "      <td>1</td>\n",
       "      <td>0</td>\n",
       "    </tr>\n",
       "    <tr>\n",
       "      <th>3</th>\n",
       "      <td>1016277</td>\n",
       "      <td>6</td>\n",
       "      <td>8</td>\n",
       "      <td>8</td>\n",
       "      <td>1</td>\n",
       "      <td>3</td>\n",
       "      <td>4.0</td>\n",
       "      <td>3</td>\n",
       "      <td>7</td>\n",
       "      <td>1</td>\n",
       "      <td>0</td>\n",
       "    </tr>\n",
       "    <tr>\n",
       "      <th>4</th>\n",
       "      <td>1017023</td>\n",
       "      <td>4</td>\n",
       "      <td>1</td>\n",
       "      <td>1</td>\n",
       "      <td>3</td>\n",
       "      <td>2</td>\n",
       "      <td>1.0</td>\n",
       "      <td>3</td>\n",
       "      <td>1</td>\n",
       "      <td>1</td>\n",
       "      <td>0</td>\n",
       "    </tr>\n",
       "    <tr>\n",
       "      <th>...</th>\n",
       "      <td>...</td>\n",
       "      <td>...</td>\n",
       "      <td>...</td>\n",
       "      <td>...</td>\n",
       "      <td>...</td>\n",
       "      <td>...</td>\n",
       "      <td>...</td>\n",
       "      <td>...</td>\n",
       "      <td>...</td>\n",
       "      <td>...</td>\n",
       "      <td>...</td>\n",
       "    </tr>\n",
       "    <tr>\n",
       "      <th>694</th>\n",
       "      <td>776715</td>\n",
       "      <td>3</td>\n",
       "      <td>1</td>\n",
       "      <td>1</td>\n",
       "      <td>1</td>\n",
       "      <td>3</td>\n",
       "      <td>2.0</td>\n",
       "      <td>1</td>\n",
       "      <td>1</td>\n",
       "      <td>1</td>\n",
       "      <td>0</td>\n",
       "    </tr>\n",
       "    <tr>\n",
       "      <th>695</th>\n",
       "      <td>841769</td>\n",
       "      <td>2</td>\n",
       "      <td>1</td>\n",
       "      <td>1</td>\n",
       "      <td>1</td>\n",
       "      <td>2</td>\n",
       "      <td>1.0</td>\n",
       "      <td>1</td>\n",
       "      <td>1</td>\n",
       "      <td>1</td>\n",
       "      <td>0</td>\n",
       "    </tr>\n",
       "    <tr>\n",
       "      <th>696</th>\n",
       "      <td>888820</td>\n",
       "      <td>5</td>\n",
       "      <td>10</td>\n",
       "      <td>10</td>\n",
       "      <td>3</td>\n",
       "      <td>7</td>\n",
       "      <td>3.0</td>\n",
       "      <td>8</td>\n",
       "      <td>10</td>\n",
       "      <td>2</td>\n",
       "      <td>1</td>\n",
       "    </tr>\n",
       "    <tr>\n",
       "      <th>697</th>\n",
       "      <td>897471</td>\n",
       "      <td>4</td>\n",
       "      <td>8</td>\n",
       "      <td>6</td>\n",
       "      <td>4</td>\n",
       "      <td>3</td>\n",
       "      <td>4.0</td>\n",
       "      <td>10</td>\n",
       "      <td>6</td>\n",
       "      <td>1</td>\n",
       "      <td>1</td>\n",
       "    </tr>\n",
       "    <tr>\n",
       "      <th>698</th>\n",
       "      <td>897471</td>\n",
       "      <td>4</td>\n",
       "      <td>8</td>\n",
       "      <td>8</td>\n",
       "      <td>5</td>\n",
       "      <td>4</td>\n",
       "      <td>5.0</td>\n",
       "      <td>10</td>\n",
       "      <td>4</td>\n",
       "      <td>1</td>\n",
       "      <td>1</td>\n",
       "    </tr>\n",
       "  </tbody>\n",
       "</table>\n",
       "<p>683 rows × 11 columns</p>\n",
       "</div>"
      ],
      "text/plain": [
       "          Id  Cl.thickness  Cell.size  Cell.shape  Marg.adhesion  \\\n",
       "0    1000025             5          1           1              1   \n",
       "1    1002945             5          4           4              5   \n",
       "2    1015425             3          1           1              1   \n",
       "3    1016277             6          8           8              1   \n",
       "4    1017023             4          1           1              3   \n",
       "..       ...           ...        ...         ...            ...   \n",
       "694   776715             3          1           1              1   \n",
       "695   841769             2          1           1              1   \n",
       "696   888820             5         10          10              3   \n",
       "697   897471             4          8           6              4   \n",
       "698   897471             4          8           8              5   \n",
       "\n",
       "     Epith.c.size  Bare.nuclei  Bl.cromatin  Normal.nucleoli  Mitoses  Class  \n",
       "0               2          1.0            3                1        1      0  \n",
       "1               7         10.0            3                2        1      0  \n",
       "2               2          2.0            3                1        1      0  \n",
       "3               3          4.0            3                7        1      0  \n",
       "4               2          1.0            3                1        1      0  \n",
       "..            ...          ...          ...              ...      ...    ...  \n",
       "694             3          2.0            1                1        1      0  \n",
       "695             2          1.0            1                1        1      0  \n",
       "696             7          3.0            8               10        2      1  \n",
       "697             3          4.0           10                6        1      1  \n",
       "698             4          5.0           10                4        1      1  \n",
       "\n",
       "[683 rows x 11 columns]"
      ]
     },
     "execution_count": 10,
     "metadata": {},
     "output_type": "execute_result"
    }
   ],
   "source": [
    "#removemos linhas com valores nulos\n",
    "df = df.dropna()\n",
    "df"
   ]
  },
  {
   "cell_type": "markdown",
   "metadata": {
    "id": "uuDwTmu-DisU"
   },
   "source": [
    "## Classificação\n",
    "\n",
    "Com os dados tratados, nosso objetivo agora é construir as variáveis $X$ e $y$, sendo que o processo de classificação se resume em estimar a função $f$ na relação $y = f(X) + \\epsilon$, onde $\\epsilon$ é o erro, que tem distribuição normal com média igual a zero e variância $\\sigma^2$."
   ]
  },
  {
   "cell_type": "markdown",
   "metadata": {
    "id": "Jh3laRMHDisV"
   },
   "source": [
    "### Identificando quais valores são úteis para a classificação\n",
    "\n",
    "Algumas vezes (ou quase sempre) os datasets podem contar dados que não nos ajudam na classificação que desejamos obter. Vamos dar uma olhada novamente."
   ]
  },
  {
   "cell_type": "code",
   "execution_count": 11,
   "metadata": {
    "colab": {
     "base_uri": "https://localhost:8080/",
     "height": 320
    },
    "executionInfo": {
     "elapsed": 75,
     "status": "ok",
     "timestamp": 1742500910800,
     "user": {
      "displayName": "Julio Cesar dos Reis",
      "userId": "07725049740648948644"
     },
     "user_tz": 180
    },
    "id": "PpVsixRCDisV",
    "outputId": "f130d372-5c71-4bce-eed5-5da01220b0e2"
   },
   "outputs": [
    {
     "data": {
      "application/vnd.microsoft.datawrangler.viewer.v0+json": {
       "columns": [
        {
         "name": "index",
         "rawType": "object",
         "type": "string"
        },
        {
         "name": "Id",
         "rawType": "float64",
         "type": "float"
        },
        {
         "name": "Cl.thickness",
         "rawType": "float64",
         "type": "float"
        },
        {
         "name": "Cell.size",
         "rawType": "float64",
         "type": "float"
        },
        {
         "name": "Cell.shape",
         "rawType": "float64",
         "type": "float"
        },
        {
         "name": "Marg.adhesion",
         "rawType": "float64",
         "type": "float"
        },
        {
         "name": "Epith.c.size",
         "rawType": "float64",
         "type": "float"
        },
        {
         "name": "Bare.nuclei",
         "rawType": "float64",
         "type": "float"
        },
        {
         "name": "Bl.cromatin",
         "rawType": "float64",
         "type": "float"
        },
        {
         "name": "Normal.nucleoli",
         "rawType": "float64",
         "type": "float"
        },
        {
         "name": "Mitoses",
         "rawType": "float64",
         "type": "float"
        },
        {
         "name": "Class",
         "rawType": "float64",
         "type": "float"
        }
       ],
       "conversionMethod": "pd.DataFrame",
       "ref": "1f27123a-849a-42d0-94a1-7ea47bffbfba",
       "rows": [
        [
         "count",
         "683.0",
         "683.0",
         "683.0",
         "683.0",
         "683.0",
         "683.0",
         "683.0",
         "683.0",
         "683.0",
         "683.0",
         "683.0"
        ],
        [
         "mean",
         "1076720.2269399706",
         "4.44216691068814",
         "3.150805270863836",
         "3.2152269399707176",
         "2.830161054172767",
         "3.234260614934114",
         "3.5446559297218156",
         "3.445095168374817",
         "2.869692532942899",
         "1.603221083455344",
         "0.34992679355783307"
        ],
        [
         "std",
         "620644.0476548711",
         "2.820761318837128",
         "3.0651448557860443",
         "2.9885808183250244",
         "2.8645621904469936",
         "2.223085456441795",
         "3.643857160492915",
         "2.449696572512872",
         "3.052666407047357",
         "1.7326741463370279",
         "0.47729611166515"
        ],
        [
         "min",
         "63375.0",
         "1.0",
         "1.0",
         "1.0",
         "1.0",
         "1.0",
         "1.0",
         "1.0",
         "1.0",
         "1.0",
         "0.0"
        ],
        [
         "25%",
         "877617.0",
         "2.0",
         "1.0",
         "1.0",
         "1.0",
         "2.0",
         "1.0",
         "2.0",
         "1.0",
         "1.0",
         "0.0"
        ],
        [
         "50%",
         "1171795.0",
         "4.0",
         "1.0",
         "1.0",
         "1.0",
         "2.0",
         "1.0",
         "3.0",
         "1.0",
         "1.0",
         "0.0"
        ],
        [
         "75%",
         "1238705.0",
         "6.0",
         "5.0",
         "5.0",
         "4.0",
         "4.0",
         "6.0",
         "5.0",
         "4.0",
         "1.0",
         "1.0"
        ],
        [
         "max",
         "13454352.0",
         "10.0",
         "10.0",
         "10.0",
         "10.0",
         "10.0",
         "10.0",
         "10.0",
         "10.0",
         "10.0",
         "1.0"
        ]
       ],
       "shape": {
        "columns": 11,
        "rows": 8
       }
      },
      "text/html": [
       "<div>\n",
       "<style scoped>\n",
       "    .dataframe tbody tr th:only-of-type {\n",
       "        vertical-align: middle;\n",
       "    }\n",
       "\n",
       "    .dataframe tbody tr th {\n",
       "        vertical-align: top;\n",
       "    }\n",
       "\n",
       "    .dataframe thead th {\n",
       "        text-align: right;\n",
       "    }\n",
       "</style>\n",
       "<table border=\"1\" class=\"dataframe\">\n",
       "  <thead>\n",
       "    <tr style=\"text-align: right;\">\n",
       "      <th></th>\n",
       "      <th>Id</th>\n",
       "      <th>Cl.thickness</th>\n",
       "      <th>Cell.size</th>\n",
       "      <th>Cell.shape</th>\n",
       "      <th>Marg.adhesion</th>\n",
       "      <th>Epith.c.size</th>\n",
       "      <th>Bare.nuclei</th>\n",
       "      <th>Bl.cromatin</th>\n",
       "      <th>Normal.nucleoli</th>\n",
       "      <th>Mitoses</th>\n",
       "      <th>Class</th>\n",
       "    </tr>\n",
       "  </thead>\n",
       "  <tbody>\n",
       "    <tr>\n",
       "      <th>count</th>\n",
       "      <td>6.830000e+02</td>\n",
       "      <td>683.000000</td>\n",
       "      <td>683.000000</td>\n",
       "      <td>683.000000</td>\n",
       "      <td>683.000000</td>\n",
       "      <td>683.000000</td>\n",
       "      <td>683.000000</td>\n",
       "      <td>683.000000</td>\n",
       "      <td>683.000000</td>\n",
       "      <td>683.000000</td>\n",
       "      <td>683.000000</td>\n",
       "    </tr>\n",
       "    <tr>\n",
       "      <th>mean</th>\n",
       "      <td>1.076720e+06</td>\n",
       "      <td>4.442167</td>\n",
       "      <td>3.150805</td>\n",
       "      <td>3.215227</td>\n",
       "      <td>2.830161</td>\n",
       "      <td>3.234261</td>\n",
       "      <td>3.544656</td>\n",
       "      <td>3.445095</td>\n",
       "      <td>2.869693</td>\n",
       "      <td>1.603221</td>\n",
       "      <td>0.349927</td>\n",
       "    </tr>\n",
       "    <tr>\n",
       "      <th>std</th>\n",
       "      <td>6.206440e+05</td>\n",
       "      <td>2.820761</td>\n",
       "      <td>3.065145</td>\n",
       "      <td>2.988581</td>\n",
       "      <td>2.864562</td>\n",
       "      <td>2.223085</td>\n",
       "      <td>3.643857</td>\n",
       "      <td>2.449697</td>\n",
       "      <td>3.052666</td>\n",
       "      <td>1.732674</td>\n",
       "      <td>0.477296</td>\n",
       "    </tr>\n",
       "    <tr>\n",
       "      <th>min</th>\n",
       "      <td>6.337500e+04</td>\n",
       "      <td>1.000000</td>\n",
       "      <td>1.000000</td>\n",
       "      <td>1.000000</td>\n",
       "      <td>1.000000</td>\n",
       "      <td>1.000000</td>\n",
       "      <td>1.000000</td>\n",
       "      <td>1.000000</td>\n",
       "      <td>1.000000</td>\n",
       "      <td>1.000000</td>\n",
       "      <td>0.000000</td>\n",
       "    </tr>\n",
       "    <tr>\n",
       "      <th>25%</th>\n",
       "      <td>8.776170e+05</td>\n",
       "      <td>2.000000</td>\n",
       "      <td>1.000000</td>\n",
       "      <td>1.000000</td>\n",
       "      <td>1.000000</td>\n",
       "      <td>2.000000</td>\n",
       "      <td>1.000000</td>\n",
       "      <td>2.000000</td>\n",
       "      <td>1.000000</td>\n",
       "      <td>1.000000</td>\n",
       "      <td>0.000000</td>\n",
       "    </tr>\n",
       "    <tr>\n",
       "      <th>50%</th>\n",
       "      <td>1.171795e+06</td>\n",
       "      <td>4.000000</td>\n",
       "      <td>1.000000</td>\n",
       "      <td>1.000000</td>\n",
       "      <td>1.000000</td>\n",
       "      <td>2.000000</td>\n",
       "      <td>1.000000</td>\n",
       "      <td>3.000000</td>\n",
       "      <td>1.000000</td>\n",
       "      <td>1.000000</td>\n",
       "      <td>0.000000</td>\n",
       "    </tr>\n",
       "    <tr>\n",
       "      <th>75%</th>\n",
       "      <td>1.238705e+06</td>\n",
       "      <td>6.000000</td>\n",
       "      <td>5.000000</td>\n",
       "      <td>5.000000</td>\n",
       "      <td>4.000000</td>\n",
       "      <td>4.000000</td>\n",
       "      <td>6.000000</td>\n",
       "      <td>5.000000</td>\n",
       "      <td>4.000000</td>\n",
       "      <td>1.000000</td>\n",
       "      <td>1.000000</td>\n",
       "    </tr>\n",
       "    <tr>\n",
       "      <th>max</th>\n",
       "      <td>1.345435e+07</td>\n",
       "      <td>10.000000</td>\n",
       "      <td>10.000000</td>\n",
       "      <td>10.000000</td>\n",
       "      <td>10.000000</td>\n",
       "      <td>10.000000</td>\n",
       "      <td>10.000000</td>\n",
       "      <td>10.000000</td>\n",
       "      <td>10.000000</td>\n",
       "      <td>10.000000</td>\n",
       "      <td>1.000000</td>\n",
       "    </tr>\n",
       "  </tbody>\n",
       "</table>\n",
       "</div>"
      ],
      "text/plain": [
       "                 Id  Cl.thickness   Cell.size  Cell.shape  Marg.adhesion  \\\n",
       "count  6.830000e+02    683.000000  683.000000  683.000000     683.000000   \n",
       "mean   1.076720e+06      4.442167    3.150805    3.215227       2.830161   \n",
       "std    6.206440e+05      2.820761    3.065145    2.988581       2.864562   \n",
       "min    6.337500e+04      1.000000    1.000000    1.000000       1.000000   \n",
       "25%    8.776170e+05      2.000000    1.000000    1.000000       1.000000   \n",
       "50%    1.171795e+06      4.000000    1.000000    1.000000       1.000000   \n",
       "75%    1.238705e+06      6.000000    5.000000    5.000000       4.000000   \n",
       "max    1.345435e+07     10.000000   10.000000   10.000000      10.000000   \n",
       "\n",
       "       Epith.c.size  Bare.nuclei  Bl.cromatin  Normal.nucleoli     Mitoses  \\\n",
       "count    683.000000   683.000000   683.000000       683.000000  683.000000   \n",
       "mean       3.234261     3.544656     3.445095         2.869693    1.603221   \n",
       "std        2.223085     3.643857     2.449697         3.052666    1.732674   \n",
       "min        1.000000     1.000000     1.000000         1.000000    1.000000   \n",
       "25%        2.000000     1.000000     2.000000         1.000000    1.000000   \n",
       "50%        2.000000     1.000000     3.000000         1.000000    1.000000   \n",
       "75%        4.000000     6.000000     5.000000         4.000000    1.000000   \n",
       "max       10.000000    10.000000    10.000000        10.000000   10.000000   \n",
       "\n",
       "            Class  \n",
       "count  683.000000  \n",
       "mean     0.349927  \n",
       "std      0.477296  \n",
       "min      0.000000  \n",
       "25%      0.000000  \n",
       "50%      0.000000  \n",
       "75%      1.000000  \n",
       "max      1.000000  "
      ]
     },
     "execution_count": 11,
     "metadata": {},
     "output_type": "execute_result"
    }
   ],
   "source": [
    "df.describe()"
   ]
  },
  {
   "cell_type": "markdown",
   "metadata": {
    "id": "vpssB2KiDisV"
   },
   "source": [
    "Note que esse campo `Id` está representado como um número, mas seu objetivo é dar um identificador pra cada linha, como se fosse um nome. Esse tipo de dado não é útil na classificação e, neste caso, ainda mais grave, o formato numérico atrapalharia ainda mais o processo. Vamos remover a coluna `Id` mesmo que ela não contenha linhas N/A."
   ]
  },
  {
   "cell_type": "code",
   "execution_count": 12,
   "metadata": {
    "colab": {
     "base_uri": "https://localhost:8080/",
     "height": 424
    },
    "executionInfo": {
     "elapsed": 36,
     "status": "ok",
     "timestamp": 1742582625494,
     "user": {
      "displayName": "Julio Cesar dos Reis",
      "userId": "07725049740648948644"
     },
     "user_tz": 180
    },
    "id": "QhW_g_5RDisV",
    "outputId": "583e0246-5679-4259-ad15-e4f98f097b2f"
   },
   "outputs": [
    {
     "data": {
      "application/vnd.microsoft.datawrangler.viewer.v0+json": {
       "columns": [
        {
         "name": "index",
         "rawType": "int64",
         "type": "integer"
        },
        {
         "name": "Cl.thickness",
         "rawType": "int64",
         "type": "integer"
        },
        {
         "name": "Cell.size",
         "rawType": "int64",
         "type": "integer"
        },
        {
         "name": "Cell.shape",
         "rawType": "int64",
         "type": "integer"
        },
        {
         "name": "Marg.adhesion",
         "rawType": "int64",
         "type": "integer"
        },
        {
         "name": "Epith.c.size",
         "rawType": "int64",
         "type": "integer"
        },
        {
         "name": "Bare.nuclei",
         "rawType": "float64",
         "type": "float"
        },
        {
         "name": "Bl.cromatin",
         "rawType": "int64",
         "type": "integer"
        },
        {
         "name": "Normal.nucleoli",
         "rawType": "int64",
         "type": "integer"
        },
        {
         "name": "Mitoses",
         "rawType": "int64",
         "type": "integer"
        },
        {
         "name": "Class",
         "rawType": "int64",
         "type": "integer"
        }
       ],
       "conversionMethod": "pd.DataFrame",
       "ref": "9d4da6d7-a87e-4f9a-8c39-801477d95603",
       "rows": [
        [
         "0",
         "5",
         "1",
         "1",
         "1",
         "2",
         "1.0",
         "3",
         "1",
         "1",
         "0"
        ],
        [
         "1",
         "5",
         "4",
         "4",
         "5",
         "7",
         "10.0",
         "3",
         "2",
         "1",
         "0"
        ],
        [
         "2",
         "3",
         "1",
         "1",
         "1",
         "2",
         "2.0",
         "3",
         "1",
         "1",
         "0"
        ],
        [
         "3",
         "6",
         "8",
         "8",
         "1",
         "3",
         "4.0",
         "3",
         "7",
         "1",
         "0"
        ],
        [
         "4",
         "4",
         "1",
         "1",
         "3",
         "2",
         "1.0",
         "3",
         "1",
         "1",
         "0"
        ],
        [
         "5",
         "8",
         "10",
         "10",
         "8",
         "7",
         "10.0",
         "9",
         "7",
         "1",
         "1"
        ],
        [
         "6",
         "1",
         "1",
         "1",
         "1",
         "2",
         "10.0",
         "3",
         "1",
         "1",
         "0"
        ],
        [
         "7",
         "2",
         "1",
         "2",
         "1",
         "2",
         "1.0",
         "3",
         "1",
         "1",
         "0"
        ],
        [
         "8",
         "2",
         "1",
         "1",
         "1",
         "2",
         "1.0",
         "1",
         "1",
         "5",
         "0"
        ],
        [
         "9",
         "4",
         "2",
         "1",
         "1",
         "2",
         "1.0",
         "2",
         "1",
         "1",
         "0"
        ],
        [
         "10",
         "1",
         "1",
         "1",
         "1",
         "1",
         "1.0",
         "3",
         "1",
         "1",
         "0"
        ],
        [
         "11",
         "2",
         "1",
         "1",
         "1",
         "2",
         "1.0",
         "2",
         "1",
         "1",
         "0"
        ],
        [
         "12",
         "5",
         "3",
         "3",
         "3",
         "2",
         "3.0",
         "4",
         "4",
         "1",
         "1"
        ],
        [
         "13",
         "1",
         "1",
         "1",
         "1",
         "2",
         "3.0",
         "3",
         "1",
         "1",
         "0"
        ],
        [
         "14",
         "8",
         "7",
         "5",
         "10",
         "7",
         "9.0",
         "5",
         "5",
         "4",
         "1"
        ],
        [
         "15",
         "7",
         "4",
         "6",
         "4",
         "6",
         "1.0",
         "4",
         "3",
         "1",
         "1"
        ],
        [
         "16",
         "4",
         "1",
         "1",
         "1",
         "2",
         "1.0",
         "2",
         "1",
         "1",
         "0"
        ],
        [
         "17",
         "4",
         "1",
         "1",
         "1",
         "2",
         "1.0",
         "3",
         "1",
         "1",
         "0"
        ],
        [
         "18",
         "10",
         "7",
         "7",
         "6",
         "4",
         "10.0",
         "4",
         "1",
         "2",
         "1"
        ],
        [
         "19",
         "6",
         "1",
         "1",
         "1",
         "2",
         "1.0",
         "3",
         "1",
         "1",
         "0"
        ],
        [
         "20",
         "7",
         "3",
         "2",
         "10",
         "5",
         "10.0",
         "5",
         "4",
         "4",
         "1"
        ],
        [
         "21",
         "10",
         "5",
         "5",
         "3",
         "6",
         "7.0",
         "7",
         "10",
         "1",
         "1"
        ],
        [
         "22",
         "3",
         "1",
         "1",
         "1",
         "2",
         "1.0",
         "2",
         "1",
         "1",
         "0"
        ],
        [
         "24",
         "1",
         "1",
         "1",
         "1",
         "2",
         "1.0",
         "3",
         "1",
         "1",
         "0"
        ],
        [
         "25",
         "5",
         "2",
         "3",
         "4",
         "2",
         "7.0",
         "3",
         "6",
         "1",
         "1"
        ],
        [
         "26",
         "3",
         "2",
         "1",
         "1",
         "1",
         "1.0",
         "2",
         "1",
         "1",
         "0"
        ],
        [
         "27",
         "5",
         "1",
         "1",
         "1",
         "2",
         "1.0",
         "2",
         "1",
         "1",
         "0"
        ],
        [
         "28",
         "2",
         "1",
         "1",
         "1",
         "2",
         "1.0",
         "2",
         "1",
         "1",
         "0"
        ],
        [
         "29",
         "1",
         "1",
         "3",
         "1",
         "2",
         "1.0",
         "1",
         "1",
         "1",
         "0"
        ],
        [
         "30",
         "3",
         "1",
         "1",
         "1",
         "1",
         "1.0",
         "2",
         "1",
         "1",
         "0"
        ],
        [
         "31",
         "2",
         "1",
         "1",
         "1",
         "2",
         "1.0",
         "3",
         "1",
         "1",
         "0"
        ],
        [
         "32",
         "10",
         "7",
         "7",
         "3",
         "8",
         "5.0",
         "7",
         "4",
         "3",
         "1"
        ],
        [
         "33",
         "2",
         "1",
         "1",
         "2",
         "2",
         "1.0",
         "3",
         "1",
         "1",
         "0"
        ],
        [
         "34",
         "3",
         "1",
         "2",
         "1",
         "2",
         "1.0",
         "2",
         "1",
         "1",
         "0"
        ],
        [
         "35",
         "2",
         "1",
         "1",
         "1",
         "2",
         "1.0",
         "2",
         "1",
         "1",
         "0"
        ],
        [
         "36",
         "10",
         "10",
         "10",
         "8",
         "6",
         "1.0",
         "8",
         "9",
         "1",
         "1"
        ],
        [
         "37",
         "6",
         "2",
         "1",
         "1",
         "1",
         "1.0",
         "7",
         "1",
         "1",
         "0"
        ],
        [
         "38",
         "5",
         "4",
         "4",
         "9",
         "2",
         "10.0",
         "5",
         "6",
         "1",
         "1"
        ],
        [
         "39",
         "2",
         "5",
         "3",
         "3",
         "6",
         "7.0",
         "7",
         "5",
         "1",
         "1"
        ],
        [
         "41",
         "10",
         "4",
         "3",
         "1",
         "3",
         "3.0",
         "6",
         "5",
         "2",
         "1"
        ],
        [
         "42",
         "6",
         "10",
         "10",
         "2",
         "8",
         "10.0",
         "7",
         "3",
         "3",
         "1"
        ],
        [
         "43",
         "5",
         "6",
         "5",
         "6",
         "10",
         "1.0",
         "3",
         "1",
         "1",
         "1"
        ],
        [
         "44",
         "10",
         "10",
         "10",
         "4",
         "8",
         "1.0",
         "8",
         "10",
         "1",
         "1"
        ],
        [
         "45",
         "1",
         "1",
         "1",
         "1",
         "2",
         "1.0",
         "2",
         "1",
         "2",
         "0"
        ],
        [
         "46",
         "3",
         "7",
         "7",
         "4",
         "4",
         "9.0",
         "4",
         "8",
         "1",
         "1"
        ],
        [
         "47",
         "1",
         "1",
         "1",
         "1",
         "2",
         "1.0",
         "2",
         "1",
         "1",
         "0"
        ],
        [
         "48",
         "4",
         "1",
         "1",
         "3",
         "2",
         "1.0",
         "3",
         "1",
         "1",
         "0"
        ],
        [
         "49",
         "7",
         "8",
         "7",
         "2",
         "4",
         "8.0",
         "3",
         "8",
         "2",
         "1"
        ],
        [
         "50",
         "9",
         "5",
         "8",
         "1",
         "2",
         "3.0",
         "2",
         "1",
         "5",
         "1"
        ],
        [
         "51",
         "5",
         "3",
         "3",
         "4",
         "2",
         "4.0",
         "3",
         "4",
         "1",
         "1"
        ]
       ],
       "shape": {
        "columns": 10,
        "rows": 683
       }
      },
      "text/html": [
       "<div>\n",
       "<style scoped>\n",
       "    .dataframe tbody tr th:only-of-type {\n",
       "        vertical-align: middle;\n",
       "    }\n",
       "\n",
       "    .dataframe tbody tr th {\n",
       "        vertical-align: top;\n",
       "    }\n",
       "\n",
       "    .dataframe thead th {\n",
       "        text-align: right;\n",
       "    }\n",
       "</style>\n",
       "<table border=\"1\" class=\"dataframe\">\n",
       "  <thead>\n",
       "    <tr style=\"text-align: right;\">\n",
       "      <th></th>\n",
       "      <th>Cl.thickness</th>\n",
       "      <th>Cell.size</th>\n",
       "      <th>Cell.shape</th>\n",
       "      <th>Marg.adhesion</th>\n",
       "      <th>Epith.c.size</th>\n",
       "      <th>Bare.nuclei</th>\n",
       "      <th>Bl.cromatin</th>\n",
       "      <th>Normal.nucleoli</th>\n",
       "      <th>Mitoses</th>\n",
       "      <th>Class</th>\n",
       "    </tr>\n",
       "  </thead>\n",
       "  <tbody>\n",
       "    <tr>\n",
       "      <th>0</th>\n",
       "      <td>5</td>\n",
       "      <td>1</td>\n",
       "      <td>1</td>\n",
       "      <td>1</td>\n",
       "      <td>2</td>\n",
       "      <td>1.0</td>\n",
       "      <td>3</td>\n",
       "      <td>1</td>\n",
       "      <td>1</td>\n",
       "      <td>0</td>\n",
       "    </tr>\n",
       "    <tr>\n",
       "      <th>1</th>\n",
       "      <td>5</td>\n",
       "      <td>4</td>\n",
       "      <td>4</td>\n",
       "      <td>5</td>\n",
       "      <td>7</td>\n",
       "      <td>10.0</td>\n",
       "      <td>3</td>\n",
       "      <td>2</td>\n",
       "      <td>1</td>\n",
       "      <td>0</td>\n",
       "    </tr>\n",
       "    <tr>\n",
       "      <th>2</th>\n",
       "      <td>3</td>\n",
       "      <td>1</td>\n",
       "      <td>1</td>\n",
       "      <td>1</td>\n",
       "      <td>2</td>\n",
       "      <td>2.0</td>\n",
       "      <td>3</td>\n",
       "      <td>1</td>\n",
       "      <td>1</td>\n",
       "      <td>0</td>\n",
       "    </tr>\n",
       "    <tr>\n",
       "      <th>3</th>\n",
       "      <td>6</td>\n",
       "      <td>8</td>\n",
       "      <td>8</td>\n",
       "      <td>1</td>\n",
       "      <td>3</td>\n",
       "      <td>4.0</td>\n",
       "      <td>3</td>\n",
       "      <td>7</td>\n",
       "      <td>1</td>\n",
       "      <td>0</td>\n",
       "    </tr>\n",
       "    <tr>\n",
       "      <th>4</th>\n",
       "      <td>4</td>\n",
       "      <td>1</td>\n",
       "      <td>1</td>\n",
       "      <td>3</td>\n",
       "      <td>2</td>\n",
       "      <td>1.0</td>\n",
       "      <td>3</td>\n",
       "      <td>1</td>\n",
       "      <td>1</td>\n",
       "      <td>0</td>\n",
       "    </tr>\n",
       "    <tr>\n",
       "      <th>...</th>\n",
       "      <td>...</td>\n",
       "      <td>...</td>\n",
       "      <td>...</td>\n",
       "      <td>...</td>\n",
       "      <td>...</td>\n",
       "      <td>...</td>\n",
       "      <td>...</td>\n",
       "      <td>...</td>\n",
       "      <td>...</td>\n",
       "      <td>...</td>\n",
       "    </tr>\n",
       "    <tr>\n",
       "      <th>694</th>\n",
       "      <td>3</td>\n",
       "      <td>1</td>\n",
       "      <td>1</td>\n",
       "      <td>1</td>\n",
       "      <td>3</td>\n",
       "      <td>2.0</td>\n",
       "      <td>1</td>\n",
       "      <td>1</td>\n",
       "      <td>1</td>\n",
       "      <td>0</td>\n",
       "    </tr>\n",
       "    <tr>\n",
       "      <th>695</th>\n",
       "      <td>2</td>\n",
       "      <td>1</td>\n",
       "      <td>1</td>\n",
       "      <td>1</td>\n",
       "      <td>2</td>\n",
       "      <td>1.0</td>\n",
       "      <td>1</td>\n",
       "      <td>1</td>\n",
       "      <td>1</td>\n",
       "      <td>0</td>\n",
       "    </tr>\n",
       "    <tr>\n",
       "      <th>696</th>\n",
       "      <td>5</td>\n",
       "      <td>10</td>\n",
       "      <td>10</td>\n",
       "      <td>3</td>\n",
       "      <td>7</td>\n",
       "      <td>3.0</td>\n",
       "      <td>8</td>\n",
       "      <td>10</td>\n",
       "      <td>2</td>\n",
       "      <td>1</td>\n",
       "    </tr>\n",
       "    <tr>\n",
       "      <th>697</th>\n",
       "      <td>4</td>\n",
       "      <td>8</td>\n",
       "      <td>6</td>\n",
       "      <td>4</td>\n",
       "      <td>3</td>\n",
       "      <td>4.0</td>\n",
       "      <td>10</td>\n",
       "      <td>6</td>\n",
       "      <td>1</td>\n",
       "      <td>1</td>\n",
       "    </tr>\n",
       "    <tr>\n",
       "      <th>698</th>\n",
       "      <td>4</td>\n",
       "      <td>8</td>\n",
       "      <td>8</td>\n",
       "      <td>5</td>\n",
       "      <td>4</td>\n",
       "      <td>5.0</td>\n",
       "      <td>10</td>\n",
       "      <td>4</td>\n",
       "      <td>1</td>\n",
       "      <td>1</td>\n",
       "    </tr>\n",
       "  </tbody>\n",
       "</table>\n",
       "<p>683 rows × 10 columns</p>\n",
       "</div>"
      ],
      "text/plain": [
       "     Cl.thickness  Cell.size  Cell.shape  Marg.adhesion  Epith.c.size  \\\n",
       "0               5          1           1              1             2   \n",
       "1               5          4           4              5             7   \n",
       "2               3          1           1              1             2   \n",
       "3               6          8           8              1             3   \n",
       "4               4          1           1              3             2   \n",
       "..            ...        ...         ...            ...           ...   \n",
       "694             3          1           1              1             3   \n",
       "695             2          1           1              1             2   \n",
       "696             5         10          10              3             7   \n",
       "697             4          8           6              4             3   \n",
       "698             4          8           8              5             4   \n",
       "\n",
       "     Bare.nuclei  Bl.cromatin  Normal.nucleoli  Mitoses  Class  \n",
       "0            1.0            3                1        1      0  \n",
       "1           10.0            3                2        1      0  \n",
       "2            2.0            3                1        1      0  \n",
       "3            4.0            3                7        1      0  \n",
       "4            1.0            3                1        1      0  \n",
       "..           ...          ...              ...      ...    ...  \n",
       "694          2.0            1                1        1      0  \n",
       "695          1.0            1                1        1      0  \n",
       "696          3.0            8               10        2      1  \n",
       "697          4.0           10                6        1      1  \n",
       "698          5.0           10                4        1      1  \n",
       "\n",
       "[683 rows x 10 columns]"
      ]
     },
     "execution_count": 12,
     "metadata": {},
     "output_type": "execute_result"
    }
   ],
   "source": [
    "df = df.drop(['Id'], axis=1)\n",
    "df"
   ]
  },
  {
   "cell_type": "markdown",
   "metadata": {
    "id": "ZZzIGxYZDisV"
   },
   "source": [
    "### Definindo os conjuntos de dados\n",
    "\n",
    "Precisamos indicar quais dados serão usados para predizer o valor desejado. Chamaremos de `FEATURES` os utilizados na função $F(x)$ e `CLASS` o $f$ estimado."
   ]
  },
  {
   "cell_type": "code",
   "execution_count": 13,
   "metadata": {
    "colab": {
     "base_uri": "https://localhost:8080/"
    },
    "executionInfo": {
     "elapsed": 45,
     "status": "ok",
     "timestamp": 1742582655638,
     "user": {
      "displayName": "Julio Cesar dos Reis",
      "userId": "07725049740648948644"
     },
     "user_tz": 180
    },
    "id": "jhY16sQ5DisV",
    "outputId": "84ed4baa-33e3-469c-e816-9f869c94a82f"
   },
   "outputs": [
    {
     "name": "stdout",
     "output_type": "stream",
     "text": [
      "Index(['Cl.thickness', 'Cell.size', 'Cell.shape', 'Marg.adhesion',\n",
      "       'Epith.c.size', 'Bare.nuclei', 'Bl.cromatin', 'Normal.nucleoli',\n",
      "       'Mitoses'],\n",
      "      dtype='object')\n",
      "Class\n"
     ]
    }
   ],
   "source": [
    "FEATURES = df.columns[:-1] # todas as colunas exceto a última, \"Class\"\n",
    "CLASS = df.columns[-1]     # apenas a última coluna\n",
    "\n",
    "print(FEATURES)\n",
    "print(CLASS)"
   ]
  },
  {
   "cell_type": "markdown",
   "metadata": {
    "id": "RLUCpQvkDisV"
   },
   "source": [
    "Feito isso, agora precisamos dividir nosso dataset em partes para treino e para teste. Isso pode ser feito utilizando o método `train_test_split()`.\n",
    "\n",
    "Vamos separar nosso conjunto em 80% para **treino** e 20% para **teste**."
   ]
  },
  {
   "cell_type": "code",
   "execution_count": 14,
   "metadata": {
    "id": "voH7lncZDisV"
   },
   "outputs": [],
   "source": [
    "X = df[FEATURES]\n",
    "y = df[CLASS]\n",
    "\n",
    "test_size = 0.2 # indica que 20% dos dados serão usados para teste\n",
    "\n",
    "#random_state: Controla o embaralhamento aplicado aos dados antes de aplicar a divisão. Passe um int para saída reproduzível em várias chamadas de função.\n",
    "X_train, X_test, y_train, y_test = train_test_split(X, y,\n",
    "                                                    random_state = 42,\n",
    "                                                    test_size = test_size)"
   ]
  },
  {
   "cell_type": "markdown",
   "metadata": {
    "id": "bTqmlDzCDisV"
   },
   "source": [
    "A partir desse conjunto de dados, podemos realizar a classificação."
   ]
  },
  {
   "cell_type": "markdown",
   "metadata": {
    "id": "AcwUO7m2DisV"
   },
   "source": [
    "## Árvores de Decisão\n",
    "\n",
    "Árvores de decisão podem ser construidas de diferentes formas, considerando diferentes métodos e medidas, como vimos na aula."
   ]
  },
  {
   "cell_type": "markdown",
   "metadata": {
    "id": "7UIexuNmDisV"
   },
   "source": [
    "### Critério Gini\n",
    "\n",
    "Vamos incialmente construir a árvore usando o critério Gini:"
   ]
  },
  {
   "cell_type": "code",
   "execution_count": 15,
   "metadata": {
    "id": "nb6mPlkdDisV"
   },
   "outputs": [],
   "source": [
    "# Cria o modelo usando o criterio Gini\n",
    "#Medidas comuns de impureza\n",
    "#criterion{“gini”, “entropy”, “log_loss”}, default=”gini”\n",
    "model = tree.DecisionTreeClassifier(criterion = 'gini',\n",
    "                                    random_state = 101)\n",
    "\n",
    "# Ajusta o modelo usando os dados de treinamento\n",
    "model.fit(X_train,y_train)\n",
    "\n",
    "# Realiza a predição no conjunto de teste\n",
    "y_pred = model.predict(X_test)"
   ]
  },
  {
   "cell_type": "markdown",
   "metadata": {
    "id": "l3RfT-voDisW"
   },
   "source": [
    "Vamos visualizar a árvore usando a matplotlib:"
   ]
  },
  {
   "cell_type": "code",
   "execution_count": 16,
   "metadata": {
    "colab": {
     "base_uri": "https://localhost:8080/",
     "height": 790
    },
    "executionInfo": {
     "elapsed": 2266,
     "status": "ok",
     "timestamp": 1742582931239,
     "user": {
      "displayName": "Julio Cesar dos Reis",
      "userId": "07725049740648948644"
     },
     "user_tz": 180
    },
    "id": "kKRjbXCLDisW",
    "outputId": "0a4de70a-a021-4e15-823a-3529003b02ce"
   },
   "outputs": [
    {
     "data": {
      "image/png": "[encoded data removed]",
      "text/plain": [
       "<Figure size 1500x1000 with 1 Axes>"
      ]
     },
     "metadata": {},
     "output_type": "display_data"
    }
   ],
   "source": [
    "plt.figure(figsize=(15, 10))\n",
    "tree.plot_tree(model.fit(X_train,y_train), filled=True)\n",
    "plt.show(True)"
   ]
  },
  {
   "cell_type": "markdown",
   "metadata": {
    "id": "fmTeRW8HDisW"
   },
   "source": [
    "Usando a medida de acurácia, avaliamos o desempenho do modelo no aprendizado."
   ]
  },
  {
   "cell_type": "code",
   "execution_count": 17,
   "metadata": {
    "colab": {
     "base_uri": "https://localhost:8080/"
    },
    "executionInfo": {
     "elapsed": 8,
     "status": "ok",
     "timestamp": 1742582971306,
     "user": {
      "displayName": "Julio Cesar dos Reis",
      "userId": "07725049740648948644"
     },
     "user_tz": 180
    },
    "id": "fH8ThGEMDisW",
    "outputId": "cad5f643-f03c-4db0-c2df-bc2253999675"
   },
   "outputs": [
    {
     "name": "stdout",
     "output_type": "stream",
     "text": [
      "Accuracy: 0.9343065693430657\n"
     ]
    }
   ],
   "source": [
    "score = accuracy_score(y_test, y_pred)\n",
    "print('Accuracy:', score)"
   ]
  },
  {
   "cell_type": "markdown",
   "metadata": {
    "id": "W2Oki-1iDisW"
   },
   "source": [
    "### Critério de Entropia\n",
    "\n",
    "Se usarmos a medida de entropia:"
   ]
  },
  {
   "cell_type": "code",
   "execution_count": 18,
   "metadata": {
    "id": "FwS2AyM6DisW"
   },
   "outputs": [],
   "source": [
    "model = tree.DecisionTreeClassifier(criterion = 'entropy',\n",
    "                                    random_state = 101)\n",
    "model.fit(X_train,y_train)\n",
    "y_pred = model.predict(X_test)"
   ]
  },
  {
   "cell_type": "markdown",
   "metadata": {
    "id": "YHbq4UeaDisW"
   },
   "source": [
    "Temos a seguinte árvore:"
   ]
  },
  {
   "cell_type": "code",
   "execution_count": 19,
   "metadata": {
    "colab": {
     "base_uri": "https://localhost:8080/",
     "height": 790
    },
    "executionInfo": {
     "elapsed": 1113,
     "status": "ok",
     "timestamp": 1742582986770,
     "user": {
      "displayName": "Julio Cesar dos Reis",
      "userId": "07725049740648948644"
     },
     "user_tz": 180
    },
    "id": "_dnR9kJeDisW",
    "outputId": "d36cbaf0-b8ef-425c-d707-7fa07a1bb4cf"
   },
   "outputs": [
    {
     "data": {
      "image/png": "[encoded data removed]",
      "text/plain": [
       "<Figure size 1500x1000 with 1 Axes>"
      ]
     },
     "metadata": {},
     "output_type": "display_data"
    }
   ],
   "source": [
    "plt.figure(figsize=(15,10))\n",
    "tree.plot_tree(model.fit(X_train,y_train), filled=True)\n",
    "plt.show(True)"
   ]
  },
  {
   "cell_type": "markdown",
   "metadata": {
    "id": "Yh9CKtWXDisW"
   },
   "source": [
    "Com a seguinte acurácia:"
   ]
  },
  {
   "cell_type": "code",
   "execution_count": 20,
   "metadata": {
    "colab": {
     "base_uri": "https://localhost:8080/"
    },
    "executionInfo": {
     "elapsed": 5,
     "status": "ok",
     "timestamp": 1742582993489,
     "user": {
      "displayName": "Julio Cesar dos Reis",
      "userId": "07725049740648948644"
     },
     "user_tz": 180
    },
    "id": "ZYnvdgcWDisW",
    "outputId": "3ce3dd59-7b7f-49cc-931c-4cb5254951ca"
   },
   "outputs": [
    {
     "name": "stdout",
     "output_type": "stream",
     "text": [
      "Accuracy: 0.9635036496350365\n"
     ]
    }
   ],
   "source": [
    "score = accuracy_score(y_test, y_pred)\n",
    "print('Accuracy:', score)"
   ]
  },
  {
   "cell_type": "markdown",
   "metadata": {
    "id": "8vsBsz_8DisW"
   },
   "source": [
    "Podemos também limitar o tamanho da árvore, o que influencia no resultado. Quem controla esse tamanho é o hiperparâmetro `max_depth`."
   ]
  },
  {
   "cell_type": "code",
   "execution_count": 21,
   "metadata": {
    "id": "njTFLX9wDisW"
   },
   "outputs": [],
   "source": [
    "# cria o modelo com número máximo de níveis max_depth\n",
    "model = tree.DecisionTreeClassifier(criterion = 'entropy',\n",
    "                                    max_depth = 2)\n",
    "\n",
    "# ajusta aos dados de treinamento\n",
    "model.fit(X_train,y_train)\n",
    "\n",
    "# faz a predição usando os dados de teste\n",
    "y_pred = model.predict(X_test)"
   ]
  },
  {
   "cell_type": "markdown",
   "metadata": {
    "id": "of1zp3BhDisW"
   },
   "source": [
    "Visualizando a estrutura da árvore, vemos que há menos níveis do que a anterior."
   ]
  },
  {
   "cell_type": "code",
   "execution_count": 22,
   "metadata": {
    "colab": {
     "base_uri": "https://localhost:8080/",
     "height": 499
    },
    "executionInfo": {
     "elapsed": 701,
     "status": "ok",
     "timestamp": 1742583032594,
     "user": {
      "displayName": "Julio Cesar dos Reis",
      "userId": "07725049740648948644"
     },
     "user_tz": 180
    },
    "id": "6rl7Qi0wDisW",
    "outputId": "b0edfee0-3689-409d-91c9-6437618a9a65"
   },
   "outputs": [
    {
     "data": {
      "image/png": "[encoded data removed]",
      "text/plain": [
       "<Figure size 1000x600 with 1 Axes>"
      ]
     },
     "metadata": {},
     "output_type": "display_data"
    }
   ],
   "source": [
    "plt.figure(figsize=(10,6))\n",
    "tree.plot_tree(model.fit(X_train, y_train), filled=True)\n",
    "plt.show(True)"
   ]
  },
  {
   "cell_type": "markdown",
   "metadata": {
    "id": "q4J1qlgEDisW"
   },
   "source": [
    "E podemos ver como isso impacta no resultado ao recalcular a acurácia:"
   ]
  },
  {
   "cell_type": "code",
   "execution_count": 23,
   "metadata": {
    "colab": {
     "base_uri": "https://localhost:8080/"
    },
    "executionInfo": {
     "elapsed": 7,
     "status": "ok",
     "timestamp": 1742583037599,
     "user": {
      "displayName": "Julio Cesar dos Reis",
      "userId": "07725049740648948644"
     },
     "user_tz": 180
    },
    "id": "ZyPAvlwsDisW",
    "outputId": "ebc683d0-a1e4-48ee-b972-d09803ccac07"
   },
   "outputs": [
    {
     "name": "stdout",
     "output_type": "stream",
     "text": [
      "Accuracy: 0.8759124087591241\n"
     ]
    }
   ],
   "source": [
    "score = accuracy_score(y_test, y_pred)\n",
    "print('Accuracy:', score)"
   ]
  },
  {
   "cell_type": "markdown",
   "metadata": {
    "id": "BVvqSZKLDisW"
   },
   "source": [
    "## Avaliando a Classificação\n",
    "\n",
    "Com a predição, podemos fazer a avaliação dos resultados usando diferentes métricas além da acurácia."
   ]
  },
  {
   "cell_type": "code",
   "execution_count": 24,
   "metadata": {
    "id": "jkfFiKzpDisW"
   },
   "outputs": [],
   "source": [
    "# Resgatando os valores com o critério Gini\n",
    "\n",
    "# Cria o modelo usando o criterio Gini\n",
    "model = tree.DecisionTreeClassifier(criterion = 'gini',\n",
    "                                    random_state = 101)\n",
    "\n",
    "# Ajusta o modelo usando os dados de treinamento\n",
    "model.fit(X_train,y_train)\n",
    "\n",
    "# Realiza a predição\n",
    "y_pred = model.predict(X_test)"
   ]
  },
  {
   "cell_type": "markdown",
   "metadata": {
    "id": "O27vcfIqDisW"
   },
   "source": [
    "### Matriz de Confusão\n",
    "\n",
    "A matriz de confusão (*confusion matrix*) permite verificar a relação entre as classes preditos e os originais."
   ]
  },
  {
   "cell_type": "code",
   "execution_count": 25,
   "metadata": {
    "colab": {
     "base_uri": "https://localhost:8080/",
     "height": 449
    },
    "executionInfo": {
     "elapsed": 607,
     "status": "ok",
     "timestamp": 1742583223753,
     "user": {
      "displayName": "Julio Cesar dos Reis",
      "userId": "07725049740648948644"
     },
     "user_tz": 180
    },
    "id": "9JEdfDpgDisZ",
    "outputId": "3c5f0be4-8314-49af-d616-378fdbea4911"
   },
   "outputs": [
    {
     "data": {
      "image/png": "[encoded data removed]",
      "text/plain": [
       "<Figure size 640x480 with 2 Axes>"
      ]
     },
     "metadata": {},
     "output_type": "display_data"
    }
   ],
   "source": [
    "from sklearn.metrics import confusion_matrix, ConfusionMatrixDisplay\n",
    "\n",
    "cm = confusion_matrix(y_test, y_pred)\n",
    "pd.crosstab(y_test, y_pred,\n",
    "            rownames=['True'],\n",
    "            colnames=['Predicted'],\n",
    "            margins=True)\n",
    "disp = ConfusionMatrixDisplay(confusion_matrix=cm,\n",
    "                              display_labels=model.classes_)\n",
    "disp.plot()\n",
    "plt.show()"
   ]
  },
  {
   "cell_type": "markdown",
   "metadata": {
    "id": "HtyuEw57DisZ"
   },
   "source": [
    "### F1-Score, Precision e Recall\n",
    "\n",
    "Estas são outras métricas que podem quantificar a qualidade de uma classificação.\n",
    "\n",
    "A medida F1 é a média harmônica entre as medidas Precision e Recall:\n",
    "$$\n",
    "    {\\displaystyle F_{1}={\\frac {2}{\\mathrm {recall} ^{-1}+\\mathrm {precision} ^{-1}}}=2{\\frac {\\mathrm {precision} \\cdot \\mathrm {recall} }{\\mathrm {precision} +\\mathrm {recall} }}={\\frac {2\\mathrm {tp} }{2\\mathrm {tp} +\\mathrm {fp} +\\mathrm {fn} }}}.\n",
    "$$\n",
    "Se a Precision ou a Recall é igual a zero, então F1 será zero, pois o denominador será igual a infinito. Se forem iguais a um, então F1 também será igual a 1, indicando uma clasificação sem erro.\n",
    "\n",
    "No report, suporte é quantas amostras existem em cada classe"
   ]
  },
  {
   "cell_type": "code",
   "execution_count": 26,
   "metadata": {
    "colab": {
     "base_uri": "https://localhost:8080/"
    },
    "executionInfo": {
     "elapsed": 61,
     "status": "ok",
     "timestamp": 1742583305235,
     "user": {
      "displayName": "Julio Cesar dos Reis",
      "userId": "07725049740648948644"
     },
     "user_tz": 180
    },
    "id": "vBucHPbWDisZ",
    "outputId": "d172ffd8-2ce7-4ec3-ad1f-a78e6c4dba74"
   },
   "outputs": [
    {
     "name": "stdout",
     "output_type": "stream",
     "text": [
      "Accuracy: 0.9343065693430657\n",
      "F1-score: 0.9318520974962693\n",
      "Precision: 0.9394654088050314\n",
      "Recall: 0.9269969445656918\n",
      "\n",
      " clasification report:\n",
      "               precision    recall  f1-score   support\n",
      "\n",
      "           0       0.92      0.97      0.94        79\n",
      "           1       0.96      0.88      0.92        58\n",
      "\n",
      "    accuracy                           0.93       137\n",
      "   macro avg       0.94      0.93      0.93       137\n",
      "weighted avg       0.94      0.93      0.93       137\n",
      "\n"
     ]
    }
   ],
   "source": [
    "from sklearn.metrics import precision_score, recall_score, classification_report, accuracy_score, f1_score\n",
    "\n",
    "print('Accuracy:', accuracy_score(y_test, y_pred))\n",
    "print('F1-score:', f1_score(y_test, y_pred, average=\"macro\"))\n",
    "print('Precision:', precision_score(y_test, y_pred, average=\"macro\"))\n",
    "print('Recall:', recall_score(y_test, y_pred, average=\"macro\"))\n",
    "print('\\n clasification report:\\n', classification_report(y_test, y_pred))\n",
    "\n"
   ]
  },
  {
   "cell_type": "markdown",
   "metadata": {
    "id": "hOau8COADisZ"
   },
   "source": [
    "### Medida AUC\n",
    "\n",
    "Podemos calcular também a medida AUC (área sob a curva ROC). A AUC é uma medida útil para comparar o desempenho de dois modelos diferentes, desde que o conjunto de dados esteja mais equilibrado."
   ]
  },
  {
   "cell_type": "code",
   "execution_count": 27,
   "metadata": {
    "colab": {
     "base_uri": "https://localhost:8080/"
    },
    "executionInfo": {
     "elapsed": 60,
     "status": "ok",
     "timestamp": 1742583425911,
     "user": {
      "displayName": "Julio Cesar dos Reis",
      "userId": "07725049740648948644"
     },
     "user_tz": 180
    },
    "id": "q1F4hj1UDisZ",
    "outputId": "e7320daf-1179-4c8b-cbbb-aec6fd971b88"
   },
   "outputs": [
    {
     "name": "stdout",
     "output_type": "stream",
     "text": [
      "AUC: 0.9269969445656918\n"
     ]
    }
   ],
   "source": [
    "from sklearn.metrics import roc_auc_score\n",
    "\n",
    "auc = roc_auc_score(y_test, y_pred)\n",
    "print('AUC:', auc)"
   ]
  },
  {
   "cell_type": "markdown",
   "metadata": {
    "id": "l2W9GU2bF44i"
   },
   "source": [
    "Exemplo usando validação cruzada (k-fold)"
   ]
  },
  {
   "cell_type": "code",
   "execution_count": 28,
   "metadata": {
    "colab": {
     "base_uri": "https://localhost:8080/",
     "height": 534
    },
    "executionInfo": {
     "elapsed": 286,
     "status": "ok",
     "timestamp": 1742584134611,
     "user": {
      "displayName": "Julio Cesar dos Reis",
      "userId": "07725049740648948644"
     },
     "user_tz": 180
    },
    "id": "veu8o0WPFz_u",
    "outputId": "7a719e4a-3146-4b18-d0b1-e60dbd782908"
   },
   "outputs": [
    {
     "name": "stdout",
     "output_type": "stream",
     "text": [
      "Cross-validation accuracy scores: [0.9  0.95 1.   0.95 0.95]\n",
      "Mean accuracy: 0.9500\n"
     ]
    },
    {
     "data": {
      "image/png": "[encoded data removed]",
      "text/plain": [
       "<Figure size 1000x600 with 1 Axes>"
      ]
     },
     "metadata": {},
     "output_type": "display_data"
    }
   ],
   "source": [
    "import numpy as np\n",
    "import matplotlib.pyplot as plt\n",
    "from sklearn.model_selection import train_test_split, cross_val_score, KFold\n",
    "from sklearn.datasets import make_classification\n",
    "from sklearn.tree import DecisionTreeClassifier\n",
    "from sklearn.metrics import accuracy_score\n",
    "\n",
    "# Step 1: Generate a small synthetic dataset\n",
    "X, y = make_classification(n_samples=100, n_features=4, n_classes=2, random_state=42)\n",
    "\n",
    "# Step 2: Define the Decision Tree model\n",
    "model = DecisionTreeClassifier(random_state=42)\n",
    "\n",
    "# Step 3: Define k-fold cross-validation (k=5)\n",
    "kf = KFold(n_splits=5, shuffle=True, random_state=42)\n",
    "\n",
    "# Step 4: Perform cross-validation and get accuracy scores\n",
    "cv_scores = cross_val_score(model, X, y, cv=kf, scoring='accuracy')\n",
    "\n",
    "# Step 5: Print the results\n",
    "print(f\"Cross-validation accuracy scores: {cv_scores}\")\n",
    "print(f\"Mean accuracy: {np.mean(cv_scores):.4f}\")\n",
    "\n",
    "# Step 6: Train on the full dataset\n",
    "model.fit(X, y)\n",
    "\n",
    "# Step 7: (Optional)  Visualize the decision tree - Plot the decision tree\n",
    "from sklearn.tree import plot_tree\n",
    "plt.figure(figsize=(10, 6))\n",
    "plot_tree(model, filled=True, feature_names=[f'Feature {i}' for i in range(X.shape[1])])\n",
    "plt.show()\n"
   ]
  },
  {
   "cell_type": "markdown",
   "metadata": {
    "id": "QcaKxWjSFVmM"
   },
   "source": [
    "Exemplo de ROC AUC plot"
   ]
  },
  {
   "cell_type": "code",
   "execution_count": 29,
   "metadata": {
    "colab": {
     "base_uri": "https://localhost:8080/",
     "height": 564
    },
    "executionInfo": {
     "elapsed": 457,
     "status": "ok",
     "timestamp": 1742634216953,
     "user": {
      "displayName": "Julio Cesar dos Reis",
      "userId": "07725049740648948644"
     },
     "user_tz": 180
    },
    "id": "J7ViYw6iFU3O",
    "outputId": "d18757da-3747-42ac-f22c-08e5240a57c1"
   },
   "outputs": [
    {
     "data": {
      "image/png": "[encoded data removed]",
      "text/plain": [
       "<Figure size 800x600 with 1 Axes>"
      ]
     },
     "metadata": {},
     "output_type": "display_data"
    }
   ],
   "source": [
    "import numpy as np\n",
    "import matplotlib.pyplot as plt\n",
    "from sklearn.metrics import roc_curve, auc\n",
    "from sklearn.model_selection import train_test_split\n",
    "from sklearn.tree import DecisionTreeClassifier\n",
    "from sklearn.datasets import make_classification\n",
    "\n",
    "# Gerar dados fictícios para um problema de classificação binária\n",
    "X, y = make_classification(n_samples=1000, n_features=20, random_state=42)\n",
    "X_train, X_test, y_train, y_test = train_test_split(X, y, test_size=0.3, random_state=42)\n",
    "\n",
    "# Treinar um classificador (Árvore de Decisão Binária)\n",
    "clf = DecisionTreeClassifier(random_state=42)\n",
    "clf.fit(X_train, y_train)\n",
    "\n",
    "# Obter as probabilidades preditas para a classe positiva\n",
    "y_scores = clf.predict_proba(X_test)[:, 1]\n",
    "\n",
    "# Calcular a curva ROC\n",
    "fpr, tpr, _ = roc_curve(y_test, y_scores)\n",
    "roc_auc = auc(fpr, tpr)\n",
    "\n",
    "# Plotar a curva ROC\n",
    "plt.figure(figsize=(8, 6))\n",
    "plt.plot(fpr, tpr, color='blue', lw=2, label=f'ROC curve (area = {roc_auc:.2f})')\n",
    "plt.plot([0, 1], [0, 1], color='gray', linestyle='--')  # Linha de referência\n",
    "plt.xlim([0.0, 1.0])\n",
    "plt.ylim([0.0, 1.05])\n",
    "plt.xlabel('False Positive Rate')\n",
    "plt.ylabel('True Positive Rate')\n",
    "plt.title('Receiver Operating Characteristic (ROC) Curve')\n",
    "plt.legend(loc='lower right')\n",
    "plt.show()"
   ]
  },
  {
   "cell_type": "markdown",
   "metadata": {
    "id": "UHt20W3DGGc3"
   },
   "source": [
    "Exemplo de ROC AUC com RandomForestClassifier"
   ]
  },
  {
   "cell_type": "code",
   "execution_count": 30,
   "metadata": {
    "colab": {
     "base_uri": "https://localhost:8080/",
     "height": 564
    },
    "executionInfo": {
     "elapsed": 634,
     "status": "ok",
     "timestamp": 1742634276486,
     "user": {
      "displayName": "Julio Cesar dos Reis",
      "userId": "07725049740648948644"
     },
     "user_tz": 180
    },
    "id": "YjJ2PQ56GDcM",
    "outputId": "a708340d-db3d-4383-fdcb-58c13919888f"
   },
   "outputs": [
    {
     "data": {
      "image/png": "[encoded data removed]",
      "text/plain": [
       "<Figure size 800x600 with 1 Axes>"
      ]
     },
     "metadata": {},
     "output_type": "display_data"
    }
   ],
   "source": [
    "import numpy as np\n",
    "import matplotlib.pyplot as plt\n",
    "from sklearn.metrics import roc_curve, auc\n",
    "from sklearn.model_selection import train_test_split\n",
    "from sklearn.ensemble import RandomForestClassifier\n",
    "from sklearn.datasets import make_classification\n",
    "\n",
    "# Gerar dados fictícios para um problema de classificação binária\n",
    "X, y = make_classification(n_samples=1000, n_features=20, random_state=42)\n",
    "X_train, X_test, y_train, y_test = train_test_split(X, y, test_size=0.3, random_state=42)\n",
    "\n",
    "# Treinar um classificador (RandomForest como exemplo)\n",
    "clf = RandomForestClassifier(n_estimators=100, random_state=42)\n",
    "clf.fit(X_train, y_train)\n",
    "\n",
    "# Obter as probabilidades preditas para a classe positiva\n",
    "y_scores = clf.predict_proba(X_test)[:, 1]\n",
    "\n",
    "# Calcular a curva ROC\n",
    "fpr, tpr, _ = roc_curve(y_test, y_scores)\n",
    "roc_auc = auc(fpr, tpr)\n",
    "\n",
    "# Plotar a curva ROC\n",
    "plt.figure(figsize=(8, 6))\n",
    "plt.plot(fpr, tpr, color='blue', lw=2, label=f'ROC curve (area = {roc_auc:.2f})')\n",
    "plt.plot([0, 1], [0, 1], color='gray', linestyle='--')  # Linha de referência\n",
    "plt.xlim([0.0, 1.0])\n",
    "plt.ylim([0.0, 1.05])\n",
    "plt.xlabel('False Positive Rate')\n",
    "plt.ylabel('True Positive Rate')\n",
    "plt.title('Receiver Operating Characteristic (ROC) Curve')\n",
    "plt.legend(loc='lower right')\n",
    "plt.show()\n"
   ]
  }
 ],
 "metadata": {
  "colab": {
   "provenance": []
  },
  "kernelspec": {
   "display_name": "Python 3",
   "language": "python",
   "name": "python3"
  },
  "language_info": {
   "codemirror_mode": {
    "name": "ipython",
    "version": 3
   },
   "file_extension": ".py",
   "mimetype": "text/x-python",
   "name": "python",
   "nbconvert_exporter": "python",
   "pygments_lexer": "ipython3",
   "version": "3.13.2"
  }
 },
 "nbformat": 4,
 "nbformat_minor": 0
}
