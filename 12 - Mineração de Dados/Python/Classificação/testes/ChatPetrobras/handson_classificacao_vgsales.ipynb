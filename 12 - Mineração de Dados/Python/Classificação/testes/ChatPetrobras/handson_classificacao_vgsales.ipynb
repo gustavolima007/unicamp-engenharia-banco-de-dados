{
 "cells": [
  {
   "cell_type": "markdown",
   "metadata": {},
   "source": [
    "# Exercícios de Classificação de Dados com NumPy, Pandas e Scikit-Learn - Versão do Professor\n",
    "\n",
    "## 1. Introdução ao NumPy\n",
    "### Exercício 1\n",
    "Importe a biblioteca NumPy e crie um array unidimensional com os valores de vendas globais (Global_Sales) do dataset \"vgsales.csv\"."
   ]
  },
  {
   "cell_type": "code",
   "execution_count": null,
   "metadata": {},
   "outputs": [],
   "source": [
    "import numpy as np\n",
    "import pandas as pd\n",
    "\n",
    "# Carregar o dataset\n",
    "data = pd.read_csv('vgsales.csv')\n",
    "\n",
    "# Criar um array unidimensional com os valores de vendas globais\n",
    "global_sales_array = np.array(data['Global_Sales'])"
   ]
  },
  {
   "cell_type": "markdown",
   "metadata": {},
   "source": [
    "Exercício 2\n",
    "\n",
    "Calcule a média, mediana e desvio padrão das vendas globais utilizando funções do NumPy."
   ]
  },
  {
   "cell_type": "code",
   "execution_count": null,
   "metadata": {},
   "outputs": [],
   "source": [
    "mean_sales = np.mean(global_sales_array)\n",
    "median_sales = np.median(global_sales_array)\n",
    "std_sales = np.std(global_sales_array)\n",
    "\n",
    "print(f\"Média: {mean_sales}, Mediana: {median_sales}, Desvio Padrão: {std_sales}\")\n"
   ]
  },
  {
   "cell_type": "markdown",
   "metadata": {},
   "source": [
    "2. Manipulação de Dados com Pandas\n",
    "\n",
    "Exercício 3\n",
    "\n",
    "Importe a biblioteca Pandas e carregue o dataset \"vgsales.csv\" em um DataFrame."
   ]
  },
  {
   "cell_type": "code",
   "execution_count": null,
   "metadata": {},
   "outputs": [],
   "source": [
    "import pandas as pd\n",
    "\n",
    "# Carregar o dataset\n",
    "data = pd.read_csv('vgsales.csv')\n"
   ]
  },
  {
   "cell_type": "markdown",
   "metadata": {},
   "source": [
    "Exercício 4\n",
    "\n",
    "Exiba as primeiras 10 linhas do DataFrame e descreva as colunas presentes."
   ]
  },
  {
   "cell_type": "code",
   "execution_count": null,
   "metadata": {},
   "outputs": [],
   "source": [
    "print(data.head(10))"
   ]
  },
  {
   "cell_type": "markdown",
   "metadata": {},
   "source": [
    "Exercício 5\n",
    "\n",
    "Verifique se há valores ausentes no DataFrame e, se houver, conte quantos são."
   ]
  },
  {
   "cell_type": "code",
   "execution_count": null,
   "metadata": {},
   "outputs": [],
   "source": [
    "missing_values = data.isnull().sum()\n",
    "print(missing_values[missing_values > 0])"
   ]
  },
  {
   "cell_type": "markdown",
   "metadata": {},
   "source": [
    "3. Limpeza de Dados\n",
    "\n",
    "Exercício 6\n",
    "\n",
    "Remova as linhas que contêm valores ausentes do DataFrame."
   ]
  },
  {
   "cell_type": "code",
   "execution_count": null,
   "metadata": {},
   "outputs": [],
   "source": [
    "data_cleaned = data.dropna()"
   ]
  },
  {
   "cell_type": "markdown",
   "metadata": {},
   "source": [
    "Exercício 7\n",
    "\n",
    "Crie uma nova coluna chamada \"Total_Sales\" que seja a soma das vendas em todas as regiões (NA_Sales, EU_Sales, JP_Sales, Other_Sales)."
   ]
  },
  {
   "cell_type": "code",
   "execution_count": null,
   "metadata": {},
   "outputs": [],
   "source": [
    "data_cleaned['Total_Sales'] = data_cleaned['NA_Sales'] + data_cleaned['EU_Sales'] + data_cleaned['JP_Sales'] + data_cleaned['Other_Sales']\n"
   ]
  },
  {
   "cell_type": "markdown",
   "metadata": {},
   "source": [
    "4. Análise Exploratória de Dados\n",
    "\n",
    "Exercício 8\n",
    "\n",
    "Utilize o método groupby do Pandas para calcular as vendas médias por gênero (Genre) e exiba os resultados em ordem decrescente."
   ]
  },
  {
   "cell_type": "code",
   "execution_count": null,
   "metadata": {},
   "outputs": [],
   "source": [
    "average_sales_by_genre = data_cleaned.groupby('Genre')['Total_Sales'].mean().sort_values(ascending=False)\n",
    "print(average_sales_by_genre)"
   ]
  },
  {
   "cell_type": "markdown",
   "metadata": {},
   "source": [
    "Exercício 9\n",
    "\n",
    "Crie um gráfico de barras que mostre as vendas totais por plataforma (Platform) utilizando a biblioteca Matplotlib."
   ]
  },
  {
   "cell_type": "code",
   "execution_count": null,
   "metadata": {},
   "outputs": [],
   "source": [
    "import matplotlib.pyplot as plt\n",
    "\n",
    "total_sales_by_platform = data_cleaned.groupby('Platform')['Total_Sales'].sum()\n",
    "total_sales_by_platform.plot(kind='bar')\n",
    "plt.title('Vendas Totais por Plataforma')\n",
    "plt.xlabel('Plataforma')\n",
    "plt.ylabel('Vendas Totais')\n",
    "plt.show()\n"
   ]
  },
  {
   "cell_type": "markdown",
   "metadata": {},
   "source": [
    "5. Preparação para Classificação\n",
    "\n",
    "Exercício 10\n",
    "\n",
    "Converta a coluna \"Genre\" em variáveis categóricas utilizando o método pd.get_dummies()."
   ]
  },
  {
   "cell_type": "code",
   "execution_count": null,
   "metadata": {},
   "outputs": [],
   "source": [
    "data_dummies = pd.get_dummies(data_cleaned, columns=['Genre'], drop_first=True)"
   ]
  },
  {
   "cell_type": "markdown",
   "metadata": {},
   "source": [
    "Exercício 11\n",
    "\n",
    "Separe o DataFrame em variáveis independentes (X) e dependentes (y), onde y será a coluna \"Global_Sales\" e X será o restante das colunas."
   ]
  },
  {
   "cell_type": "code",
   "execution_count": null,
   "metadata": {},
   "outputs": [],
   "source": [
    "X = data_dummies.drop('Global_Sales', axis=1)\n",
    "y = data_dummies['Global_Sales']"
   ]
  },
  {
   "cell_type": "markdown",
   "metadata": {},
   "source": [
    "6. Divisão de Dados\n",
    "\n",
    "Exercício 12\n",
    "\n",
    "Divida os dados em conjuntos de treinamento e teste utilizando a função train_test_split do Scikit-Learn, com 80% dos dados para treinamento e 20% para teste."
   ]
  },
  {
   "cell_type": "code",
   "execution_count": null,
   "metadata": {},
   "outputs": [],
   "source": [
    "from sklearn.model_selection import train_test_split\n",
    "\n",
    "X_train, X_test, y_train, y_test = train_test_split(X, y, test_size=0.2, random_state=42)\n"
   ]
  },
  {
   "cell_type": "markdown",
   "metadata": {},
   "source": [
    "7. Classificação com Scikit-Learn\n",
    "\n",
    "Exercício 13\n",
    "\n",
    "Importe o classificador RandomForestClassifier do Scikit-Learn e treine o modelo com os dados de treinamento."
   ]
  },
  {
   "cell_type": "code",
   "execution_count": null,
   "metadata": {},
   "outputs": [],
   "source": [
    "from sklearn.ensemble import RandomForestClassifier\n",
    "\n",
    "model = RandomForestClassifier()\n",
    "model.fit(X_train, y_train)\n"
   ]
  },
  {
   "cell_type": "markdown",
   "metadata": {},
   "source": [
    "Exercício 14\n",
    "\n",
    "Faça previsões com o conjunto de teste e calcule a acurácia do modelo utilizando a função accuracy_score."
   ]
  },
  {
   "cell_type": "code",
   "execution_count": null,
   "metadata": {},
   "outputs": [],
   "source": [
    "from sklearn.metrics import accuracy_score\n",
    "\n",
    "y_pred = model.predict(X_test)\n",
    "accuracy = accuracy_score(y_test, y_pred)\n",
    "print(f\"Acurácia do modelo: {accuracy}\")\n"
   ]
  },
  {
   "cell_type": "markdown",
   "metadata": {},
   "source": [
    "8. Avaliação do Modelo\n",
    "\n",
    "Exercício 15\n",
    "\n",
    "Crie uma matriz de confusão para visualizar o desempenho do modelo e discuta os resultados obtidos."
   ]
  },
  {
   "cell_type": "code",
   "execution_count": null,
   "metadata": {},
   "outputs": [],
   "source": [
    "from sklearn.metrics import confusion_matrix, ConfusionMatrixDisplay\n",
    "\n",
    "cm = confusion_matrix(y_test, y_pred)\n",
    "disp = ConfusionMatrixDisplay(confusion_matrix=cm)\n",
    "disp.plot()\n",
    "plt.title('Matriz de Confusão')\n",
    "plt.show()"
   ]
  }
 ],
 "metadata": {
  "kernelspec": {
   "display_name": "base",
   "language": "python",
   "name": "python3"
  },
  "language_info": {
   "codemirror_mode": {
    "name": "ipython",
    "version": 3
   },
   "file_extension": ".py",
   "mimetype": "text/x-python",
   "name": "python",
   "nbconvert_exporter": "python",
   "pygments_lexer": "ipython3",
   "version": "3.10.14"
  }
 },
 "nbformat": 4,
 "nbformat_minor": 2
}
