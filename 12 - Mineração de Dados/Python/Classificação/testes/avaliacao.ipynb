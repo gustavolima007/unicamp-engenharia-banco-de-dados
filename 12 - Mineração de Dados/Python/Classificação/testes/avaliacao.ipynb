{
 "cells": [
  {
   "cell_type": "code",
   "execution_count": 9,
   "id": "2b449160-21e9-4ead-8b3a-0034f189bbbd",
   "metadata": {},
   "outputs": [
    {
     "name": "stdout",
     "output_type": "stream",
     "text": [
      "[[92.026308 35.392674 77.416963 56.633634 115.72353 58.057542]\n",
      " [68.832021 22.218482 50.092194 46.613539 105.985135 -3.530317]\n",
      " [58.828379 37.577873 125.742385 21.250506 135.629418 117.314683]\n",
      " ...\n",
      " [84.974132 33.021175 60.859873 51.952957 125.659534 74.333409]\n",
      " [44.318907 12.537992 36.098763 31.780915 124.115836 5.415825]\n",
      " [95.382596 24.822631 95.157633 70.559965 89.307547 57.660841]]\n"
     ]
    }
   ],
   "source": [
    "import random\n",
    "import pandas as pd\n",
    "import numpy as np\n",
    "import matplotlib.pyplot as plt\n",
    "from sklearn.model_selection import train_test_split\n",
    "random.seed(42)\n",
    "data = pd.read_csv('../data/vertebralcolumn-2C.csv', header=(0))\n",
    "\n",
    "data = data.to_numpy()\n",
    "nrow,ncol = data.shape\n",
    "y = data[:,-1]\n",
    "y = pd.get_dummies(y)\n",
    "X = data[:,0:ncol-1]\n",
    "\n",
    "p = 0.2 # fracao de elementos no conjunto de teste\n",
    "x_train, x_test, y_train, y_test = train_test_split(X, y, test_size = p, random_state = 2)\n",
    "\n",
    "print(x_train)"
   ]
  },
  {
   "cell_type": "code",
   "execution_count": 12,
   "id": "6511fd7b-a8e6-4213-926d-073f91bf0898",
   "metadata": {},
   "outputs": [
    {
     "name": "stdout",
     "output_type": "stream",
     "text": [
      "Acurácia: 0.7741935483870968\n",
      "Precisão: 0.7741935483870968\n"
     ]
    }
   ],
   "source": [
    "from sklearn.tree import DecisionTreeClassifier\n",
    "from sklearn import metrics\n",
    "\n",
    "tree_classifier = DecisionTreeClassifier(criterion = 'gini', random_state = 101)\n",
    "\n",
    "tree_classifier.fit(x_train, y_train)\n",
    "\n",
    "y_pred = tree_classifier.predict(x_test)\n",
    "\n",
    "accuracy = metrics.accuracy_score(y_test, y_pred)\n",
    "precision = metrics.precision_score(y_test, y_pred, average=\"micro\")\n",
    "\n",
    "print(f'Acurácia: {accuracy}')\n",
    "print(f'Precisão: {precision}')"
   ]
  },
  {
   "cell_type": "code",
   "execution_count": 16,
   "id": "7bdcd32d-2a4a-4518-9845-d5882dc69e87",
   "metadata": {},
   "outputs": [
    {
     "name": "stdout",
     "output_type": "stream",
     "text": [
      "Acurácia: 0.8870967741935484\n",
      "Precisão: 0.8870967741935484\n",
      "AUC: 0.8383838383838385\n"
     ]
    }
   ],
   "source": [
    "from sklearn.ensemble import RandomForestClassifier\n",
    "\n",
    "random_forest_classifier = RandomForestClassifier(n_estimators=100, random_state = 42)\n",
    "\n",
    "random_forest_classifier.fit(x_train, y_train)\n",
    "\n",
    "y_pred = random_forest_classifier.predict(x_test)\n",
    "\n",
    "accuracy = metrics.accuracy_score(y_test, y_pred)\n",
    "precision = metrics.precision_score(y_test, y_pred, average=\"micro\")\n",
    "auc_curve = metrics.roc_auc_score(y_test, y_pred)\n",
    "\n",
    "print(f'Acurácia: {accuracy}')\n",
    "print(f'Precisão: {precision}')\n",
    "print(f'AUC: {auc_curve}')"
   ]
  },
  {
   "cell_type": "code",
   "execution_count": null,
   "id": "1b761a3a-d681-4428-ac4a-dfe6a79d47cb",
   "metadata": {},
   "outputs": [],
   "source": []
  }
 ],
 "metadata": {
  "kernelspec": {
   "display_name": "Python 3 (ipykernel)",
   "language": "python",
   "name": "python3"
  },
  "language_info": {
   "codemirror_mode": {
    "name": "ipython",
    "version": 3
   },
   "file_extension": ".py",
   "mimetype": "text/x-python",
   "name": "python",
   "nbconvert_exporter": "python",
   "pygments_lexer": "ipython3",
   "version": "3.12.1"
  }
 },
 "nbformat": 4,
 "nbformat_minor": 5
}
