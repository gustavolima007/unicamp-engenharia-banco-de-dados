{
 "cells": [
  {
   "cell_type": "markdown",
   "metadata": {},
   "source": [
    "## Exercicios de Numpy"
   ]
  },
  {
   "cell_type": "code",
   "execution_count": 1,
   "metadata": {},
   "outputs": [
    {
     "name": "stdout",
     "output_type": "stream",
     "text": [
      "10\n"
     ]
    }
   ],
   "source": [
    "import numpy as np\n",
    "\n",
    "# Criando um array\n",
    "myArr = np.array([10, 20, 30, 40])\n",
    "\n",
    "# Imprimindo o primeiro item\n",
    "print(myArr[0])  # Saída: 10"
   ]
  },
  {
   "cell_type": "code",
   "execution_count": null,
   "metadata": {},
   "outputs": [
    {
     "name": "stdout",
     "output_type": "stream",
     "text": [
      "[1. 6. 3.]\n"
     ]
    }
   ],
   "source": [
    "import numpy as np\n",
    "\n",
    "# Criando um array com decimais\n",
    "myArr = np.array([1.234, 5.678, 3.14159])\n",
    "\n",
    "# Arredondando para 2 casas decimais\n",
    "resultado = np.around(myArr, decimals=2)\n",
    "print(resultado)  # Saída: [1.23 5.68 3.14]"
   ]
  },
  {
   "cell_type": "code",
   "execution_count": 5,
   "metadata": {},
   "outputs": [
    {
     "name": "stdout",
     "output_type": "stream",
     "text": [
      "[3 4 5]\n"
     ]
    }
   ],
   "source": [
    "import numpy as np\n",
    "\n",
    "# Criando o array\n",
    "arr = np.array([1, 2, 3, 4, 5, 6, 7])\n",
    "\n",
    "# Imprimindo os números [3, 4, 5]\n",
    "print(arr[2:5])  # Saída: [3 4 5]"
   ]
  },
  {
   "cell_type": "code",
   "execution_count": 6,
   "metadata": {},
   "outputs": [
    {
     "name": "stdout",
     "output_type": "stream",
     "text": [
      "[5 6 7]\n"
     ]
    }
   ],
   "source": [
    "import numpy as np\n",
    "\n",
    "# Criando o array\n",
    "arr = np.array([1, 2, 3, 4, 5, 6, 7])\n",
    "\n",
    "# Imprimindo os últimos 4 números\n",
    "print(arr[4:])  # Saída: [4 5 6 7]"
   ]
  },
  {
   "cell_type": "code",
   "execution_count": 7,
   "metadata": {},
   "outputs": [
    {
     "name": "stdout",
     "output_type": "stream",
     "text": [
      "[1 2 3 4 5 6]\n"
     ]
    }
   ],
   "source": [
    "import numpy as np\n",
    "\n",
    "# Criando dois arrays\n",
    "arr1 = np.array([1, 2, 3])\n",
    "arr2 = np.array([4, 5, 6])\n",
    "\n",
    "# Unindo os arrays\n",
    "resultado = np.concatenate((arr1, arr2))\n",
    "print(resultado)  # Saída: [1 2 3 4 5 6]"
   ]
  },
  {
   "cell_type": "code",
   "execution_count": 12,
   "metadata": {},
   "outputs": [
    {
     "name": "stdout",
     "output_type": "stream",
     "text": [
      "(4,)\n",
      "(2, 3)\n"
     ]
    }
   ],
   "source": [
    "import numpy as np\n",
    "\n",
    "# Array 1D\n",
    "arr1 = np.array([1, 2, 3, 4])\n",
    "print(arr1.shape)  # Saída: (4,) -> 4 elementos na única dimensão\n",
    "\n",
    "# Array 2D\n",
    "arr2 = np.array([[5,7, 6],[5,7, 6]])\n",
    "print(arr2.shape)  # Saída: (3, 2) -> 3 linhas e 2 colunas"
   ]
  },
  {
   "cell_type": "code",
   "execution_count": 13,
   "metadata": {},
   "outputs": [
    {
     "name": "stdout",
     "output_type": "stream",
     "text": [
      "[99  3]\n"
     ]
    }
   ],
   "source": [
    "import numpy as np\n",
    "\n",
    "# Criando um array\n",
    "arr = np.array([1, 2, 3, 4])\n",
    "\n",
    "# Criando uma view\n",
    "view = arr[1:3]  # Pega os elementos [2, 3]\n",
    "\n",
    "# Modificando o array original\n",
    "arr[1] = 99\n",
    "\n",
    "# A view reflete a mudança\n",
    "print(view)  # Saída: [99 3]"
   ]
  },
  {
   "cell_type": "code",
   "execution_count": 14,
   "metadata": {},
   "outputs": [
    {
     "name": "stdout",
     "output_type": "stream",
     "text": [
      "95\n",
      "64\n"
     ]
    }
   ],
   "source": [
    "import numpy as np\n",
    "\n",
    "# Gerando um número aleatório de 0 a 99\n",
    "numero = np.random.randint(100)\n",
    "print(numero)  # Saída: um número inteiro entre 0 e 99, como 42\n",
    "\n",
    "# Para incluir 100, use:\n",
    "numero = np.random.randint(101)\n",
    "print(numero)  # Saída: um número inteiro entre 0 e 100"
   ]
  },
  {
   "cell_type": "code",
   "execution_count": 15,
   "metadata": {},
   "outputs": [
    {
     "name": "stdout",
     "output_type": "stream",
     "text": [
      "[5 7 9]\n"
     ]
    }
   ],
   "source": [
    "import numpy as np\n",
    "\n",
    "# Criando dois arrays\n",
    "arr1 = np.array([1, 2, 3])\n",
    "arr2 = np.array([4, 5, 6])\n",
    "\n",
    "# Somando os arrays\n",
    "resultado = np.add(arr1, arr2)\n",
    "print(resultado)  # Saída: [5 7 9]"
   ]
  },
  {
   "cell_type": "code",
   "execution_count": 16,
   "metadata": {},
   "outputs": [
    {
     "name": "stdout",
     "output_type": "stream",
     "text": [
      "[1 3 6]\n"
     ]
    }
   ],
   "source": [
    "import numpy as np\n",
    "\n",
    "# Criando o array\n",
    "arr = np.array([1, 2, 3])\n",
    "\n",
    "# Calculando a soma cumulativa\n",
    "resultado = np.cumsum(arr)\n",
    "print(resultado)  # Saída: [1 3 6]"
   ]
  },
  {
   "cell_type": "code",
   "execution_count": 17,
   "metadata": {},
   "outputs": [
    {
     "name": "stdout",
     "output_type": "stream",
     "text": [
      "[3 3 3]\n"
     ]
    }
   ],
   "source": [
    "import numpy as np\n",
    "\n",
    "# Criando dois arrays\n",
    "arr1 = np.array([5, 6, 7])\n",
    "arr2 = np.array([2, 3, 4])\n",
    "\n",
    "# Subtraindo os arrays\n",
    "resultado = np.subtract(arr1, arr2)\n",
    "print(resultado)  # Saída: [3 3 3]"
   ]
  },
  {
   "cell_type": "code",
   "execution_count": 18,
   "metadata": {},
   "outputs": [
    {
     "name": "stdout",
     "output_type": "stream",
     "text": [
      "[1 2 3]\n",
      "[99  2  3]\n"
     ]
    }
   ],
   "source": [
    "import numpy as np\n",
    "\n",
    "# Criando um array\n",
    "arr = np.array([1, 2, 3])\n",
    "\n",
    "# Criando uma cópia\n",
    "copia = arr.copy()\n",
    "\n",
    "# Modificando o array original\n",
    "arr[0] = 99\n",
    "\n",
    "# A cópia não é afetada\n",
    "print(copia)  # Saída: [1 2 3]\n",
    "print(arr)    # Saída: [99 2 3]"
   ]
  },
  {
   "cell_type": "code",
   "execution_count": 19,
   "metadata": {},
   "outputs": [
    {
     "name": "stdout",
     "output_type": "stream",
     "text": [
      "(array([1, 3]),)\n",
      "[2 2]\n"
     ]
    }
   ],
   "source": [
    "import numpy as np\n",
    "\n",
    "# Criando um array\n",
    "arr = np.array([1, 2, 3, 2, 4])\n",
    "\n",
    "# Procurando o valor 2\n",
    "indices = np.where(arr == 2)\n",
    "print(indices)      # Saída: (array([1, 3]),) -> índices onde 2 aparece\n",
    "print(arr[indices]) # Saída: [2 2] -> valores correspondentes"
   ]
  },
  {
   "cell_type": "code",
   "execution_count": 21,
   "metadata": {},
   "outputs": [
    {
     "name": "stdout",
     "output_type": "stream",
     "text": [
      "[49.86164878 49.97598688 50.06984375 50.38590929 49.53908303 49.91509121\n",
      " 49.79233425 49.83886048 49.92096517 49.76351164 50.18400586 50.19899426\n",
      " 49.88534769 50.1179214  49.86743785 50.10883798 49.73813172 49.76566486\n",
      " 49.8153048  49.85472716 49.59371174 50.21760744 49.95310028 49.95899856\n",
      " 50.54441074 50.11296451 50.18796577 50.28309393 50.30917095 49.93600965\n",
      " 49.98391156 50.07079164 49.86834941 49.86989146 49.84004997 49.94168549\n",
      " 49.94660736 49.71350385 49.70583965 50.04524158 49.61068613 50.01040959\n",
      " 50.03978123 49.70293681 49.99399836 50.11218618 50.09360456 50.0660749\n",
      " 49.69179927 49.69412959 49.81382753 50.09645598 49.6807333  49.98015003\n",
      " 50.38024908 50.02836778 49.79443343 50.11521614 50.1282048  49.95266551\n",
      " 49.86175044 50.26761267 49.80047772 49.81169679 50.02427797 50.15404059\n",
      " 49.99065473 49.92407809 50.07207054 49.8453145  49.72889158 50.25644737\n",
      " 49.71604186 49.93784868 50.19983472 50.02101357 50.12921473 50.26072975\n",
      " 50.06508917 49.94721498 49.99700172 50.04894179 50.01785134 49.74790399\n",
      " 50.23036086 50.08534382 50.00464304 50.03141628 49.99321985 50.08751004\n",
      " 49.60230726 49.91787727 49.94053234 49.9132623  50.11561775 49.68781183\n",
      " 49.9926909  50.13581993 50.16395715 50.08177747]\n"
     ]
    }
   ],
   "source": [
    "import numpy as np\n",
    "\n",
    "# Gerando 100 números com distribuição normal\n",
    "arr = np.random.normal(loc=50, scale=0.2, size=100)\n",
    "print(arr)  # Saída: array com 100 valores próximos de 50, variando conforme o desvio padrão 0.2"
   ]
  },
  {
   "cell_type": "code",
   "execution_count": 23,
   "metadata": {},
   "outputs": [
    {
     "name": "stdout",
     "output_type": "stream",
     "text": [
      "[4 4 4 4]\n"
     ]
    }
   ],
   "source": [
    "import numpy as np\n",
    "\n",
    "arr = np.array([1, 4, 3, 4, 5, 4, 4])\n",
    "indices = np.where(arr == 4)\n",
    "valores = arr[indices]\n",
    "print(valores)  # Saída: [4 4 4 4]"
   ]
  },
  {
   "cell_type": "code",
   "execution_count": 24,
   "metadata": {},
   "outputs": [
    {
     "name": "stdout",
     "output_type": "stream",
     "text": [
      "[1 3 5 7]\n"
     ]
    }
   ],
   "source": [
    "import numpy as np\n",
    "\n",
    "arr = np.array([1, 2, 3, 4, 5, 6, 7])\n",
    "print(arr[::2])  # Saída: [1 3 5 7]\n",
    "# print(arr[1:3:5:7])  # Erro de sintaxe\n",
    "# print(arr(0: step = 2))  # Erro de sintaxe"
   ]
  },
  {
   "cell_type": "code",
   "execution_count": 25,
   "metadata": {},
   "outputs": [
    {
     "name": "stdout",
     "output_type": "stream",
     "text": [
      "[1. 2. 3. 4.]\n",
      "float32\n"
     ]
    }
   ],
   "source": [
    "import numpy as np\n",
    "\n",
    "# Criando um array do tipo float\n",
    "arr = np.array([1, 2, 3, 4], dtype='f')\n",
    "print(arr)        # Saída: [1. 2. 3. 4.]\n",
    "print(arr.dtype)  # Saída: float32"
   ]
  },
  {
   "cell_type": "code",
   "execution_count": 26,
   "metadata": {},
   "outputs": [
    {
     "name": "stdout",
     "output_type": "stream",
     "text": [
      "[array([1, 2]), array([3, 4]), array([5, 6])]\n"
     ]
    }
   ],
   "source": [
    "import numpy as np\n",
    "\n",
    "# Criando um array\n",
    "arr = np.array([1, 2, 3, 4, 5, 6])\n",
    "\n",
    "# Separando em 3 partes\n",
    "subarrays = np.array_split(arr, 3)\n",
    "print(subarrays)  # Saída: [array([1, 2]), array([3, 4]), array([5, 6])]"
   ]
  },
  {
   "cell_type": "code",
   "execution_count": 28,
   "metadata": {},
   "outputs": [
    {
     "name": "stdout",
     "output_type": "stream",
     "text": [
      "Array ordenado (cópia): [ 1  2  3  4  5  6  7  8  9 10]\n",
      "Array original após ordenação: [ 1  2  3  4  5  6  7  8  9 10]\n"
     ]
    }
   ],
   "source": [
    "import numpy as np\n",
    "\n",
    "# Criando um array com mais elementos\n",
    "arr = np.array([5, 2, 9, 1, 7, 6, 3, 8, 4, 10])\n",
    "\n",
    "# Ordenando o array (retorna uma cópia ordenada)\n",
    "ordenado = np.sort(arr)\n",
    "print(\"Array ordenado (cópia):\", ordenado)  \n",
    "# Saída: [1 2 3 4 5 6 7 8 9 10]\n",
    "\n",
    "# Ordenando no lugar (modifica o array original)\n",
    "arr.sort()\n",
    "print(\"Array original após ordenação:\", arr)  \n",
    "# Saída: [1 2 3 4 5 6 7 8 9 10]"
   ]
  },
  {
   "cell_type": "code",
   "execution_count": 29,
   "metadata": {},
   "outputs": [
    {
     "name": "stdout",
     "output_type": "stream",
     "text": [
      "Array ordenado: [0.7 1.2 2.9 3.5 4.8 5.1 6.4 7.6 8.2 9.3]\n"
     ]
    }
   ],
   "source": [
    "import numpy as np\n",
    "\n",
    "# Array maior com números decimais\n",
    "arr = np.array([3.5, 1.2, 4.8, 2.9, 5.1, 0.7, 9.3, 6.4, 8.2, 7.6])\n",
    "\n",
    "# Ordenando\n",
    "ordenado = np.sort(arr)\n",
    "print(\"Array ordenado:\", ordenado)\n",
    "# Saída: [0.7 1.2 2.9 3.5 4.8 5.1 6.4 7.6 8.2 9.3]"
   ]
  },
  {
   "cell_type": "code",
   "execution_count": 30,
   "metadata": {},
   "outputs": [
    {
     "name": "stdout",
     "output_type": "stream",
     "text": [
      "[3.5 1.2 4.8 2.9 5.1 0.7 9.3 6.4 8.2 7.6]\n"
     ]
    }
   ],
   "source": [
    "arr = np.array((3.5, 1.2, 4.8, 2.9, 5.1, 0.7, 9.3, 6.4, 8.2, 7.6))\n",
    "print(arr)  # Saída: [3.5 1.2 4.8 2.9 5.1 0.7 9.3 6.4 8.2 7.6]"
   ]
  },
  {
   "cell_type": "code",
   "execution_count": null,
   "metadata": {},
   "outputs": [
    {
     "name": "stdout",
     "output_type": "stream",
     "text": [
      "int64\n",
      "float64\n",
      "float32\n",
      "[1 2 3]\n"
     ]
    }
   ],
   "source": [
    "import numpy as np\n",
    "\n",
    "# Criando arrays com diferentes tipos de dados\n",
    "arr1 = np.array([1, 2, 3])              # Inteiros\n",
    "arr2 = np.array([1.5, 2.7, 3.2])        # Floats\n",
    "arr3 = np.array([1, 2, 3], dtype='f')   # Float32\n",
    "\n",
    "# Checando os tipos de dados\n",
    "print(arr1.dtype)  # Saída: int64 (ou int32, dependendo da plataforma)\n",
    "print(arr2.dtype)  # Saída: float64\n",
    "print(arr3.dtype)  # Saída: float32"
   ]
  },
  {
   "cell_type": "code",
   "execution_count": 33,
   "metadata": {},
   "outputs": [
    {
     "name": "stdout",
     "output_type": "stream",
     "text": [
      "1\n",
      "0\n",
      "2\n",
      "[[1 2 3]\n",
      " [4 5 6]]\n"
     ]
    }
   ],
   "source": [
    "import numpy as np\n",
    "\n",
    "# Testando as opções\n",
    "arr1 = np.array([1, 2, 3, 4, 5])\n",
    "arr2 = np.array(43)\n",
    "arr3 = np.array([[1, 2, 3], [4, 5, 6]])\n",
    "\n",
    "print(arr1.ndim)  # Saída: 1\n",
    "print(arr2.ndim)  # Saída: 0\n",
    "print(arr3.ndim)  # Saída: 2\n",
    "print(arr3)       # Saída: [[1 2 3]\n",
    "                  #          [4 5 6]]"
   ]
  },
  {
   "cell_type": "code",
   "execution_count": 34,
   "metadata": {},
   "outputs": [
    {
     "name": "stdout",
     "output_type": "stream",
     "text": [
      "[1 2 3 4 5]\n",
      "<class 'numpy.ndarray'>\n"
     ]
    }
   ],
   "source": [
    "import numpy as np\n",
    "\n",
    "# Criando um array\n",
    "arr = np.array([1, 2, 3, 4, 5])\n",
    "print(arr)        # Saída: [1 2 3 4 5]\n",
    "print(type(arr))  # Saída: <class 'numpy.ndarray'>"
   ]
  },
  {
   "cell_type": "code",
   "execution_count": 35,
   "metadata": {},
   "outputs": [
    {
     "name": "stdout",
     "output_type": "stream",
     "text": [
      "8\n"
     ]
    }
   ],
   "source": [
    "import numpy as np\n",
    "\n",
    "# Criando o array\n",
    "arr = np.array([[1, 2, 3, 4, 5], [6, 7, 8, 9, 10]])\n",
    "\n",
    "# Imprimindo o número 8\n",
    "print(arr[1, 2])  # Saída: 8"
   ]
  },
  {
   "cell_type": "code",
   "execution_count": 38,
   "metadata": {},
   "outputs": [
    {
     "name": "stdout",
     "output_type": "stream",
     "text": [
      "(4,)\n",
      "(2, 2)\n"
     ]
    }
   ],
   "source": [
    "import numpy as np\n",
    "\n",
    "# Criando arrays\n",
    "arr1 = np.array([1, 2, 3, 4])              # 1D\n",
    "arr2 = np.array([[1, 2], [3, 4]])         # 2D\n",
    "\n",
    "# Checando o shape\n",
    "print(arr1.shape)  # Saída: (4,)         -> 4 elementos em 1 dimensão\n",
    "print(arr2.shape)  # Saída: (2, 2)       -> 2 linhas, 2 colunas"
   ]
  }
 ],
 "metadata": {
  "kernelspec": {
   "display_name": "Python 3",
   "language": "python",
   "name": "python3"
  },
  "language_info": {
   "codemirror_mode": {
    "name": "ipython",
    "version": 3
   },
   "file_extension": ".py",
   "mimetype": "text/x-python",
   "name": "python",
   "nbconvert_exporter": "python",
   "pygments_lexer": "ipython3",
   "version": "3.13.2"
  }
 },
 "nbformat": 4,
 "nbformat_minor": 2
}
