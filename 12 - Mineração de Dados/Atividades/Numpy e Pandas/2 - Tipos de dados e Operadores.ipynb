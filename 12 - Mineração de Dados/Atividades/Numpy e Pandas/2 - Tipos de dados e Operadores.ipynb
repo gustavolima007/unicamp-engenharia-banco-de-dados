{
 "cells": [
  {
   "cell_type": "markdown",
   "metadata": {
    "id": "y70nTBtYkDDE"
   },
   "source": [
    "# 2. Tipos de dados\n",
    "\n",
    "Python suporta diferentes tipos de dados, os quais serão apresentados a seguir\n"
   ]
  },
  {
   "cell_type": "markdown",
   "metadata": {
    "id": "0Lc68JHBkDDJ"
   },
   "source": [
    "## 2.1 Numérico: int, float, complex\n",
    "\n",
    "Para o tipo numérico, Python suport inteiros, ponto-futuante, e números complexos.\n",
    "\n",
    "- Inteiros: são valores que não representam casas decimais e podem ser de qualquer tamanho\n",
    "- Float: são números que representam valores decimais com precisão até a 15 casa (a 16 casa não é precisa)\n",
    "- Complexo: são números construídos na forma **x + yj**, onde x é a parte real e y é a parte imaginária\n"
   ]
  },
  {
   "cell_type": "code",
   "execution_count": 2,
   "metadata": {
    "colab": {
     "base_uri": "https://localhost:8080/"
    },
    "executionInfo": {
     "elapsed": 8,
     "status": "ok",
     "timestamp": 1741960382769,
     "user": {
      "displayName": "Julio Cesar dos Reis",
      "userId": "07725049740648948644"
     },
     "user_tz": 180
    },
    "id": "AVNuRzoDkDDK",
    "outputId": "08d20a32-15c2-4cb9-9141-9322dffab050"
   },
   "outputs": [
    {
     "name": "stdout",
     "output_type": "stream",
     "text": [
      "<class 'int'>\n"
     ]
    }
   ],
   "source": [
    "a = 5\n",
    "print(type(5))"
   ]
  },
  {
   "cell_type": "code",
   "execution_count": 3,
   "metadata": {
    "colab": {
     "base_uri": "https://localhost:8080/"
    },
    "executionInfo": {
     "elapsed": 25,
     "status": "ok",
     "timestamp": 1741960385629,
     "user": {
      "displayName": "Julio Cesar dos Reis",
      "userId": "07725049740648948644"
     },
     "user_tz": 180
    },
    "id": "K75K-rGCkDDM",
    "outputId": "7f049dc7-7650-40e4-b8c1-87fe9bc15186"
   },
   "outputs": [
    {
     "name": "stdout",
     "output_type": "stream",
     "text": [
      "<class 'float'>\n"
     ]
    }
   ],
   "source": [
    "a = 5.5\n",
    "print(type(a))"
   ]
  },
  {
   "cell_type": "code",
   "execution_count": 4,
   "metadata": {
    "colab": {
     "base_uri": "https://localhost:8080/"
    },
    "executionInfo": {
     "elapsed": 5,
     "status": "ok",
     "timestamp": 1741960387177,
     "user": {
      "displayName": "Julio Cesar dos Reis",
      "userId": "07725049740648948644"
     },
     "user_tz": 180
    },
    "id": "6uGcIZwKkDDM",
    "outputId": "f9cce9eb-8b3d-45e0-f3f0-b76cfb941d0f"
   },
   "outputs": [
    {
     "name": "stdout",
     "output_type": "stream",
     "text": [
      "(11+6j)\n",
      "<class 'complex'>\n"
     ]
    }
   ],
   "source": [
    "a = 5 + 6j\n",
    "print(a + 6)\n",
    "print(type(a))"
   ]
  },
  {
   "cell_type": "markdown",
   "metadata": {
    "id": "dMm2Gof2kDDN"
   },
   "source": [
    "## 2.2 Texto: string\n",
    "\n",
    "Em Python, uma string é uma sequencia de caracteres _Unicode_, a qual inclui todos os caracteres em todas as linguas para permitir uma codificação uniform.\n",
    "\n",
    "Strings são criadas incluindo um texto entre aspas simples ('') ou aspas duplas (\"\")\n"
   ]
  },
  {
   "cell_type": "code",
   "execution_count": 5,
   "metadata": {
    "colab": {
     "base_uri": "https://localhost:8080/"
    },
    "executionInfo": {
     "elapsed": 5,
     "status": "ok",
     "timestamp": 1741960392043,
     "user": {
      "displayName": "Julio Cesar dos Reis",
      "userId": "07725049740648948644"
     },
     "user_tz": 180
    },
    "id": "I1syuC-rkDDN",
    "outputId": "f392bff0-7d65-4ae1-e18b-2c13ebc91395"
   },
   "outputs": [
    {
     "name": "stdout",
     "output_type": "stream",
     "text": [
      "esta é uma string <class 'str'>\n",
      "esta é outra string <class 'str'>\n"
     ]
    }
   ],
   "source": [
    "s1 = 'esta é uma string'\n",
    "s2 = \"esta é outra string\"\n",
    "print(s1, type(s1))\n",
    "print(s2, type(s2))"
   ]
  },
  {
   "cell_type": "markdown",
   "metadata": {
    "id": "VzqutlxqkDDO"
   },
   "source": [
    "### 2.2.1 Concatenando string\n",
    "\n",
    "concatenação é utilizada para juntar strings. Para isso, podemos utilizar o opendando +\n"
   ]
  },
  {
   "cell_type": "code",
   "execution_count": 8,
   "metadata": {
    "colab": {
     "base_uri": "https://localhost:8080/"
    },
    "executionInfo": {
     "elapsed": 29,
     "status": "ok",
     "timestamp": 1741960402176,
     "user": {
      "displayName": "Julio Cesar dos Reis",
      "userId": "07725049740648948644"
     },
     "user_tz": 180
    },
    "id": "_bsgSNB6kDDO",
    "outputId": "e6b2f65e-834f-415f-a50c-97357cdabb4d"
   },
   "outputs": [
    {
     "name": "stdout",
     "output_type": "stream",
     "text": [
      "hello world\n"
     ]
    }
   ],
   "source": [
    "s1 = 'hello'\n",
    "s2 = 'world'\n",
    "print(s1 + ' ' + s2)"
   ]
  },
  {
   "cell_type": "markdown",
   "metadata": {
    "id": "RqTmdKwskDDP"
   },
   "source": [
    "### 2.2.2 Separando strings\n",
    "\n",
    "podemos separar uma string em determinados pontos especificando o caracter, onde desejamos separar a string utilizando o método .split()\n"
   ]
  },
  {
   "cell_type": "code",
   "execution_count": 9,
   "metadata": {
    "colab": {
     "base_uri": "https://localhost:8080/"
    },
    "executionInfo": {
     "elapsed": 27,
     "status": "ok",
     "timestamp": 1741960405594,
     "user": {
      "displayName": "Julio Cesar dos Reis",
      "userId": "07725049740648948644"
     },
     "user_tz": 180
    },
    "id": "cAQC60t0kDDP",
    "outputId": "faa59efb-ada7-41d6-a4ea-3204ec45a47b"
   },
   "outputs": [
    {
     "data": {
      "text/plain": [
       "['esta', 'é', 'uma', 'string', 'de', 'exemplo']"
      ]
     },
     "execution_count": 9,
     "metadata": {},
     "output_type": "execute_result"
    }
   ],
   "source": [
    "s1 = 'esta é uma string de exemplo'\n",
    "s1.split(' ')"
   ]
  },
  {
   "cell_type": "markdown",
   "metadata": {
    "id": "s1tSXQhPkDDP"
   },
   "source": [
    "### 2.2.3 Substituindo valores em uma string\n",
    "\n",
    "podemos substituir valores de uma string utiliando método:\n",
    "\n",
    "- .replace(alvo, substituto)\n",
    "  - alvo: representa o caracter ou a sequencia de caracteres que desejamos alterar\n",
    "  - substituto: representa o caracter ou a sequencia de caracteres que desejamos substituir\n"
   ]
  },
  {
   "cell_type": "code",
   "execution_count": 10,
   "metadata": {
    "colab": {
     "base_uri": "https://localhost:8080/",
     "height": 35
    },
    "executionInfo": {
     "elapsed": 4,
     "status": "ok",
     "timestamp": 1741960414553,
     "user": {
      "displayName": "Julio Cesar dos Reis",
      "userId": "07725049740648948644"
     },
     "user_tz": 180
    },
    "id": "HmpmezbqkDDQ",
    "outputId": "943a66a9-d076-40ec-f568-27e238f73475"
   },
   "outputs": [
    {
     "data": {
      "text/plain": [
       "'esta_é_uma_string_de_exemplo'"
      ]
     },
     "execution_count": 10,
     "metadata": {},
     "output_type": "execute_result"
    }
   ],
   "source": [
    "s1 = 'esta é uma string de exemplo'\n",
    "s1.replace(' ', '_')"
   ]
  },
  {
   "cell_type": "markdown",
   "metadata": {
    "id": "GaFlI8tUkDDQ"
   },
   "source": [
    "### 2.2.4 Covertendo maiúscula e minúscula\n",
    "\n",
    "Podemos alterar a representação da string tanto para minúscula, como para maiúscula utilizando os métodos\n",
    "\n",
    "- upper()\n",
    "- lower()\n",
    "  Esses métodos são úteis para padronizar string antes de realizar alguma comparação e/ou verificação, pois garantimos que todos os caracteres estarão no mesmo formato\n"
   ]
  },
  {
   "cell_type": "code",
   "execution_count": 11,
   "metadata": {
    "colab": {
     "base_uri": "https://localhost:8080/"
    },
    "executionInfo": {
     "elapsed": 4,
     "status": "ok",
     "timestamp": 1741960419919,
     "user": {
      "displayName": "Julio Cesar dos Reis",
      "userId": "07725049740648948644"
     },
     "user_tz": 180
    },
    "id": "LFczYayskDDQ",
    "outputId": "98c35258-b842-4665-ed60-0f0e4c002f59"
   },
   "outputs": [
    {
     "name": "stdout",
     "output_type": "stream",
     "text": [
      "EsTa É uMa sTrInG dE eXeMpLo\n",
      "ESTA É UMA STRING DE EXEMPLO\n",
      "esta é uma string de exemplo\n"
     ]
    }
   ],
   "source": [
    "s1 = 'EsTa É uMa sTrInG dE eXeMpLo'\n",
    "print(s1)\n",
    "print(s1.upper())\n",
    "print(s1.lower())"
   ]
  },
  {
   "cell_type": "markdown",
   "metadata": {
    "id": "OTMMd4p2kDDR"
   },
   "source": [
    "## 2.3 Listas\n",
    "\n",
    "Listas são sequências mutáveis (podem ser alteradas), tipicamente usadas para armazenar coleções de itens. Essas coleções podem ser tanto homogeneas (ter o mesmo tipo) quanto heterogeneas (ter tipos diferentes). Podemos definir uma lista da seguinte forma:\n",
    "\n",
    "- lista = [obj1, obj2, obj3, ...]\n"
   ]
  },
  {
   "cell_type": "code",
   "execution_count": 12,
   "metadata": {
    "colab": {
     "base_uri": "https://localhost:8080/"
    },
    "executionInfo": {
     "elapsed": 5,
     "status": "ok",
     "timestamp": 1741960423538,
     "user": {
      "displayName": "Julio Cesar dos Reis",
      "userId": "07725049740648948644"
     },
     "user_tz": 180
    },
    "id": "MnHb4KyVkDDR",
    "outputId": "33202a83-1ac3-47f4-990e-518f5fddac6c"
   },
   "outputs": [
    {
     "name": "stdout",
     "output_type": "stream",
     "text": [
      "[1, 2, 3] <class 'list'>\n"
     ]
    }
   ],
   "source": [
    "l = [1, 2, 3]\n",
    "print(l, type(l))"
   ]
  },
  {
   "cell_type": "markdown",
   "metadata": {
    "id": "CrNQFHwZkDDR"
   },
   "source": [
    "### 2.3.1 Acessando itens de uma lista\n",
    "\n",
    "para acessar algum item da lista é preciso informar a variável que esta armazenando a lista, seguido de um indexador entre [], o qual informa a posição a ser acessada:\n",
    "\n",
    "- lista[idx]\n",
    "  - idx: é o indice (posição) a ser acessada\n",
    "\n",
    "**Importante**: Note que a primeira posição da lista começa no **0** e não no **1**.\n",
    "\n",
    "Python suporta index negativos, o qual representa a indexação de maneira inversa (do fim para o começo). Portanto, para um vetor com 10 elementos, lista[9] é igual a lista[-1]\n"
   ]
  },
  {
   "cell_type": "code",
   "execution_count": 16,
   "metadata": {
    "colab": {
     "base_uri": "https://localhost:8080/"
    },
    "executionInfo": {
     "elapsed": 5,
     "status": "ok",
     "timestamp": 1741960449871,
     "user": {
      "displayName": "Julio Cesar dos Reis",
      "userId": "07725049740648948644"
     },
     "user_tz": 180
    },
    "id": "1nkeBo9KkDDR",
    "outputId": "8e2c3ccb-8149-4908-a939-2ccf138ebb85"
   },
   "outputs": [
    {
     "name": "stdout",
     "output_type": "stream",
     "text": [
      "10\n",
      "6\n"
     ]
    }
   ],
   "source": [
    "l = [1, 2, 3, 4, 5, 6, 7, 8, 9, 10]\n",
    "print(l[9])\n",
    "print(l[-5])"
   ]
  },
  {
   "cell_type": "markdown",
   "metadata": {
    "id": "MUeG0dUvkDDS"
   },
   "source": [
    "### 2.3.2 alterando item de uma lista\n",
    "\n",
    "Como as listas são mutáveis, elas permitem a alteração dos itens. Podemos alterar os itens atribuindo um novo item para a posição desejada\n"
   ]
  },
  {
   "cell_type": "code",
   "execution_count": 17,
   "metadata": {
    "colab": {
     "base_uri": "https://localhost:8080/"
    },
    "executionInfo": {
     "elapsed": 35,
     "status": "ok",
     "timestamp": 1741960478573,
     "user": {
      "displayName": "Julio Cesar dos Reis",
      "userId": "07725049740648948644"
     },
     "user_tz": 180
    },
    "id": "Ns5FTiqvkDDS",
    "outputId": "04015390-5d40-4727-e359-0349adaf5a56"
   },
   "outputs": [
    {
     "name": "stdout",
     "output_type": "stream",
     "text": [
      "[1, 2, 3, 'abc', 5, 6, 7, 8, 9, 10]\n"
     ]
    }
   ],
   "source": [
    "l[3] = 'abc'\n",
    "print(l)"
   ]
  },
  {
   "cell_type": "markdown",
   "metadata": {
    "id": "E1Chtk1EkDDS"
   },
   "source": [
    "### 2.3.3 adicionando items na lista\n",
    "\n",
    "Podemos adicionar itens na lista utilizando os seguintes métodos:\n",
    "\n",
    "- .append(item): adiciona item no final da lista\n",
    "- insert(pos, item): adiciona o item na posição pos\n"
   ]
  },
  {
   "cell_type": "code",
   "execution_count": 18,
   "metadata": {
    "colab": {
     "base_uri": "https://localhost:8080/"
    },
    "executionInfo": {
     "elapsed": 4,
     "status": "ok",
     "timestamp": 1741960483328,
     "user": {
      "displayName": "Julio Cesar dos Reis",
      "userId": "07725049740648948644"
     },
     "user_tz": 180
    },
    "id": "otKJ5TfdkDDS",
    "outputId": "6bc2fc06-f752-4007-8bc5-4e2aeea33e5c"
   },
   "outputs": [
    {
     "data": {
      "text/plain": [
       "['cachorro', 'gato', 'pássaro', 'leão']"
      ]
     },
     "execution_count": 18,
     "metadata": {},
     "output_type": "execute_result"
    }
   ],
   "source": [
    "animais = ['cachorro', 'gato', 'pássaro']\n",
    "#append\n",
    "animais.append('leão')\n",
    "animais"
   ]
  },
  {
   "cell_type": "code",
   "execution_count": null,
   "metadata": {
    "colab": {
     "base_uri": "https://localhost:8080/"
    },
    "executionInfo": {
     "elapsed": 5,
     "status": "ok",
     "timestamp": 1741960496170,
     "user": {
      "displayName": "Julio Cesar dos Reis",
      "userId": "07725049740648948644"
     },
     "user_tz": 180
    },
    "id": "I8OLdrbLkDDT",
    "outputId": "a6811936-0e25-4d34-d007-d921ce3de70c"
   },
   "outputs": [
    {
     "data": {
      "text/plain": [
       "['cachorro', 'peixe', 'gato', 'pássaro', 'peixe', 'leão']"
      ]
     },
     "execution_count": 20,
     "metadata": {},
     "output_type": "execute_result"
    }
   ],
   "source": [
    "#adicionando itens em uma posição específica\n",
    "animais.insert(1, 'peixe')\n",
    "animais"
   ]
  },
  {
   "cell_type": "markdown",
   "metadata": {
    "id": "VjwdR-eJkDDT"
   },
   "source": [
    "### 2.3.4 Contando itens de uma lista\n",
    "\n",
    "podemos contar a quantidade de elementos de uma lista utilizando o métodos len()\n"
   ]
  },
  {
   "cell_type": "code",
   "execution_count": 21,
   "metadata": {
    "colab": {
     "base_uri": "https://localhost:8080/"
    },
    "executionInfo": {
     "elapsed": 5,
     "status": "ok",
     "timestamp": 1741960501917,
     "user": {
      "displayName": "Julio Cesar dos Reis",
      "userId": "07725049740648948644"
     },
     "user_tz": 180
    },
    "id": "NnJRrjDTkDDT",
    "outputId": "dfa27317-3a3b-4ce7-9fb5-45ffe42841ad"
   },
   "outputs": [
    {
     "data": {
      "text/plain": [
       "6"
      ]
     },
     "execution_count": 21,
     "metadata": {},
     "output_type": "execute_result"
    }
   ],
   "source": [
    "len(animais)"
   ]
  },
  {
   "cell_type": "markdown",
   "metadata": {
    "id": "HTtsvHYRkDDT"
   },
   "source": [
    "### 2.3.5 Removendo itens de uma lista\n",
    "\n",
    "Podemos remover um item da lista utilizando o métodos remove()\n"
   ]
  },
  {
   "cell_type": "code",
   "execution_count": 22,
   "metadata": {
    "colab": {
     "base_uri": "https://localhost:8080/"
    },
    "executionInfo": {
     "elapsed": 11,
     "status": "ok",
     "timestamp": 1741960506430,
     "user": {
      "displayName": "Julio Cesar dos Reis",
      "userId": "07725049740648948644"
     },
     "user_tz": 180
    },
    "id": "dDzkE3K2kDDT",
    "outputId": "e7cec76b-74d8-4b52-a933-38c33a166226"
   },
   "outputs": [
    {
     "data": {
      "text/plain": [
       "['cachorro', 'gato', 'pássaro', 'peixe', 'leão']"
      ]
     },
     "execution_count": 22,
     "metadata": {},
     "output_type": "execute_result"
    }
   ],
   "source": [
    "animais.remove('peixe')\n",
    "animais"
   ]
  },
  {
   "cell_type": "markdown",
   "metadata": {
    "id": "6sN9MnmMkDDT"
   },
   "source": [
    "### 2.3.6 Fatiamento de listas (slicing)\n",
    "\n",
    "- Para utilizar o slicing podemos indexar a lista usando lista[start : end : step]\n",
    "  - **start**: item inicial do fatiamento\n",
    "  - **end**: item final do fatiamento\n",
    "  - **step**: espaçamento entre cada item\n"
   ]
  },
  {
   "cell_type": "code",
   "execution_count": 23,
   "metadata": {
    "colab": {
     "base_uri": "https://localhost:8080/"
    },
    "executionInfo": {
     "elapsed": 45,
     "status": "ok",
     "timestamp": 1741960521078,
     "user": {
      "displayName": "Julio Cesar dos Reis",
      "userId": "07725049740648948644"
     },
     "user_tz": 180
    },
    "id": "5qBwWx0UkDDT",
    "outputId": "85ef990e-2ee2-4add-f578-201ce804a3ec"
   },
   "outputs": [
    {
     "name": "stdout",
     "output_type": "stream",
     "text": [
      "[10, 11, 12, 13, 14, 15, 16, 17, 18, 19]\n",
      "[0, 1, 2, 3, 4]\n",
      "[0, 2, 4, 6, 8]\n"
     ]
    }
   ],
   "source": [
    "lista = list(range(20))\n",
    "print(lista[10:])\n",
    "print(lista[0:5])\n",
    "print(lista[0: 10: 2])"
   ]
  },
  {
   "cell_type": "markdown",
   "metadata": {
    "id": "OMtzlQw4kDDU"
   },
   "source": [
    "### 2.3.7 Verificando itens de uma lista\n",
    "\n",
    "Podemos verificar se um item está presente ou não em uma lista utilizando o operando **in**\n"
   ]
  },
  {
   "cell_type": "code",
   "execution_count": 24,
   "metadata": {
    "colab": {
     "base_uri": "https://localhost:8080/"
    },
    "executionInfo": {
     "elapsed": 3792,
     "status": "ok",
     "timestamp": 1741960631303,
     "user": {
      "displayName": "Julio Cesar dos Reis",
      "userId": "07725049740648948644"
     },
     "user_tz": 180
    },
    "id": "gUHT0SOtkDDU",
    "outputId": "a099e0c3-fd1d-4c2f-fcba-c3d5a76474ff"
   },
   "outputs": [
    {
     "data": {
      "text/plain": [
       "False"
      ]
     },
     "execution_count": 24,
     "metadata": {},
     "output_type": "execute_result"
    }
   ],
   "source": [
    "item = input('Informe o item a ser procurado: ')\n",
    "item in animais"
   ]
  },
  {
   "cell_type": "markdown",
   "metadata": {
    "id": "CH-EQ7MzkDDU"
   },
   "source": [
    "### 2.3.8 Ordenando uma lista\n",
    "\n",
    "Podemos ordenar uma lista utilizando .sort()\n"
   ]
  },
  {
   "cell_type": "code",
   "execution_count": null,
   "metadata": {
    "colab": {
     "base_uri": "https://localhost:8080/"
    },
    "executionInfo": {
     "elapsed": 26,
     "status": "ok",
     "timestamp": 1741960638124,
     "user": {
      "displayName": "Julio Cesar dos Reis",
      "userId": "07725049740648948644"
     },
     "user_tz": 180
    },
    "id": "qQ8d2Z9OkDDU",
    "outputId": "f3974ac4-c2a1-4a1d-e6bb-39e29ee5b633"
   },
   "outputs": [
    {
     "name": "stdout",
     "output_type": "stream",
     "text": [
      "[10, 9, 8, 7, 6, 5, 4, 3, 2, 1]\n",
      "[1, 2, 3, 4, 5, 6, 7, 8, 9, 10]\n"
     ]
    }
   ],
   "source": [
    "lista = [10, 9 , 8, 7, 6, 5, 4, 3, 2, 1]\n",
    "print(lista)\n",
    "lista.sort()\n",
    "print(lista)"
   ]
  },
  {
   "cell_type": "markdown",
   "metadata": {
    "id": "2x9VwgKnkDDU"
   },
   "source": [
    "## 2.4 Tuplas\n",
    "\n",
    "Tupla é um tipo de estrutura de dados do Python que tem como principal característica ser imutável. Ou seja, ao criar uma tupla você não consegue alterar nenhum elemento que faça parte dela.\n",
    "\n",
    "Normalmente, as tuplas são utilizadas para armazenar sequências de códigos que não serão modificadas. Isso porque a sua característica de imutabilidade dão mais segurança ao desenvolvedor e maior proteção ao código.\n"
   ]
  },
  {
   "cell_type": "code",
   "execution_count": 29,
   "metadata": {
    "colab": {
     "base_uri": "https://localhost:8080/"
    },
    "executionInfo": {
     "elapsed": 24,
     "status": "ok",
     "timestamp": 1741960648739,
     "user": {
      "displayName": "Julio Cesar dos Reis",
      "userId": "07725049740648948644"
     },
     "user_tz": 180
    },
    "id": "G7C4jLpYkDDU",
    "outputId": "c3422bf5-d983-450f-bc8b-c701a4cb53e4"
   },
   "outputs": [
    {
     "name": "stdout",
     "output_type": "stream",
     "text": [
      "('gato', 1, [3, 4], 2.4) <class 'tuple'>\n"
     ]
    }
   ],
   "source": [
    "#criando uma tupla\n",
    "tupla_1 = ('gato', 1, [3, 4], 2.4)\n",
    "print(tupla_1, type(tupla_1))"
   ]
  },
  {
   "cell_type": "code",
   "execution_count": 30,
   "metadata": {
    "colab": {
     "base_uri": "https://localhost:8080/",
     "height": 35
    },
    "executionInfo": {
     "elapsed": 9,
     "status": "ok",
     "timestamp": 1741960653322,
     "user": {
      "displayName": "Julio Cesar dos Reis",
      "userId": "07725049740648948644"
     },
     "user_tz": 180
    },
    "id": "6AtVTVCikDDV",
    "outputId": "b7de217a-b454-4d0e-c9a5-a42b9d2061f6"
   },
   "outputs": [
    {
     "data": {
      "text/plain": [
       "'gato'"
      ]
     },
     "execution_count": 30,
     "metadata": {},
     "output_type": "execute_result"
    }
   ],
   "source": [
    "#acessando dados de um tupla\n",
    "tupla_1[0]"
   ]
  },
  {
   "cell_type": "code",
   "execution_count": 31,
   "metadata": {
    "colab": {
     "base_uri": "https://localhost:8080/",
     "height": 159
    },
    "executionInfo": {
     "elapsed": 17,
     "status": "error",
     "timestamp": 1741960656105,
     "user": {
      "displayName": "Julio Cesar dos Reis",
      "userId": "07725049740648948644"
     },
     "user_tz": 180
    },
    "id": "ctLiL-NxkDDV",
    "outputId": "0bb7214d-32f6-4184-a481-d4bb781b06bb"
   },
   "outputs": [
    {
     "ename": "TypeError",
     "evalue": "'tuple' object does not support item assignment",
     "output_type": "error",
     "traceback": [
      "\u001b[31m---------------------------------------------------------------------------\u001b[39m",
      "\u001b[31mTypeError\u001b[39m                                 Traceback (most recent call last)",
      "\u001b[36mCell\u001b[39m\u001b[36m \u001b[39m\u001b[32mIn[31]\u001b[39m\u001b[32m, line 2\u001b[39m\n\u001b[32m      1\u001b[39m \u001b[38;5;66;03m#exemplo de imutabilidade\u001b[39;00m\n\u001b[32m----> \u001b[39m\u001b[32m2\u001b[39m \u001b[43mtupla_1\u001b[49m\u001b[43m[\u001b[49m\u001b[32;43m0\u001b[39;49m\u001b[43m]\u001b[49m = \u001b[33m'\u001b[39m\u001b[33mpeixe\u001b[39m\u001b[33m'\u001b[39m\n",
      "\u001b[31mTypeError\u001b[39m: 'tuple' object does not support item assignment"
     ]
    }
   ],
   "source": [
    "#exemplo de imutabilidade\n",
    "tupla_1[0] = 'peixe'"
   ]
  },
  {
   "cell_type": "markdown",
   "metadata": {
    "id": "i0_NCDk4kDDV"
   },
   "source": [
    "## 2.5 Dicionários\n",
    "\n",
    "Um dicionário é uma estrutura de dados do tipo coleção organizadas na forma de <chave, valor>. Diferent das listas, onde os elementos são acessados por meio de uma posição ou índice, nos dicionários isso ocorre de forma diferente. O acesso às informações acontece por meio de chaves.\n",
    "\n",
    "Podemos criar um dicionário especificando {}\n"
   ]
  },
  {
   "cell_type": "code",
   "execution_count": 32,
   "metadata": {
    "colab": {
     "base_uri": "https://localhost:8080/"
    },
    "executionInfo": {
     "elapsed": 5,
     "status": "ok",
     "timestamp": 1741960677814,
     "user": {
      "displayName": "Julio Cesar dos Reis",
      "userId": "07725049740648948644"
     },
     "user_tz": 180
    },
    "id": "dyXOn8ufkDDg",
    "outputId": "e3c37947-50bb-4de0-ba13-faef2cf10ba1"
   },
   "outputs": [
    {
     "name": "stdout",
     "output_type": "stream",
     "text": [
      "{'nome': 'Julio Cesar dos Reis'} <class 'dict'>\n"
     ]
    }
   ],
   "source": [
    "pessoa = {}\n",
    "\n",
    "pessoa['nome'] = 'Julio Cesar dos Reis'\n",
    "print(pessoa, type(pessoa))"
   ]
  },
  {
   "cell_type": "markdown",
   "metadata": {
    "id": "DuQKrMtCkDDg"
   },
   "source": [
    "### 2.5.1 Atualizando dicionário\n",
    "\n",
    "podemos atualizar o dicionário utilizando o método .update()\n"
   ]
  },
  {
   "cell_type": "code",
   "execution_count": 33,
   "metadata": {
    "colab": {
     "base_uri": "https://localhost:8080/"
    },
    "executionInfo": {
     "elapsed": 10,
     "status": "ok",
     "timestamp": 1741960703831,
     "user": {
      "displayName": "Julio Cesar dos Reis",
      "userId": "07725049740648948644"
     },
     "user_tz": 180
    },
    "id": "HbN_zSFbkDDg",
    "outputId": "11152f76-a55b-4c96-db44-5d3cff396719"
   },
   "outputs": [
    {
     "data": {
      "text/plain": [
       "{'nome': 'Julio Cesar dos Reis', 'medidas': [1.75, 75], 'sexo': 'masculino'}"
      ]
     },
     "execution_count": 33,
     "metadata": {},
     "output_type": "execute_result"
    }
   ],
   "source": [
    "#atualizando dict\n",
    "pessoa.update({\n",
    "    'medidas' : [1.75, 75],\n",
    "    'sexo'    : 'masculino'\n",
    "})\n",
    "pessoa"
   ]
  },
  {
   "cell_type": "markdown",
   "metadata": {
    "id": "7D3oaGWVkDDg"
   },
   "source": [
    "### 2.5.2 Acessando valores de um dicionário\n",
    "\n",
    "O acesso aos valores do dicionário podem ser feito utilizando a chave deseja.\n"
   ]
  },
  {
   "cell_type": "code",
   "execution_count": 34,
   "metadata": {
    "colab": {
     "base_uri": "https://localhost:8080/",
     "height": 35
    },
    "executionInfo": {
     "elapsed": 4,
     "status": "ok",
     "timestamp": 1741960715498,
     "user": {
      "displayName": "Julio Cesar dos Reis",
      "userId": "07725049740648948644"
     },
     "user_tz": 180
    },
    "id": "iQGnBIbUkDDg",
    "outputId": "b7e2c8ac-41d7-4731-cea5-b28c44e59e0f"
   },
   "outputs": [
    {
     "data": {
      "text/plain": [
       "'Julio Cesar dos Reis'"
      ]
     },
     "execution_count": 34,
     "metadata": {},
     "output_type": "execute_result"
    }
   ],
   "source": [
    "pessoa['nome']"
   ]
  },
  {
   "cell_type": "markdown",
   "metadata": {
    "id": "vde5ejhnkDDh"
   },
   "source": [
    "Caso a chave não exista, acessando o dicionário utilizando o nome da chave em [] acontencerá um erro:\n"
   ]
  },
  {
   "cell_type": "code",
   "execution_count": 35,
   "metadata": {
    "colab": {
     "base_uri": "https://localhost:8080/",
     "height": 141
    },
    "executionInfo": {
     "elapsed": 39,
     "status": "error",
     "timestamp": 1741960717717,
     "user": {
      "displayName": "Julio Cesar dos Reis",
      "userId": "07725049740648948644"
     },
     "user_tz": 180
    },
    "id": "LRNE7NJSkDDh",
    "outputId": "b8cb8616-bb4b-443b-fddd-43b3dc7fec81"
   },
   "outputs": [
    {
     "ename": "KeyError",
     "evalue": "'idade'",
     "output_type": "error",
     "traceback": [
      "\u001b[31m---------------------------------------------------------------------------\u001b[39m",
      "\u001b[31mKeyError\u001b[39m                                  Traceback (most recent call last)",
      "\u001b[36mCell\u001b[39m\u001b[36m \u001b[39m\u001b[32mIn[35]\u001b[39m\u001b[32m, line 1\u001b[39m\n\u001b[32m----> \u001b[39m\u001b[32m1\u001b[39m \u001b[43mpessoa\u001b[49m\u001b[43m[\u001b[49m\u001b[33;43m'\u001b[39;49m\u001b[33;43midade\u001b[39;49m\u001b[33;43m'\u001b[39;49m\u001b[43m]\u001b[49m\n",
      "\u001b[31mKeyError\u001b[39m: 'idade'"
     ]
    }
   ],
   "source": [
    "pessoa['idade']"
   ]
  },
  {
   "cell_type": "markdown",
   "metadata": {
    "id": "XBi8JTmYkDDh"
   },
   "source": [
    "Para evitar esse tipo de erro, podemos acessar os itens do dicionário utilizado o método .get(). Assim, caso a chave não exista, nenhum item será retornado\n"
   ]
  },
  {
   "cell_type": "code",
   "execution_count": 36,
   "metadata": {
    "colab": {
     "base_uri": "https://localhost:8080/"
    },
    "executionInfo": {
     "elapsed": 11,
     "status": "ok",
     "timestamp": 1741960723309,
     "user": {
      "displayName": "Julio Cesar dos Reis",
      "userId": "07725049740648948644"
     },
     "user_tz": 180
    },
    "id": "yoBmJgwKkDDh",
    "outputId": "677de187-351e-45df-f793-7f89451b2dc8"
   },
   "outputs": [
    {
     "name": "stdout",
     "output_type": "stream",
     "text": [
      "Julio Cesar dos Reis\n",
      "None\n"
     ]
    }
   ],
   "source": [
    "print(pessoa.get('nome'))\n",
    "print(pessoa.get('idade'))"
   ]
  },
  {
   "cell_type": "markdown",
   "metadata": {
    "id": "_8oTk8CrkDDh"
   },
   "source": [
    "### 2.5.3 Alterando valores do dicionário\n",
    "\n",
    "Podemos alterar valores do dicionário sobrescrevendo um valor em uma determinada chave\n"
   ]
  },
  {
   "cell_type": "code",
   "execution_count": 37,
   "metadata": {
    "colab": {
     "base_uri": "https://localhost:8080/"
    },
    "executionInfo": {
     "elapsed": 5,
     "status": "ok",
     "timestamp": 1741960750983,
     "user": {
      "displayName": "Julio Cesar dos Reis",
      "userId": "07725049740648948644"
     },
     "user_tz": 180
    },
    "id": "YmOxckIokDDh",
    "outputId": "8af2a879-f6f8-4447-ef80-873a479148c2"
   },
   "outputs": [
    {
     "name": "stdout",
     "output_type": "stream",
     "text": [
      "{'nome': 'João da Silva', 'medidas': [1.75, 75], 'sexo': 'masculino'}\n"
     ]
    }
   ],
   "source": [
    "pessoa['nome'] = 'João da Silva'\n",
    "print(pessoa)"
   ]
  },
  {
   "cell_type": "markdown",
   "metadata": {
    "id": "IpOmEaDJkDDh"
   },
   "source": [
    "## 2.6 Sets\n",
    "\n",
    "São é uma coleção de itens que não permite valores **duplicados**. Esses conjunto suportam operações matemáticas do tipo, união, intersecção, diferença, etc. Podemos criar um conjunto da seguinte forma:\n"
   ]
  },
  {
   "cell_type": "code",
   "execution_count": 38,
   "metadata": {
    "colab": {
     "base_uri": "https://localhost:8080/"
    },
    "executionInfo": {
     "elapsed": 42,
     "status": "ok",
     "timestamp": 1741960761525,
     "user": {
      "displayName": "Julio Cesar dos Reis",
      "userId": "07725049740648948644"
     },
     "user_tz": 180
    },
    "id": "aUAqbtB0kDDh",
    "outputId": "e97f9b5a-4a9d-4850-c372-684c0fb9bc66"
   },
   "outputs": [
    {
     "name": "stdout",
     "output_type": "stream",
     "text": [
      "{'B', 'A'} <class 'set'>\n"
     ]
    }
   ],
   "source": [
    "conjunto = set(['A', 'B'])\n",
    "print(conjunto, type(conjunto))"
   ]
  },
  {
   "cell_type": "markdown",
   "metadata": {
    "id": "ZYLTTsfFkDDh"
   },
   "source": [
    "### 2.6.1 Adicionando itens em um conjunto\n",
    "\n",
    "Podemos adicionar itens em um conjunto utilizando o método .add()\n"
   ]
  },
  {
   "cell_type": "code",
   "execution_count": 39,
   "metadata": {
    "colab": {
     "base_uri": "https://localhost:8080/"
    },
    "executionInfo": {
     "elapsed": 5,
     "status": "ok",
     "timestamp": 1741960780756,
     "user": {
      "displayName": "Julio Cesar dos Reis",
      "userId": "07725049740648948644"
     },
     "user_tz": 180
    },
    "id": "KpWAy93EkDDh",
    "outputId": "c6e23049-247b-4fe0-eab1-0752636e2cc3"
   },
   "outputs": [
    {
     "name": "stdout",
     "output_type": "stream",
     "text": [
      "{'B', 'A', 'C'}\n"
     ]
    }
   ],
   "source": [
    "conjunto.add('C')\n",
    "print(conjunto)"
   ]
  },
  {
   "cell_type": "markdown",
   "metadata": {
    "id": "gxtJSxx9kDDi"
   },
   "source": [
    "Como conjuntos não permitem valores duplicados, mesmo adicionando o mesmo valor várias vezes, apenas um item será inserido\n"
   ]
  },
  {
   "cell_type": "code",
   "execution_count": 40,
   "metadata": {
    "colab": {
     "base_uri": "https://localhost:8080/"
    },
    "executionInfo": {
     "elapsed": 10,
     "status": "ok",
     "timestamp": 1741960782921,
     "user": {
      "displayName": "Julio Cesar dos Reis",
      "userId": "07725049740648948644"
     },
     "user_tz": 180
    },
    "id": "c4WOU5F8kDDi",
    "outputId": "e1367c29-5954-4042-e009-58f9c28e1414"
   },
   "outputs": [
    {
     "name": "stdout",
     "output_type": "stream",
     "text": [
      "{'B', 'A', 'C'}\n"
     ]
    }
   ],
   "source": [
    "conjunto.add('C')\n",
    "conjunto.add('C')\n",
    "conjunto.add('C')\n",
    "conjunto.add('C')\n",
    "print(conjunto)"
   ]
  },
  {
   "cell_type": "markdown",
   "metadata": {
    "id": "XRegnTxGkDDi"
   },
   "source": [
    "### 2.6.2 Removendo itens de um conjunto\n",
    "\n",
    "Da mesma forma, podemos remover itens de um conjunto utilizando o método .remove()\n"
   ]
  },
  {
   "cell_type": "code",
   "execution_count": 41,
   "metadata": {
    "colab": {
     "base_uri": "https://localhost:8080/"
    },
    "executionInfo": {
     "elapsed": 46,
     "status": "ok",
     "timestamp": 1741960787730,
     "user": {
      "displayName": "Julio Cesar dos Reis",
      "userId": "07725049740648948644"
     },
     "user_tz": 180
    },
    "id": "Zf9vAmYUkDDi",
    "outputId": "72b4fc17-e5ec-47ba-a1b6-b9a8c737a3ed"
   },
   "outputs": [
    {
     "name": "stdout",
     "output_type": "stream",
     "text": [
      "{'B', 'C'}\n"
     ]
    }
   ],
   "source": [
    "conjunto.remove('A')\n",
    "print(conjunto)"
   ]
  },
  {
   "cell_type": "markdown",
   "metadata": {
    "id": "jHvUvAUrkDDi"
   },
   "source": [
    "# 3. Operadores\n",
    "\n",
    "Python suporta diferente tipos de operadores, incluindo:\n",
    "\n",
    "- Aritméticos\n",
    "- Relacionais\n",
    "- Lógicos\n"
   ]
  },
  {
   "cell_type": "markdown",
   "metadata": {
    "id": "rmbDy9E2kDDi"
   },
   "source": [
    "## 3.1 Operadores aritméticos\n",
    "\n",
    "Operadores aritiméticos incluem: soma; subtração; multiplicação; divisão; e exponenciação\n"
   ]
  },
  {
   "cell_type": "code",
   "execution_count": 42,
   "metadata": {
    "executionInfo": {
     "elapsed": 6,
     "status": "ok",
     "timestamp": 1741960793412,
     "user": {
      "displayName": "Julio Cesar dos Reis",
      "userId": "07725049740648948644"
     },
     "user_tz": 180
    },
    "id": "w2jjWnlckDDj"
   },
   "outputs": [],
   "source": [
    "a = 5\n",
    "b = 10"
   ]
  },
  {
   "cell_type": "code",
   "execution_count": 43,
   "metadata": {
    "colab": {
     "base_uri": "https://localhost:8080/"
    },
    "executionInfo": {
     "elapsed": 8,
     "status": "ok",
     "timestamp": 1741960795035,
     "user": {
      "displayName": "Julio Cesar dos Reis",
      "userId": "07725049740648948644"
     },
     "user_tz": 180
    },
    "id": "t2-GxWWEkDDj",
    "outputId": "b3a97579-0fb5-4b64-aa90-80a49fd09ce0"
   },
   "outputs": [
    {
     "name": "stdout",
     "output_type": "stream",
     "text": [
      "Soma: 15\n",
      "Subtração: -5\n",
      "Multiplicação: 50\n",
      "Divisão: 0.5\n",
      "Exponenciação: 9765625\n"
     ]
    }
   ],
   "source": [
    "#soma\n",
    "print(f'Soma: {a + b}')\n",
    "#subtração\n",
    "print(f'Subtração: {a - b}')\n",
    "#multiplicação\n",
    "print(f'Multiplicação: {a * b}')\n",
    "#Divisão\n",
    "print(f'Divisão: {a / b}')\n",
    "#exponenciação\n",
    "print(f'Exponenciação: {a ** b}')"
   ]
  },
  {
   "cell_type": "markdown",
   "metadata": {
    "id": "eIEv7oKAkDDj"
   },
   "source": [
    "## 3.2 Operadores relacionais\n",
    "\n",
    "Operadores relacionais incluem: maior, menor, igual, diferente\n"
   ]
  },
  {
   "cell_type": "code",
   "execution_count": 44,
   "metadata": {
    "colab": {
     "base_uri": "https://localhost:8080/"
    },
    "executionInfo": {
     "elapsed": 5,
     "status": "ok",
     "timestamp": 1741960868047,
     "user": {
      "displayName": "Julio Cesar dos Reis",
      "userId": "07725049740648948644"
     },
     "user_tz": 180
    },
    "id": "r0WP6F-EkDDj",
    "outputId": "0788ed7e-09d4-47eb-dcd3-69b151cfd460"
   },
   "outputs": [
    {
     "name": "stdout",
     "output_type": "stream",
     "text": [
      "Maior: False\n",
      "Menor: True\n",
      "Igualdade: False\n",
      "Diferença: True\n"
     ]
    }
   ],
   "source": [
    "#Maior\n",
    "print(f'Maior: {a > b}')\n",
    "#Menor\n",
    "print(f'Menor: {a < b}')\n",
    "#Igualdade\n",
    "print(f'Igualdade: {a == b}')\n",
    "#Diferença\n",
    "print(f'Diferença: {a != b}')"
   ]
  },
  {
   "cell_type": "markdown",
   "metadata": {
    "id": "htIpGlWHkDDj"
   },
   "source": [
    "## 3.3 Operadores Lógicos\n"
   ]
  },
  {
   "cell_type": "markdown",
   "metadata": {
    "id": "mv0s3kZikDDj"
   },
   "source": [
    "operadores lógicos incluem: and, or, xor, not\n"
   ]
  },
  {
   "cell_type": "code",
   "execution_count": 45,
   "metadata": {
    "colab": {
     "base_uri": "https://localhost:8080/"
    },
    "executionInfo": {
     "elapsed": 11,
     "status": "ok",
     "timestamp": 1741960874832,
     "user": {
      "displayName": "Julio Cesar dos Reis",
      "userId": "07725049740648948644"
     },
     "user_tz": 180
    },
    "id": "Su0B0bC7kDDj",
    "outputId": "2bac4eaf-1cbd-452c-8fc3-315606deb1d3"
   },
   "outputs": [
    {
     "name": "stdout",
     "output_type": "stream",
     "text": [
      "And: 10\n",
      "Or: 5\n",
      "Xor: 15\n",
      "Not: False\n"
     ]
    }
   ],
   "source": [
    "#and\n",
    "print(f'And: {a and b}')\n",
    "#or\n",
    "print(f'Or: {a or b}')\n",
    "#xor\n",
    "print(f'Xor: {a ^ b}')\n",
    "#not\n",
    "print(f'Not: {not (a and b)}')"
   ]
  }
 ],
 "metadata": {
  "colab": {
   "provenance": []
  },
  "kernelspec": {
   "display_name": "Python 3",
   "language": "python",
   "name": "python3"
  },
  "language_info": {
   "codemirror_mode": {
    "name": "ipython",
    "version": 3
   },
   "file_extension": ".py",
   "mimetype": "text/x-python",
   "name": "python",
   "nbconvert_exporter": "python",
   "pygments_lexer": "ipython3",
   "version": "3.13.2"
  }
 },
 "nbformat": 4,
 "nbformat_minor": 0
}
