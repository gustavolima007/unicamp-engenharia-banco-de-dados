{
 "cells": [
  {
   "cell_type": "markdown",
   "metadata": {
    "id": "fuYUPng3jkPB"
   },
   "source": [
    "# Introdução ao Numpy\n",
    "\n",
    "O principal objeto NumPy é um array multi-dimensional homogeneo (**ndarray**). É uma tabela de elementos (usualmente números), no qual todos os elementos possuem o mesmo tipo indexados por uma tupla de inteiros não negativos. Em numpy, as dimensões são chamadas de **axis**"
   ]
  },
  {
   "cell_type": "code",
   "execution_count": 7,
   "metadata": {
    "colab": {
     "base_uri": "https://localhost:8080/"
    },
    "executionInfo": {
     "elapsed": 9068,
     "status": "ok",
     "timestamp": 1742026396220,
     "user": {
      "displayName": "Julio Cesar dos Reis",
      "userId": "07725049740648948644"
     },
     "user_tz": 180
    },
    "id": "LW4lQdF4_KuN",
    "outputId": "0841cfb1-41ff-46d0-baf6-45f651e3ab65"
   },
   "outputs": [
    {
     "name": "stdout",
     "output_type": "stream",
     "text": [
      "Requirement already satisfied: numpy in c:\\users\\admgu\\appdata\\local\\programs\\python\\python313\\lib\\site-packages (2.2.3)\n"
     ]
    }
   ],
   "source": [
    "!pip install numpy"
   ]
  },
  {
   "cell_type": "code",
   "execution_count": 8,
   "metadata": {
    "id": "cHwZI6NLjkPD"
   },
   "outputs": [],
   "source": [
    "import numpy as np"
   ]
  },
  {
   "cell_type": "markdown",
   "metadata": {
    "id": "N4e8kNB4jkPE"
   },
   "source": [
    "## 1. Criando Arrays\n",
    "\n",
    "* np.array()\n",
    "* np.zeros()\n",
    "* np.ones()\n",
    "* np.empty()\n",
    "* np.eye()\n",
    "* np.asarray()\n",
    "* np.arange()\n",
    "* np.linspace()"
   ]
  },
  {
   "cell_type": "markdown",
   "metadata": {
    "id": "SGg0VB70_KuO"
   },
   "source": [
    "### 1.1 np.array()"
   ]
  },
  {
   "cell_type": "code",
   "execution_count": 9,
   "metadata": {
    "colab": {
     "base_uri": "https://localhost:8080/"
    },
    "executionInfo": {
     "elapsed": 23,
     "status": "ok",
     "timestamp": 1742026405019,
     "user": {
      "displayName": "Julio Cesar dos Reis",
      "userId": "07725049740648948644"
     },
     "user_tz": 180
    },
    "id": "tPUoQnC6_KuO",
    "outputId": "e9402956-08fc-4082-adb5-caf712ddf8e1"
   },
   "outputs": [
    {
     "name": "stdout",
     "output_type": "stream",
     "text": [
      "Array de uma dimensão: \n",
      "[1 2 3 4 5 6]\n"
     ]
    }
   ],
   "source": [
    "a = np.array([1,2,3,4,5,6]) #cria um ndaaray de uma dimensão\n",
    "print(f'Array de uma dimensão: \\n{a}')"
   ]
  },
  {
   "cell_type": "code",
   "execution_count": 10,
   "metadata": {
    "colab": {
     "base_uri": "https://localhost:8080/"
    },
    "executionInfo": {
     "elapsed": 15,
     "status": "ok",
     "timestamp": 1742026409705,
     "user": {
      "displayName": "Julio Cesar dos Reis",
      "userId": "07725049740648948644"
     },
     "user_tz": 180
    },
    "id": "-gnxyxvE_KuO",
    "outputId": "7bba163b-1db7-4091-9ad3-1a943e4c9ce2"
   },
   "outputs": [
    {
     "name": "stdout",
     "output_type": "stream",
     "text": [
      "Array com multiplas dimensões: \n",
      " [[1 2 3]\n",
      " [4 5 6]]\n"
     ]
    }
   ],
   "source": [
    "#cria um array de 2 dimensões\n",
    "b = np.array([[1, 2, 3],\n",
    "             [4, 5, 6]])\n",
    "print(f'Array com multiplas dimensões: \\n {b}')"
   ]
  },
  {
   "cell_type": "markdown",
   "metadata": {
    "id": "2Zy3-ZbW_KuO"
   },
   "source": [
    "### 1.2 np.zeros(), np.ones(), np.empty()"
   ]
  },
  {
   "cell_type": "markdown",
   "metadata": {
    "id": "2b_AOGjU_KuP"
   },
   "source": [
    "Esses métodos são utilizados para criação de arrays como **placeholders** (i.e., que serão prenchidos). Para isso, precisamos informar apenas o formato desejado. Esses métodos evitam a necessidade de aumentar as dimensões dos arrays de forma dinâmica, a qual é uma operação custosa.\n",
    "\n",
    "Portanto, **np.zeros(shape=(m,n))** cria um array de mxn preenchidos com 0, enquanto **np.ones()** preenche o array com 1. Por fim, **np.empty()** preenche o array com valores aleatórios. É importante destacar que o dtype padrão é float64."
   ]
  },
  {
   "cell_type": "code",
   "execution_count": 11,
   "metadata": {
    "colab": {
     "base_uri": "https://localhost:8080/"
    },
    "executionInfo": {
     "elapsed": 16,
     "status": "ok",
     "timestamp": 1742026479704,
     "user": {
      "displayName": "Julio Cesar dos Reis",
      "userId": "07725049740648948644"
     },
     "user_tz": 180
    },
    "id": "6Dk6cVan_KuP",
    "outputId": "7f430635-8d89-4218-e75b-13714f158d32"
   },
   "outputs": [
    {
     "name": "stdout",
     "output_type": "stream",
     "text": [
      "Array preenchidos com zero's: \n",
      " [[0. 0.]\n",
      " [0. 0.]]\n"
     ]
    }
   ],
   "source": [
    "c = np.zeros((2, 2))\n",
    "print(f\"Array preenchidos com zero's: \\n {c}\")"
   ]
  },
  {
   "cell_type": "code",
   "execution_count": 12,
   "metadata": {
    "colab": {
     "base_uri": "https://localhost:8080/"
    },
    "executionInfo": {
     "elapsed": 54,
     "status": "ok",
     "timestamp": 1742026490225,
     "user": {
      "displayName": "Julio Cesar dos Reis",
      "userId": "07725049740648948644"
     },
     "user_tz": 180
    },
    "id": "kmw86wnA_KuP",
    "outputId": "1db5b320-1e91-44f9-a97d-fb1916c49ca1"
   },
   "outputs": [
    {
     "name": "stdout",
     "output_type": "stream",
     "text": [
      "Array preenchidos com um's: \n",
      " [[1. 1.]\n",
      " [1. 1.]]\n"
     ]
    }
   ],
   "source": [
    "d = np.ones((2, 2))\n",
    "print(f\"Array preenchidos com um's: \\n {d}\")"
   ]
  },
  {
   "cell_type": "code",
   "execution_count": 13,
   "metadata": {
    "colab": {
     "base_uri": "https://localhost:8080/"
    },
    "executionInfo": {
     "elapsed": 18,
     "status": "ok",
     "timestamp": 1742026508526,
     "user": {
      "displayName": "Julio Cesar dos Reis",
      "userId": "07725049740648948644"
     },
     "user_tz": 180
    },
    "id": "IQJqLvXD_KuP",
    "outputId": "d1da4a8d-efd1-44ec-a864-c79f75292630"
   },
   "outputs": [
    {
     "name": "stdout",
     "output_type": "stream",
     "text": [
      "Array com valores aleatórios: \n",
      " [[1.09041773e-311 3.16202013e-322 0.00000000e+000]\n",
      " [0.00000000e+000 1.08858384e-311 4.42969710e+175]\n",
      " [1.38321358e-047 5.69617335e-066 1.11644974e+165]\n",
      " [5.40243918e-038 7.12630656e-067 5.15972318e-066]]\n"
     ]
    }
   ],
   "source": [
    "e = np.empty((4, 3))\n",
    "print(f\"Array com valores aleatórios: \\n {e}\")"
   ]
  },
  {
   "cell_type": "markdown",
   "metadata": {
    "id": "gNqONp4I_KuP"
   },
   "source": [
    "### 1.3 np.eye()\n",
    "\n",
    "Cria um ndarray com 1s apenas na diagonal principal"
   ]
  },
  {
   "cell_type": "code",
   "execution_count": 16,
   "metadata": {
    "colab": {
     "base_uri": "https://localhost:8080/"
    },
    "executionInfo": {
     "elapsed": 10,
     "status": "ok",
     "timestamp": 1742026567366,
     "user": {
      "displayName": "Julio Cesar dos Reis",
      "userId": "07725049740648948644"
     },
     "user_tz": 180
    },
    "id": "QtV7k7p5_KuP",
    "outputId": "e45b74e2-3c18-4c84-f714-94ca379427e0"
   },
   "outputs": [
    {
     "data": {
      "text/plain": [
       "array([[1., 0., 0., 0., 0.],\n",
       "       [0., 1., 0., 0., 0.],\n",
       "       [0., 0., 1., 0., 0.],\n",
       "       [0., 0., 0., 1., 0.],\n",
       "       [0., 0., 0., 0., 1.]])"
      ]
     },
     "execution_count": 16,
     "metadata": {},
     "output_type": "execute_result"
    }
   ],
   "source": [
    "np.eye(5)"
   ]
  },
  {
   "cell_type": "markdown",
   "metadata": {
    "id": "VoZrbqWW_KuP"
   },
   "source": [
    "### 1.4 np.asarray()\n",
    "Converte a entrada em um ndarray"
   ]
  },
  {
   "cell_type": "code",
   "execution_count": 15,
   "metadata": {
    "colab": {
     "base_uri": "https://localhost:8080/"
    },
    "executionInfo": {
     "elapsed": 9,
     "status": "ok",
     "timestamp": 1742026582634,
     "user": {
      "displayName": "Julio Cesar dos Reis",
      "userId": "07725049740648948644"
     },
     "user_tz": 180
    },
    "id": "avJs0ieZ_KuP",
    "outputId": "3138a420-1306-4bef-865a-34671faa451d"
   },
   "outputs": [
    {
     "name": "stdout",
     "output_type": "stream",
     "text": [
      "Array de uma dimensão: \n",
      "[1 2 3 4 5 6]\n"
     ]
    }
   ],
   "source": [
    "f = np.asarray([1, 2, 3, 4, 5, 6])\n",
    "print(f'Array de uma dimensão: \\n{f}')"
   ]
  },
  {
   "cell_type": "markdown",
   "metadata": {
    "id": "WedGGEr0_KuP"
   },
   "source": [
    "### 1.5 diferença entre np.array() e np.asarray()\n",
    "\n",
    "A diferença principal é que o np.array() por padrão cria uma cópia do objeto, enquanto o np.asarray() não cria esta cópia."
   ]
  },
  {
   "cell_type": "code",
   "execution_count": 17,
   "metadata": {
    "colab": {
     "base_uri": "https://localhost:8080/"
    },
    "executionInfo": {
     "elapsed": 7,
     "status": "ok",
     "timestamp": 1742026630773,
     "user": {
      "displayName": "Julio Cesar dos Reis",
      "userId": "07725049740648948644"
     },
     "user_tz": 180
    },
    "id": "0JypLfft_KuP",
    "outputId": "fbcbb300-85cb-406a-9286-0e1f84b6a3bd"
   },
   "outputs": [
    {
     "name": "stdout",
     "output_type": "stream",
     "text": [
      "Dados não alterados False\n",
      "Dados alterados False\n",
      "Dados não alterados True\n",
      "Dados alterados False\n"
     ]
    }
   ],
   "source": [
    "a = np.array([1, 2], dtype=np.float32)\n",
    "\n",
    "print(f\"Dados não alterados {np.array(a, dtype=np.float32) is a}\")\n",
    "print(f\"Dados alterados {np.array(a, dtype=np.float64) is a}\")\n",
    "print(f\"Dados não alterados {np.asarray(a, dtype=np.float32) is a}\")\n",
    "print(f\"Dados alterados {np.asarray(a, dtype=np.float64) is a}\")"
   ]
  },
  {
   "cell_type": "markdown",
   "metadata": {
    "id": "ef7Q6ozo_KuQ"
   },
   "source": [
    "### 1.6 np.arange()\n",
    "\n",
    "Este método é utilizado para criar ndarrays com valores dentro de um intervalo definido:\n",
    "* np.arange(start, stop, step)\n",
    "    * **start**: valor inicial do intervalo\n",
    "    * **stop**: valor final do intervalo\n",
    "    * **step**: espaçamento entre os valores do intervalo"
   ]
  },
  {
   "cell_type": "code",
   "execution_count": 18,
   "metadata": {
    "colab": {
     "base_uri": "https://localhost:8080/"
    },
    "executionInfo": {
     "elapsed": 14,
     "status": "ok",
     "timestamp": 1742026920645,
     "user": {
      "displayName": "Julio Cesar dos Reis",
      "userId": "07725049740648948644"
     },
     "user_tz": 180
    },
    "id": "Up8tIBMc_KuQ",
    "outputId": "cd2d1956-e0ca-48d0-f860-f099e4f1d042"
   },
   "outputs": [
    {
     "name": "stdout",
     "output_type": "stream",
     "text": [
      "O array criado foi: \n",
      "[10 15 20 25]\n"
     ]
    }
   ],
   "source": [
    "g = np.arange(10, 30, 5)\n",
    "print(f'O array criado foi: \\n{g}')"
   ]
  },
  {
   "cell_type": "markdown",
   "metadata": {
    "id": "yW0UOt2d_KuQ"
   },
   "source": [
    "### 1.7 np.linspace()\n",
    "\n",
    "retorna uma sequencia igualmente espaçada baseado em um intervalo\n",
    "* np.linspace(start, stop, num=50)"
   ]
  },
  {
   "cell_type": "code",
   "execution_count": 19,
   "metadata": {
    "colab": {
     "base_uri": "https://localhost:8080/"
    },
    "executionInfo": {
     "elapsed": 8,
     "status": "ok",
     "timestamp": 1742026934196,
     "user": {
      "displayName": "Julio Cesar dos Reis",
      "userId": "07725049740648948644"
     },
     "user_tz": 180
    },
    "id": "wOc1fcZ6_KuQ",
    "outputId": "70a5fab8-9d07-4962-b989-9a0054529b10"
   },
   "outputs": [
    {
     "name": "stdout",
     "output_type": "stream",
     "text": [
      "O array criado foi: \n",
      "[ 0.  5. 10.]\n"
     ]
    }
   ],
   "source": [
    "h = np.linspace(0, 10, 3)\n",
    "print(f'O array criado foi: \\n{h}')"
   ]
  },
  {
   "cell_type": "markdown",
   "metadata": {
    "id": "O4CR7cu0_KuQ"
   },
   "source": [
    "## 2. Atributos Importantes de um ndarray\n",
    "\n",
    "* ndarray.dim\n",
    "    * representa o número de dimensões do array\n",
    "* ndarray.shape\n",
    "    * representa o formato do array\n",
    "* ndarray.size\n",
    "    * representa a quantidade total de elementos no array\n",
    "* ndarray.dtype\n",
    "    * representa o tipo dos elementos do array\n",
    "* ndarray.itemsize\n",
    "    * representa o tamanho em bytes dos elementos do array\n",
    "* ndarray.data\n",
    "    * representa os elementos do array."
   ]
  },
  {
   "cell_type": "code",
   "execution_count": 20,
   "metadata": {
    "colab": {
     "base_uri": "https://localhost:8080/"
    },
    "executionInfo": {
     "elapsed": 27,
     "status": "ok",
     "timestamp": 1742026957503,
     "user": {
      "displayName": "Julio Cesar dos Reis",
      "userId": "07725049740648948644"
     },
     "user_tz": 180
    },
    "id": "iEHzuL8z_KuQ",
    "outputId": "15d1bd7f-e995-458c-d9a8-aa209d79f1dc"
   },
   "outputs": [
    {
     "data": {
      "text/plain": [
       "(3, 2)"
      ]
     },
     "execution_count": 20,
     "metadata": {},
     "output_type": "execute_result"
    }
   ],
   "source": [
    "a = np.array([[1, 2],\n",
    "              [3, 4],\n",
    "              [5, 6]\n",
    "            ])\n",
    "a.shape"
   ]
  },
  {
   "cell_type": "code",
   "execution_count": 21,
   "metadata": {
    "colab": {
     "base_uri": "https://localhost:8080/"
    },
    "executionInfo": {
     "elapsed": 16,
     "status": "ok",
     "timestamp": 1742026964015,
     "user": {
      "displayName": "Julio Cesar dos Reis",
      "userId": "07725049740648948644"
     },
     "user_tz": 180
    },
    "id": "LUzHqJg1_KuQ",
    "outputId": "9183a005-f132-49f0-b62b-2b4602a21542"
   },
   "outputs": [
    {
     "data": {
      "text/plain": [
       "6"
      ]
     },
     "execution_count": 21,
     "metadata": {},
     "output_type": "execute_result"
    }
   ],
   "source": [
    "a.size"
   ]
  },
  {
   "cell_type": "code",
   "execution_count": 24,
   "metadata": {
    "colab": {
     "base_uri": "https://localhost:8080/"
    },
    "executionInfo": {
     "elapsed": 5,
     "status": "ok",
     "timestamp": 1742026965653,
     "user": {
      "displayName": "Julio Cesar dos Reis",
      "userId": "07725049740648948644"
     },
     "user_tz": 180
    },
    "id": "rNFVhTr2_KuQ",
    "outputId": "88ab4f77-71b2-4fd3-e58f-e7567e395546"
   },
   "outputs": [
    {
     "data": {
      "text/plain": [
       "2"
      ]
     },
     "execution_count": 24,
     "metadata": {},
     "output_type": "execute_result"
    }
   ],
   "source": [
    "a.ndim"
   ]
  },
  {
   "cell_type": "code",
   "execution_count": 25,
   "metadata": {
    "colab": {
     "base_uri": "https://localhost:8080/"
    },
    "executionInfo": {
     "elapsed": 6,
     "status": "ok",
     "timestamp": 1742026967473,
     "user": {
      "displayName": "Julio Cesar dos Reis",
      "userId": "07725049740648948644"
     },
     "user_tz": 180
    },
    "id": "h8LQNInW_KuQ",
    "outputId": "a519f34a-6796-4e97-a724-6734c6e12e28"
   },
   "outputs": [
    {
     "data": {
      "text/plain": [
       "dtype('int64')"
      ]
     },
     "execution_count": 25,
     "metadata": {},
     "output_type": "execute_result"
    }
   ],
   "source": [
    "a.dtype"
   ]
  },
  {
   "cell_type": "markdown",
   "metadata": {
    "id": "_SGrnWbS_KuQ"
   },
   "source": [
    "## 3. Indexando, Fatiando e Iterando arrays\n",
    "\n",
    "ndarrays podem ser indexados, fatiados (i.e., slicing) e iterados, da mesma forma que as listas em python"
   ]
  },
  {
   "cell_type": "markdown",
   "metadata": {
    "id": "UaoV46IV_KuQ"
   },
   "source": [
    "### 3.1 Indexando arrays"
   ]
  },
  {
   "cell_type": "code",
   "execution_count": 26,
   "metadata": {
    "colab": {
     "base_uri": "https://localhost:8080/"
    },
    "executionInfo": {
     "elapsed": 14,
     "status": "ok",
     "timestamp": 1742027045324,
     "user": {
      "displayName": "Julio Cesar dos Reis",
      "userId": "07725049740648948644"
     },
     "user_tz": 180
    },
    "id": "ofauYfMz_KuQ",
    "outputId": "ec536346-34db-4028-dd0f-1daac12f73db"
   },
   "outputs": [
    {
     "name": "stdout",
     "output_type": "stream",
     "text": [
      "a: \n",
      "[[1 2]\n",
      " [3 4]]\n",
      "b: \n",
      "3\n"
     ]
    }
   ],
   "source": [
    "a = np.array([[1, 2],\n",
    "              [3, 4]\n",
    "             ])\n",
    "#a[l][c] l é a linha e c1 a coluna, respectivamente\n",
    "b = a[1][0]\n",
    "print(f'a: \\n{a}')\n",
    "print(f'b: \\n{b}')"
   ]
  },
  {
   "cell_type": "markdown",
   "metadata": {
    "id": "T-kHS6V2_KuQ"
   },
   "source": [
    "### 3.2 Fatiando arrays (Slicing)"
   ]
  },
  {
   "cell_type": "code",
   "execution_count": 27,
   "metadata": {
    "colab": {
     "base_uri": "https://localhost:8080/"
    },
    "executionInfo": {
     "elapsed": 8,
     "status": "ok",
     "timestamp": 1742027074145,
     "user": {
      "displayName": "Julio Cesar dos Reis",
      "userId": "07725049740648948644"
     },
     "user_tz": 180
    },
    "id": "Ql7Kvtyn_KuQ",
    "outputId": "6051f8c1-0c53-4071-e16f-54c15d6df5d9"
   },
   "outputs": [
    {
     "name": "stdout",
     "output_type": "stream",
     "text": [
      "[2 4 6 8]\n",
      "[2 3 4 5 6 7 8 9]\n",
      "1\n",
      "[ 2  3  4  5  6  7  8  9 10 11 12 13 14 15 16 17 18 19]\n"
     ]
    }
   ],
   "source": [
    "a = np.arange(20)\n",
    "print(a[2:10:2])\n",
    "print(a[2:10])\n",
    "print(a[1])\n",
    "print(a[2:])"
   ]
  },
  {
   "cell_type": "markdown",
   "metadata": {
    "id": "5Z9OoUUo_KuQ"
   },
   "source": [
    "## 4. Alterando o Formato do Array (reshaping)\n",
    "\n",
    "altera o formato (i.e., shape) do array sem alterar os dados\n",
    "* np.reshape(a, newshape)"
   ]
  },
  {
   "cell_type": "code",
   "execution_count": 28,
   "metadata": {
    "colab": {
     "base_uri": "https://localhost:8080/"
    },
    "executionInfo": {
     "elapsed": 53,
     "status": "ok",
     "timestamp": 1742027078851,
     "user": {
      "displayName": "Julio Cesar dos Reis",
      "userId": "07725049740648948644"
     },
     "user_tz": 180
    },
    "id": "Vc9hBJvE_KuQ",
    "outputId": "2ff62da7-6a10-4828-a127-c818fd15f01f"
   },
   "outputs": [
    {
     "name": "stdout",
     "output_type": "stream",
     "text": [
      "a: \n",
      "[0 1 2 3 4 5]\n",
      "b: \n",
      "[[0 1 2]\n",
      " [3 4 5]]\n"
     ]
    }
   ],
   "source": [
    "a = np.arange(6)\n",
    "b = a.reshape(2,3)\n",
    "print(f'a: \\n{a}')\n",
    "print(f'b: \\n{b}')"
   ]
  },
  {
   "cell_type": "markdown",
   "metadata": {
    "id": "vYWln4p6_KuQ"
   },
   "source": [
    "## 5. Broadcasting\n",
    "\n",
    "O termo *broadcasting* descreve como o NumPy trata arrays com formas diferentes durante operações aritméticas. Sujeito a certas restrições, a matriz menor é “transmitida” pela matriz maior para que tenham formas compatíveis. Broadcasting fornece um meio de vetorizar operações de matriz para que o loop ocorra em C em vez de Python. Ele faz isso sem fazer cópias desnecessárias de dados e geralmente leva a implementações de algoritmo eficientes. Há, no entanto, casos em que a transmissão é uma má ideia porque leva ao uso ineficiente da memória que retarda a computação.\n",
    "\n",
    "As operações NumPy geralmente são feitas em pares de arrays elemento por elemento. No caso mais simples, os dois arrays devem ter exatamente a mesma forma, como no exemplo a seguir:"
   ]
  },
  {
   "cell_type": "code",
   "execution_count": 29,
   "metadata": {
    "colab": {
     "base_uri": "https://localhost:8080/"
    },
    "executionInfo": {
     "elapsed": 6,
     "status": "ok",
     "timestamp": 1742027126552,
     "user": {
      "displayName": "Julio Cesar dos Reis",
      "userId": "07725049740648948644"
     },
     "user_tz": 180
    },
    "id": "jrQymSSv_KuR",
    "outputId": "887b90c0-7768-498e-a990-c4a54aff4b09"
   },
   "outputs": [
    {
     "data": {
      "text/plain": [
       "array([2., 4., 6.])"
      ]
     },
     "execution_count": 29,
     "metadata": {},
     "output_type": "execute_result"
    }
   ],
   "source": [
    "a = np.array([1.0, 2.0, 3.0])\n",
    "b = np.array([2.0, 2.0, 2.0])\n",
    "a * b"
   ]
  },
  {
   "cell_type": "markdown",
   "metadata": {
    "id": "3X37iA2p_KuR"
   },
   "source": [
    "A regra de transmissão do NumPy relaxa essa restrição quando as formas das matrizes atendem a certas restrições. O exemplo de transmissão mais simples ocorre quando uma matriz e um valor escalar são combinados em uma operação:"
   ]
  },
  {
   "cell_type": "code",
   "execution_count": 31,
   "metadata": {
    "colab": {
     "base_uri": "https://localhost:8080/"
    },
    "executionInfo": {
     "elapsed": 23,
     "status": "ok",
     "timestamp": 1742027159387,
     "user": {
      "displayName": "Julio Cesar dos Reis",
      "userId": "07725049740648948644"
     },
     "user_tz": 180
    },
    "id": "t934wkhR_KuR",
    "outputId": "186a6aa7-53ac-4837-a5d3-aae42768613f"
   },
   "outputs": [
    {
     "data": {
      "text/plain": [
       "array([2., 4., 6.])"
      ]
     },
     "execution_count": 31,
     "metadata": {},
     "output_type": "execute_result"
    }
   ],
   "source": [
    "a = np.array([1.0, 2.0, 3.0])\n",
    "b = 2.0\n",
    "a * b"
   ]
  },
  {
   "cell_type": "markdown",
   "metadata": {
    "id": "YrIjLyDZ_KuR"
   },
   "source": [
    "![image.png](attachment:image.png)"
   ]
  },
  {
   "cell_type": "markdown",
   "metadata": {
    "id": "XuAdKibs_KuT"
   },
   "source": [
    "Ao operar em dois arrays, o NumPy compara suas formas elementarmente. Ele começa com a dimensão à direita (ou seja, mais à direita) e segue para a esquerda. Duas dimensões são compatíveis quando\n",
    "\n",
    "* são iguais ou\n",
    "* um deles é 1.\n",
    "\n",
    "Se essas condições não forem atendidas, uma exceção **ValueError: os operandos não puderam ser transmitidos será lançada, indicando que as matrizes têm formas incompatíveis.**\n",
    "\n",
    "os arrays de entrada não precisam ter o mesmo número de dimensões. O arrays resultante terá o mesmo número de dimensões que o array de entrada com o maior número de dimensões, onde o tamanho de cada dimensão é o maior tamanho da dimensão correspondente entre os arrays de entrada. Observe que as dimensões ausentes são consideradas de tamanho um."
   ]
  },
  {
   "cell_type": "code",
   "execution_count": 32,
   "metadata": {
    "colab": {
     "base_uri": "https://localhost:8080/"
    },
    "executionInfo": {
     "elapsed": 92,
     "status": "ok",
     "timestamp": 1742027227430,
     "user": {
      "displayName": "Julio Cesar dos Reis",
      "userId": "07725049740648948644"
     },
     "user_tz": 180
    },
    "id": "9s8oZR0n_KuT",
    "outputId": "68c92e47-bd5f-4320-810d-3a31d5697611"
   },
   "outputs": [
    {
     "name": "stdout",
     "output_type": "stream",
     "text": [
      "(3, 3)\n",
      "(3,)\n"
     ]
    }
   ],
   "source": [
    "a = np.array([[1, 2, 3], [4, 5, 6], [7, 8, 9]])\n",
    "b = np.array([1, 2, 3])\n",
    "print(a.shape)\n",
    "print(b.shape)"
   ]
  },
  {
   "cell_type": "code",
   "execution_count": 33,
   "metadata": {
    "colab": {
     "base_uri": "https://localhost:8080/"
    },
    "executionInfo": {
     "elapsed": 22,
     "status": "ok",
     "timestamp": 1742027244400,
     "user": {
      "displayName": "Julio Cesar dos Reis",
      "userId": "07725049740648948644"
     },
     "user_tz": 180
    },
    "id": "QNcE-7lq_KuT",
    "outputId": "4843cc71-b11f-4eb2-8a3a-438a7b0ecdb9"
   },
   "outputs": [
    {
     "data": {
      "text/plain": [
       "array([[1, 2, 3],\n",
       "       [1, 2, 3],\n",
       "       [1, 2, 3]])"
      ]
     },
     "execution_count": 33,
     "metadata": {},
     "output_type": "execute_result"
    }
   ],
   "source": [
    "#Exemplo stretch\n",
    "np.array([b, b, b])"
   ]
  },
  {
   "cell_type": "code",
   "execution_count": 34,
   "metadata": {
    "colab": {
     "base_uri": "https://localhost:8080/"
    },
    "executionInfo": {
     "elapsed": 21,
     "status": "ok",
     "timestamp": 1742027253504,
     "user": {
      "displayName": "Julio Cesar dos Reis",
      "userId": "07725049740648948644"
     },
     "user_tz": 180
    },
    "id": "FX8AbC-u_KuU",
    "outputId": "44bd8e27-a8e5-4e23-e6e2-f76f8d0d165b"
   },
   "outputs": [
    {
     "name": "stdout",
     "output_type": "stream",
     "text": [
      "a: \n",
      " [[1 2 3]\n",
      " [4 5 6]\n",
      " [7 8 9]]\n",
      "broadcasting c: \n",
      " [[ 2  4  6]\n",
      " [ 5  7  9]\n",
      " [ 8 10 12]]\n"
     ]
    }
   ],
   "source": [
    "c = a + b\n",
    "print(f'a: \\n {a}')\n",
    "print(f'broadcasting c: \\n {c}')"
   ]
  },
  {
   "cell_type": "markdown",
   "metadata": {
    "id": "MKDUswzG_KuU"
   },
   "source": [
    "## 6. Funções comuns do NumPy"
   ]
  },
  {
   "cell_type": "markdown",
   "metadata": {
    "id": "eunVGM2v_KuU"
   },
   "source": [
    "### 6.1 ndarray.flat()\n",
    "\n",
    "utilizado para \"vetorizar\" um array de múltiplas dimensões"
   ]
  },
  {
   "cell_type": "code",
   "execution_count": 36,
   "metadata": {
    "colab": {
     "base_uri": "https://localhost:8080/"
    },
    "executionInfo": {
     "elapsed": 38,
     "status": "ok",
     "timestamp": 1742027296522,
     "user": {
      "displayName": "Julio Cesar dos Reis",
      "userId": "07725049740648948644"
     },
     "user_tz": 180
    },
    "id": "f_5uSc7n_KuU",
    "outputId": "44180e4f-887d-414f-f086-a48d12481fac"
   },
   "outputs": [
    {
     "name": "stdout",
     "output_type": "stream",
     "text": [
      "a: \n",
      " [[1 2 3]\n",
      " [4 5 6]\n",
      " [7 8 9]]\n",
      "a flat: \n",
      " [1 2 3 4 5 6 7 8 9]\n"
     ]
    }
   ],
   "source": [
    "a = np.array([[1, 2, 3], [4, 5, 6], [7, 8, 9]])\n",
    "print(f'a: \\n {a}')\n",
    "print(f'a flat: \\n {a.flat[:]}')"
   ]
  },
  {
   "cell_type": "markdown",
   "metadata": {
    "id": "352Pxi-w_KuU"
   },
   "source": [
    "### 6.2 ndarray.transpose()\n",
    "\n",
    "faz a transposição dos eixos do array"
   ]
  },
  {
   "cell_type": "code",
   "execution_count": 37,
   "metadata": {
    "colab": {
     "base_uri": "https://localhost:8080/"
    },
    "executionInfo": {
     "elapsed": 58,
     "status": "ok",
     "timestamp": 1742027501940,
     "user": {
      "displayName": "Julio Cesar dos Reis",
      "userId": "07725049740648948644"
     },
     "user_tz": 180
    },
    "id": "apilnhCU_KuU",
    "outputId": "d306d303-b5f3-43b3-9ab9-7f7d64c7154a"
   },
   "outputs": [
    {
     "data": {
      "text/plain": [
       "array([[1, 2, 3],\n",
       "       [4, 5, 6],\n",
       "       [7, 8, 9]])"
      ]
     },
     "execution_count": 37,
     "metadata": {},
     "output_type": "execute_result"
    }
   ],
   "source": [
    "a = np.array([[1, 2, 3], [4, 5, 6], [7, 8, 9]])\n",
    "a"
   ]
  },
  {
   "cell_type": "code",
   "execution_count": 38,
   "metadata": {
    "colab": {
     "base_uri": "https://localhost:8080/"
    },
    "executionInfo": {
     "elapsed": 24,
     "status": "ok",
     "timestamp": 1742027329226,
     "user": {
      "displayName": "Julio Cesar dos Reis",
      "userId": "07725049740648948644"
     },
     "user_tz": 180
    },
    "id": "j6YE2Pes_KuU",
    "outputId": "cfe4ce44-37d8-4235-e2ee-66ab9e620fa3"
   },
   "outputs": [
    {
     "data": {
      "text/plain": [
       "array([[1, 4, 7],\n",
       "       [2, 5, 8],\n",
       "       [3, 6, 9]])"
      ]
     },
     "execution_count": 38,
     "metadata": {},
     "output_type": "execute_result"
    }
   ],
   "source": [
    "np.transpose(a)"
   ]
  },
  {
   "cell_type": "code",
   "execution_count": 40,
   "metadata": {
    "colab": {
     "base_uri": "https://localhost:8080/"
    },
    "executionInfo": {
     "elapsed": 25,
     "status": "ok",
     "timestamp": 1742027336438,
     "user": {
      "displayName": "Julio Cesar dos Reis",
      "userId": "07725049740648948644"
     },
     "user_tz": 180
    },
    "id": "iNUSNOHl_KuU",
    "outputId": "b47edb50-9526-4afd-ec03-7f8c9e4b23f3"
   },
   "outputs": [
    {
     "data": {
      "text/plain": [
       "array([[1, 4, 7],\n",
       "       [2, 5, 8],\n",
       "       [3, 6, 9]])"
      ]
     },
     "execution_count": 40,
     "metadata": {},
     "output_type": "execute_result"
    }
   ],
   "source": [
    "a.T"
   ]
  },
  {
   "cell_type": "markdown",
   "metadata": {
    "id": "kFJ9fgTo_KuU"
   },
   "source": [
    "### 6.3 np.concatenate(a1, a2, axis)\n",
    "\n",
    "Concatena uma sequencia de arrays baseado no axis especificado"
   ]
  },
  {
   "cell_type": "code",
   "execution_count": 41,
   "metadata": {
    "colab": {
     "base_uri": "https://localhost:8080/"
    },
    "executionInfo": {
     "elapsed": 7,
     "status": "ok",
     "timestamp": 1742027781145,
     "user": {
      "displayName": "Julio Cesar dos Reis",
      "userId": "07725049740648948644"
     },
     "user_tz": 180
    },
    "id": "XF0K_XHg_KuU",
    "outputId": "14ce30f1-efd9-4a4a-ccf2-e3f6bb84ea47"
   },
   "outputs": [
    {
     "name": "stdout",
     "output_type": "stream",
     "text": [
      "a: \n",
      "[[0 1 2]\n",
      " [3 4 5]]\n",
      "b: \n",
      "[[ 8  9 10]\n",
      " [11 12 13]]\n"
     ]
    }
   ],
   "source": [
    "a = np.arange(6).reshape(2, 3)\n",
    "b = np.arange(8, 14).reshape(2, 3)\n",
    "print(f'a: \\n{a}')\n",
    "print(f'b: \\n{b}')"
   ]
  },
  {
   "cell_type": "code",
   "execution_count": 42,
   "metadata": {
    "colab": {
     "base_uri": "https://localhost:8080/"
    },
    "executionInfo": {
     "elapsed": 27,
     "status": "ok",
     "timestamp": 1742027782325,
     "user": {
      "displayName": "Julio Cesar dos Reis",
      "userId": "07725049740648948644"
     },
     "user_tz": 180
    },
    "id": "h6fXjCkC_KuU",
    "outputId": "fb325990-1972-4f86-fb47-5079d3a6f6ee"
   },
   "outputs": [
    {
     "data": {
      "text/plain": [
       "array([[ 0,  1,  2],\n",
       "       [ 3,  4,  5],\n",
       "       [ 8,  9, 10],\n",
       "       [11, 12, 13]])"
      ]
     },
     "execution_count": 42,
     "metadata": {},
     "output_type": "execute_result"
    }
   ],
   "source": [
    "np.concatenate((a, b), axis=0) #nas linhas"
   ]
  },
  {
   "cell_type": "code",
   "execution_count": 43,
   "metadata": {
    "colab": {
     "base_uri": "https://localhost:8080/"
    },
    "executionInfo": {
     "elapsed": 8,
     "status": "ok",
     "timestamp": 1742027783282,
     "user": {
      "displayName": "Julio Cesar dos Reis",
      "userId": "07725049740648948644"
     },
     "user_tz": 180
    },
    "id": "E13nepIJ_KuU",
    "outputId": "4e7358fb-cae4-4964-c4bd-5f290951d5cb"
   },
   "outputs": [
    {
     "data": {
      "text/plain": [
       "array([[ 0,  1,  2,  8,  9, 10],\n",
       "       [ 3,  4,  5, 11, 12, 13]])"
      ]
     },
     "execution_count": 43,
     "metadata": {},
     "output_type": "execute_result"
    }
   ],
   "source": [
    "np.concatenate((a, b), axis=1) #adiciona nas colunas"
   ]
  },
  {
   "cell_type": "markdown",
   "metadata": {
    "id": "4DORY9Ry_KuU"
   },
   "source": [
    "### 6.4 np.append()\n",
    "\n",
    "Adiciona valores no final do array, como o .append() das listas em python"
   ]
  },
  {
   "cell_type": "code",
   "execution_count": 44,
   "metadata": {
    "colab": {
     "base_uri": "https://localhost:8080/"
    },
    "executionInfo": {
     "elapsed": 52,
     "status": "ok",
     "timestamp": 1742027939283,
     "user": {
      "displayName": "Julio Cesar dos Reis",
      "userId": "07725049740648948644"
     },
     "user_tz": 180
    },
    "id": "OOgDXmSh_KuU",
    "outputId": "9641e3e6-a27b-4e56-98e9-1fcc4d4cb3f3"
   },
   "outputs": [
    {
     "name": "stdout",
     "output_type": "stream",
     "text": [
      "b: \n",
      " [[1 2 3]\n",
      " [4 5 6]\n",
      " [7 8 9]]\n",
      "c: \n",
      " [1 2 3 4 5 6 7 8 9]\n"
     ]
    }
   ],
   "source": [
    "a = np.array([[1,2,3] , [4, 5, 6]])\n",
    "b = np.append(a, [[7, 8, 9]], axis=0) #axis especifica em qual dimensão\n",
    "c = np.append(a, [[7, 8, 9]])\n",
    "\n",
    "print(f'b: \\n {b}')\n",
    "print(f'c: \\n {c}')"
   ]
  },
  {
   "cell_type": "markdown",
   "metadata": {
    "id": "sgJyJT4G_KuU"
   },
   "source": [
    "### 6.5 np.insert()\n",
    "\n",
    "Podemos inserir valores baseado em um axis e um indice\n",
    "* np.insert(arr, idx, values, axis)"
   ]
  },
  {
   "cell_type": "code",
   "execution_count": 45,
   "metadata": {
    "colab": {
     "base_uri": "https://localhost:8080/"
    },
    "executionInfo": {
     "elapsed": 13,
     "status": "ok",
     "timestamp": 1742027860611,
     "user": {
      "displayName": "Julio Cesar dos Reis",
      "userId": "07725049740648948644"
     },
     "user_tz": 180
    },
    "id": "VMAY0WGp_KuU",
    "outputId": "76d21a5d-b2ca-4ca7-fcb5-9f074526eb72"
   },
   "outputs": [
    {
     "data": {
      "text/plain": [
       "array([[0, 1, 2],\n",
       "       [3, 4, 5]])"
      ]
     },
     "execution_count": 45,
     "metadata": {},
     "output_type": "execute_result"
    }
   ],
   "source": [
    "a = np.arange(6).reshape(2, 3)\n",
    "a"
   ]
  },
  {
   "cell_type": "code",
   "execution_count": 46,
   "metadata": {
    "colab": {
     "base_uri": "https://localhost:8080/"
    },
    "executionInfo": {
     "elapsed": 58,
     "status": "ok",
     "timestamp": 1742027981671,
     "user": {
      "displayName": "Julio Cesar dos Reis",
      "userId": "07725049740648948644"
     },
     "user_tz": 180
    },
    "id": "wg_eqTuI_KuV",
    "outputId": "e5f95d6b-1e20-4b94-f8ca-75ef09cbd771"
   },
   "outputs": [
    {
     "data": {
      "text/plain": [
       "array([0, 1, 7, 8, 2, 3, 4, 5])"
      ]
     },
     "execution_count": 46,
     "metadata": {},
     "output_type": "execute_result"
    }
   ],
   "source": [
    "np.insert(a, 2, [7, 8])"
   ]
  },
  {
   "cell_type": "code",
   "execution_count": 51,
   "metadata": {
    "colab": {
     "base_uri": "https://localhost:8080/"
    },
    "executionInfo": {
     "elapsed": 42,
     "status": "ok",
     "timestamp": 1742027952007,
     "user": {
      "displayName": "Julio Cesar dos Reis",
      "userId": "07725049740648948644"
     },
     "user_tz": 180
    },
    "id": "thgZtOL5_KuV",
    "outputId": "6437fa5a-b99e-45f6-cd98-5ea57e85d118"
   },
   "outputs": [
    {
     "data": {
      "text/plain": [
       "array([[0, 1, 7, 2],\n",
       "       [3, 4, 8, 5]])"
      ]
     },
     "execution_count": 51,
     "metadata": {},
     "output_type": "execute_result"
    }
   ],
   "source": [
    "np.insert(a, 2, [7, 8], axis=1)"
   ]
  },
  {
   "cell_type": "markdown",
   "metadata": {
    "id": "4g3Pm7CO_KuV"
   },
   "source": [
    "### 6.6 np.delete()\n",
    "\n",
    "retorna um novo array sem a linha ou a coluna informada"
   ]
  },
  {
   "cell_type": "code",
   "execution_count": 57,
   "metadata": {
    "colab": {
     "base_uri": "https://localhost:8080/"
    },
    "executionInfo": {
     "elapsed": 38,
     "status": "ok",
     "timestamp": 1742028035697,
     "user": {
      "displayName": "Julio Cesar dos Reis",
      "userId": "07725049740648948644"
     },
     "user_tz": 180
    },
    "id": "U2lG2UXN_KuV",
    "outputId": "24c66d02-b91e-4dc1-c567-684c4c92c9dc"
   },
   "outputs": [
    {
     "data": {
      "text/plain": [
       "array([[0, 1, 2],\n",
       "       [3, 4, 5]])"
      ]
     },
     "execution_count": 57,
     "metadata": {},
     "output_type": "execute_result"
    }
   ],
   "source": [
    "a"
   ]
  },
  {
   "cell_type": "code",
   "execution_count": null,
   "metadata": {
    "colab": {
     "base_uri": "https://localhost:8080/"
    },
    "executionInfo": {
     "elapsed": 13,
     "status": "ok",
     "timestamp": 1742028048346,
     "user": {
      "displayName": "Julio Cesar dos Reis",
      "userId": "07725049740648948644"
     },
     "user_tz": 180
    },
    "id": "sxdKrWvX_KuV",
    "outputId": "185f676f-d8c5-468e-aed4-0725e8ccd10a"
   },
   "outputs": [
    {
     "data": {
      "text/plain": [
       "array([[1, 2],\n",
       "       [4, 5]])"
      ]
     },
     "execution_count": 53,
     "metadata": {},
     "output_type": "execute_result"
    }
   ],
   "source": [
    "np.delete(a, 0, axis=1) #remove linha 0"
   ]
  },
  {
   "cell_type": "code",
   "execution_count": 55,
   "metadata": {
    "colab": {
     "base_uri": "https://localhost:8080/"
    },
    "executionInfo": {
     "elapsed": 6,
     "status": "ok",
     "timestamp": 1742028054520,
     "user": {
      "displayName": "Julio Cesar dos Reis",
      "userId": "07725049740648948644"
     },
     "user_tz": 180
    },
    "id": "GFmP4gMo_KuV",
    "outputId": "92f3f818-c646-4617-9082-237c4007aff2"
   },
   "outputs": [
    {
     "data": {
      "text/plain": [
       "array([[3, 4, 5]])"
      ]
     },
     "execution_count": 55,
     "metadata": {},
     "output_type": "execute_result"
    }
   ],
   "source": [
    "np.delete(a, 0, axis=0)  #remove coluna 0"
   ]
  },
  {
   "cell_type": "markdown",
   "metadata": {
    "id": "AYKBV_nN_KuV"
   },
   "source": [
    "## 7. Operações Aritméticas\n",
    "\n",
    "* soma\n",
    "* subtração\n",
    "* multiplicação\n",
    "* divisão\n",
    "* soma acumulada (cumsum)\n",
    "* dot (multiplicação de matrizes)\n"
   ]
  },
  {
   "cell_type": "code",
   "execution_count": 59,
   "metadata": {
    "colab": {
     "base_uri": "https://localhost:8080/"
    },
    "executionInfo": {
     "elapsed": 55,
     "status": "ok",
     "timestamp": 1742028265498,
     "user": {
      "displayName": "Julio Cesar dos Reis",
      "userId": "07725049740648948644"
     },
     "user_tz": 180
    },
    "id": "xxLWm0v3_KuV",
    "outputId": "4c2647d9-6e28-4132-de35-d35dec0ff49a"
   },
   "outputs": [
    {
     "data": {
      "text/plain": [
       "array([[0, 1, 2],\n",
       "       [3, 4, 5]])"
      ]
     },
     "execution_count": 59,
     "metadata": {},
     "output_type": "execute_result"
    }
   ],
   "source": [
    "a = np.arange(6).reshape(2, 3)\n",
    "a"
   ]
  },
  {
   "cell_type": "code",
   "execution_count": 60,
   "metadata": {
    "colab": {
     "base_uri": "https://localhost:8080/"
    },
    "executionInfo": {
     "elapsed": 5,
     "status": "ok",
     "timestamp": 1742028266490,
     "user": {
      "displayName": "Julio Cesar dos Reis",
      "userId": "07725049740648948644"
     },
     "user_tz": 180
    },
    "id": "8eHCs33o_KuV",
    "outputId": "b65c892d-b422-4a20-9c33-7cbacefd1453"
   },
   "outputs": [
    {
     "data": {
      "text/plain": [
       "array([[10, 11, 12],\n",
       "       [13, 14, 15]])"
      ]
     },
     "execution_count": 60,
     "metadata": {},
     "output_type": "execute_result"
    }
   ],
   "source": [
    "b = np.arange(10, 16).reshape(2, 3)\n",
    "b"
   ]
  },
  {
   "cell_type": "markdown",
   "metadata": {
    "id": "JcaMJKJw_KuV"
   },
   "source": [
    "### 7.1 Soma"
   ]
  },
  {
   "cell_type": "code",
   "execution_count": 61,
   "metadata": {
    "colab": {
     "base_uri": "https://localhost:8080/"
    },
    "executionInfo": {
     "elapsed": 21,
     "status": "ok",
     "timestamp": 1742028071490,
     "user": {
      "displayName": "Julio Cesar dos Reis",
      "userId": "07725049740648948644"
     },
     "user_tz": 180
    },
    "id": "4LLjK61F_KuV",
    "outputId": "db94d20a-094d-4c1b-a6a0-e4edc4d081c8"
   },
   "outputs": [
    {
     "name": "stdout",
     "output_type": "stream",
     "text": [
      "[[10 12 14]\n",
      " [16 18 20]]\n",
      " np.add(a, b) == a + b: \n",
      " [[ True  True  True]\n",
      " [ True  True  True]]\n"
     ]
    }
   ],
   "source": [
    "print(np.add(a, b))\n",
    "print(f' np.add(a, b) == a + b: \\n {np.add(a, b) == a + b}')"
   ]
  },
  {
   "cell_type": "markdown",
   "metadata": {
    "id": "Kiix-fE7_KuV"
   },
   "source": [
    "### 7.2 Subtração"
   ]
  },
  {
   "cell_type": "code",
   "execution_count": 62,
   "metadata": {
    "colab": {
     "base_uri": "https://localhost:8080/"
    },
    "executionInfo": {
     "elapsed": 10,
     "status": "ok",
     "timestamp": 1742028127819,
     "user": {
      "displayName": "Julio Cesar dos Reis",
      "userId": "07725049740648948644"
     },
     "user_tz": 180
    },
    "id": "aqdbPJ7I_KuV",
    "outputId": "6f17e01c-dd9e-4007-e6fb-877a72da4cd8"
   },
   "outputs": [
    {
     "data": {
      "text/plain": [
       "array([[10, 10, 10],\n",
       "       [10, 10, 10]])"
      ]
     },
     "execution_count": 62,
     "metadata": {},
     "output_type": "execute_result"
    }
   ],
   "source": [
    "b - a"
   ]
  },
  {
   "cell_type": "markdown",
   "metadata": {
    "id": "Jf66HG-Q_KuV"
   },
   "source": [
    "### 7.3 Multiplicação"
   ]
  },
  {
   "cell_type": "code",
   "execution_count": 63,
   "metadata": {
    "colab": {
     "base_uri": "https://localhost:8080/"
    },
    "executionInfo": {
     "elapsed": 16,
     "status": "ok",
     "timestamp": 1742028150175,
     "user": {
      "displayName": "Julio Cesar dos Reis",
      "userId": "07725049740648948644"
     },
     "user_tz": 180
    },
    "id": "cpaJ88pn_KuV",
    "outputId": "b39bb7d6-e0ea-4df5-a673-003da8e19716"
   },
   "outputs": [
    {
     "data": {
      "text/plain": [
       "array([[ 0, 11, 24],\n",
       "       [39, 56, 75]])"
      ]
     },
     "execution_count": 63,
     "metadata": {},
     "output_type": "execute_result"
    }
   ],
   "source": [
    "a * b"
   ]
  },
  {
   "cell_type": "markdown",
   "metadata": {
    "id": "Sl_d28z6_KuV"
   },
   "source": [
    "### 7.4 Divisão"
   ]
  },
  {
   "cell_type": "code",
   "execution_count": 64,
   "metadata": {
    "colab": {
     "base_uri": "https://localhost:8080/"
    },
    "executionInfo": {
     "elapsed": 19,
     "status": "ok",
     "timestamp": 1742028168771,
     "user": {
      "displayName": "Julio Cesar dos Reis",
      "userId": "07725049740648948644"
     },
     "user_tz": 180
    },
    "id": "VavYzT6a_KuV",
    "outputId": "46791129-7c6d-4603-a346-0a193aa808e7"
   },
   "outputs": [
    {
     "data": {
      "text/plain": [
       "array([[0.        , 0.09090909, 0.16666667],\n",
       "       [0.23076923, 0.28571429, 0.33333333]])"
      ]
     },
     "execution_count": 64,
     "metadata": {},
     "output_type": "execute_result"
    }
   ],
   "source": [
    "a / b"
   ]
  },
  {
   "cell_type": "markdown",
   "metadata": {
    "id": "L9jTYmp7KQD-"
   },
   "source": [
    "### 7.5 Soma Acumulada (cumsum)\n",
    "\n",
    "Retorna um novo vetor no qual a posição i do array tem seu valor substituído pela soma do valor na posição i com todos os valores i-1 anteriores do array **original**.\n",
    "\n",
    "e.g. a soma cumulativa do array:\n",
    "\n",
    "```\n",
    "arr = np.array([0, 1, 2, 3])\n",
    "```\n",
    "\n",
    "seria ```[0 1 3 6]```\n"
   ]
  },
  {
   "cell_type": "code",
   "execution_count": 65,
   "metadata": {
    "colab": {
     "base_uri": "https://localhost:8080/"
    },
    "executionInfo": {
     "elapsed": 35,
     "status": "ok",
     "timestamp": 1742028198049,
     "user": {
      "displayName": "Julio Cesar dos Reis",
      "userId": "07725049740648948644"
     },
     "user_tz": 180
    },
    "id": "BJJ2yXWsJ90N",
    "outputId": "c158fe80-0881-4392-efb2-7c98e719681b"
   },
   "outputs": [
    {
     "name": "stdout",
     "output_type": "stream",
     "text": [
      "[ 2  5  9 14 20 27 35]\n",
      "[2 3 4 5 6 7 8]\n"
     ]
    }
   ],
   "source": [
    "arr = np.array([2, 3, 4, 5, 6, 7, 8])\n",
    "print(np.cumsum(arr))\n",
    "print(arr)"
   ]
  },
  {
   "cell_type": "markdown",
   "metadata": {
    "id": "veFf6d05_KuV"
   },
   "source": [
    "### 7.6 Dot (multiplicação de matrizes)"
   ]
  },
  {
   "cell_type": "code",
   "execution_count": 66,
   "metadata": {
    "colab": {
     "base_uri": "https://localhost:8080/",
     "height": 141
    },
    "executionInfo": {
     "elapsed": 48,
     "status": "error",
     "timestamp": 1742028290254,
     "user": {
      "displayName": "Julio Cesar dos Reis",
      "userId": "07725049740648948644"
     },
     "user_tz": 180
    },
    "id": "lGhZZXS9_KuV",
    "outputId": "29d05fac-f5aa-4666-9b8f-1217c6d1d501"
   },
   "outputs": [
    {
     "ename": "ValueError",
     "evalue": "shapes (2,3) and (2,3) not aligned: 3 (dim 1) != 2 (dim 0)",
     "output_type": "error",
     "traceback": [
      "\u001b[31m---------------------------------------------------------------------------\u001b[39m",
      "\u001b[31mValueError\u001b[39m                                Traceback (most recent call last)",
      "\u001b[36mCell\u001b[39m\u001b[36m \u001b[39m\u001b[32mIn[66]\u001b[39m\u001b[32m, line 1\u001b[39m\n\u001b[32m----> \u001b[39m\u001b[32m1\u001b[39m \u001b[43mnp\u001b[49m\u001b[43m.\u001b[49m\u001b[43mdot\u001b[49m\u001b[43m(\u001b[49m\u001b[43ma\u001b[49m\u001b[43m,\u001b[49m\u001b[43m \u001b[49m\u001b[43mb\u001b[49m\u001b[43m)\u001b[49m \u001b[38;5;66;03m#aqui dá um erro mesmo devido a a e b terem mesmas dimensões\u001b[39;00m\n",
      "\u001b[31mValueError\u001b[39m: shapes (2,3) and (2,3) not aligned: 3 (dim 1) != 2 (dim 0)"
     ]
    }
   ],
   "source": [
    "np.dot(a, b) #aqui dá um erro mesmo devido a a e b terem mesmas dimensões"
   ]
  },
  {
   "cell_type": "code",
   "execution_count": 67,
   "metadata": {
    "colab": {
     "base_uri": "https://localhost:8080/"
    },
    "executionInfo": {
     "elapsed": 28,
     "status": "ok",
     "timestamp": 1742028336416,
     "user": {
      "displayName": "Julio Cesar dos Reis",
      "userId": "07725049740648948644"
     },
     "user_tz": 180
    },
    "id": "k0BrZ1QP_KuV",
    "outputId": "8a6e4c16-54ee-4c5f-8194-211049d6894b"
   },
   "outputs": [
    {
     "data": {
      "text/plain": [
       "array([[ 35,  44],\n",
       "       [134, 170]])"
      ]
     },
     "execution_count": 67,
     "metadata": {},
     "output_type": "execute_result"
    }
   ],
   "source": [
    "np.dot(a, b.T)"
   ]
  },
  {
   "cell_type": "code",
   "execution_count": 68,
   "metadata": {
    "colab": {
     "base_uri": "https://localhost:8080/"
    },
    "executionInfo": {
     "elapsed": 42,
     "status": "ok",
     "timestamp": 1742028363482,
     "user": {
      "displayName": "Julio Cesar dos Reis",
      "userId": "07725049740648948644"
     },
     "user_tz": 180
    },
    "id": "-1BGl51r_KuW",
    "outputId": "b59a92ad-1673-41bd-8d86-8bd982067722"
   },
   "outputs": [
    {
     "data": {
      "text/plain": [
       "array([[ 35,  44],\n",
       "       [134, 170]])"
      ]
     },
     "execution_count": 68,
     "metadata": {},
     "output_type": "execute_result"
    }
   ],
   "source": [
    "a@b.T"
   ]
  },
  {
   "cell_type": "markdown",
   "metadata": {
    "id": "1eWvzUyZ_KuW"
   },
   "source": [
    "## 8. Operações de Agregação\n",
    "\n",
    "* np.sum()\n",
    "* np.mean()\n",
    "* np.std()\n",
    "* np.var()"
   ]
  },
  {
   "cell_type": "code",
   "execution_count": 69,
   "metadata": {
    "id": "qopHYGra_KuW"
   },
   "outputs": [],
   "source": [
    "array_gigante = np.random.randint(0, 1000, size=1_000_000)"
   ]
  },
  {
   "cell_type": "code",
   "execution_count": 70,
   "metadata": {
    "colab": {
     "base_uri": "https://localhost:8080/"
    },
    "executionInfo": {
     "elapsed": 9928,
     "status": "ok",
     "timestamp": 1742028405381,
     "user": {
      "displayName": "Julio Cesar dos Reis",
      "userId": "07725049740648948644"
     },
     "user_tz": 180
    },
    "id": "DWywoCAy_KuW",
    "outputId": "4ee42c17-b482-4b1a-db35-367a95326985"
   },
   "outputs": [
    {
     "name": "stdout",
     "output_type": "stream",
     "text": [
      "41.5 ms ± 1.01 ms per loop (mean ± std. dev. of 7 runs, 10 loops each)\n",
      "419 μs ± 4.84 μs per loop (mean ± std. dev. of 7 runs, 1,000 loops each)\n"
     ]
    }
   ],
   "source": [
    "%timeit sum(array_gigante)\n",
    "%timeit np.sum(array_gigante)"
   ]
  },
  {
   "cell_type": "markdown",
   "metadata": {
    "id": "Umq2FTnq_KuW"
   },
   "source": [
    "### 8.1 np.sum()"
   ]
  },
  {
   "cell_type": "code",
   "execution_count": 71,
   "metadata": {
    "colab": {
     "base_uri": "https://localhost:8080/"
    },
    "executionInfo": {
     "elapsed": 43,
     "status": "ok",
     "timestamp": 1741978270374,
     "user": {
      "displayName": "Julio Cesar dos Reis",
      "userId": "07725049740648948644"
     },
     "user_tz": 180
    },
    "id": "tqh-2mWA_KuW",
    "outputId": "2ffa68c3-35a2-4d3b-b98c-9c7993c7559d"
   },
   "outputs": [
    {
     "data": {
      "text/plain": [
       "np.int64(499513722)"
      ]
     },
     "execution_count": 71,
     "metadata": {},
     "output_type": "execute_result"
    }
   ],
   "source": [
    "np.sum(array_gigante)"
   ]
  },
  {
   "cell_type": "markdown",
   "metadata": {
    "id": "jO5M92cd_KuW"
   },
   "source": [
    "### 8.2 np.mean()"
   ]
  },
  {
   "cell_type": "code",
   "execution_count": 72,
   "metadata": {
    "colab": {
     "base_uri": "https://localhost:8080/"
    },
    "executionInfo": {
     "elapsed": 23,
     "status": "ok",
     "timestamp": 1742028470579,
     "user": {
      "displayName": "Julio Cesar dos Reis",
      "userId": "07725049740648948644"
     },
     "user_tz": 180
    },
    "id": "SXPHglBP_KuW",
    "outputId": "042a4f35-f09a-4e53-ad27-02b223f56970"
   },
   "outputs": [
    {
     "data": {
      "text/plain": [
       "np.float64(499.513722)"
      ]
     },
     "execution_count": 72,
     "metadata": {},
     "output_type": "execute_result"
    }
   ],
   "source": [
    "np.mean(array_gigante)"
   ]
  },
  {
   "cell_type": "markdown",
   "metadata": {
    "id": "A4BUSI2x_KuW"
   },
   "source": [
    "### 8.3 np.std()"
   ]
  },
  {
   "cell_type": "code",
   "execution_count": 73,
   "metadata": {
    "colab": {
     "base_uri": "https://localhost:8080/"
    },
    "executionInfo": {
     "elapsed": 49,
     "status": "ok",
     "timestamp": 1742028473737,
     "user": {
      "displayName": "Julio Cesar dos Reis",
      "userId": "07725049740648948644"
     },
     "user_tz": 180
    },
    "id": "Iny1UXaV_KuW",
    "outputId": "5bbbc518-06e2-4485-cb1f-2e53f01bb9ed"
   },
   "outputs": [
    {
     "data": {
      "text/plain": [
       "np.float64(288.6906800499571)"
      ]
     },
     "execution_count": 73,
     "metadata": {},
     "output_type": "execute_result"
    }
   ],
   "source": [
    "np.std(array_gigante)"
   ]
  },
  {
   "cell_type": "markdown",
   "metadata": {
    "id": "0HF-2SrJ_KuW"
   },
   "source": [
    "### 8.4 np.var()"
   ]
  },
  {
   "cell_type": "code",
   "execution_count": 74,
   "metadata": {
    "colab": {
     "base_uri": "https://localhost:8080/"
    },
    "executionInfo": {
     "elapsed": 6,
     "status": "ok",
     "timestamp": 1742028475417,
     "user": {
      "displayName": "Julio Cesar dos Reis",
      "userId": "07725049740648948644"
     },
     "user_tz": 180
    },
    "id": "zrjNCfpD_KuW",
    "outputId": "389d2581-31ae-4fb4-f077-96133953e224"
   },
   "outputs": [
    {
     "data": {
      "text/plain": [
       "np.float64(83342.30874770669)"
      ]
     },
     "execution_count": 74,
     "metadata": {},
     "output_type": "execute_result"
    }
   ],
   "source": [
    "np.var(array_gigante)"
   ]
  },
  {
   "cell_type": "markdown",
   "metadata": {
    "id": "VUXa8Q4V_KuW"
   },
   "source": [
    "### 8.5 np.max()"
   ]
  },
  {
   "cell_type": "code",
   "execution_count": 75,
   "metadata": {
    "colab": {
     "base_uri": "https://localhost:8080/"
    },
    "executionInfo": {
     "elapsed": 8,
     "status": "ok",
     "timestamp": 1742028478287,
     "user": {
      "displayName": "Julio Cesar dos Reis",
      "userId": "07725049740648948644"
     },
     "user_tz": 180
    },
    "id": "BO4BMybq_KuW",
    "outputId": "f27136dd-2b47-48c6-92c1-9291e2b1f69c"
   },
   "outputs": [
    {
     "data": {
      "text/plain": [
       "np.int32(999)"
      ]
     },
     "execution_count": 75,
     "metadata": {},
     "output_type": "execute_result"
    }
   ],
   "source": [
    "np.max(array_gigante)"
   ]
  },
  {
   "cell_type": "markdown",
   "metadata": {
    "id": "K0xDN7Um_KuW"
   },
   "source": [
    "### 8.6 np.min()"
   ]
  },
  {
   "cell_type": "code",
   "execution_count": 76,
   "metadata": {
    "colab": {
     "base_uri": "https://localhost:8080/"
    },
    "executionInfo": {
     "elapsed": 10,
     "status": "ok",
     "timestamp": 1742028480599,
     "user": {
      "displayName": "Julio Cesar dos Reis",
      "userId": "07725049740648948644"
     },
     "user_tz": 180
    },
    "id": "kOirVVUS_KuW",
    "outputId": "481339e9-f4c4-4269-ce30-1128cf63ad21"
   },
   "outputs": [
    {
     "data": {
      "text/plain": [
       "np.int32(0)"
      ]
     },
     "execution_count": 76,
     "metadata": {},
     "output_type": "execute_result"
    }
   ],
   "source": [
    "np.min(array_gigante)"
   ]
  },
  {
   "cell_type": "markdown",
   "metadata": {
    "id": "YsZmUBBn_KuW"
   },
   "source": [
    "## 9. Agregação com múltiplas dimensões\n",
    "\n",
    "podemos utilizar o axis para fazer diferentes agregações\n",
    "\n",
    "![image-3.png](attachment:image-3.png)"
   ]
  },
  {
   "cell_type": "code",
   "execution_count": 77,
   "metadata": {
    "colab": {
     "base_uri": "https://localhost:8080/"
    },
    "executionInfo": {
     "elapsed": 28,
     "status": "ok",
     "timestamp": 1742028979776,
     "user": {
      "displayName": "Julio Cesar dos Reis",
      "userId": "07725049740648948644"
     },
     "user_tz": 180
    },
    "id": "QQBSLX8E_KuW",
    "outputId": "7c3d8bc4-cbbd-4aa7-c850-f0a1baf290eb"
   },
   "outputs": [
    {
     "data": {
      "text/plain": [
       "array([[0, 1, 2],\n",
       "       [3, 4, 5]])"
      ]
     },
     "execution_count": 77,
     "metadata": {},
     "output_type": "execute_result"
    }
   ],
   "source": [
    "a = np.arange(6).reshape(2, 3)\n",
    "a"
   ]
  },
  {
   "cell_type": "markdown",
   "metadata": {
    "id": "-aCBVCFL_KuW"
   },
   "source": [
    "### 9.1 sem axis"
   ]
  },
  {
   "cell_type": "code",
   "execution_count": 78,
   "metadata": {
    "colab": {
     "base_uri": "https://localhost:8080/"
    },
    "executionInfo": {
     "elapsed": 67,
     "status": "ok",
     "timestamp": 1742028490331,
     "user": {
      "displayName": "Julio Cesar dos Reis",
      "userId": "07725049740648948644"
     },
     "user_tz": 180
    },
    "id": "5fqBna5i_KuW",
    "outputId": "8ee8274b-2305-47fa-dee0-ec40e8650706"
   },
   "outputs": [
    {
     "data": {
      "text/plain": [
       "np.int64(15)"
      ]
     },
     "execution_count": 78,
     "metadata": {},
     "output_type": "execute_result"
    }
   ],
   "source": [
    "np.sum(a)"
   ]
  },
  {
   "cell_type": "markdown",
   "metadata": {
    "id": "zDIcMD6h_KuW"
   },
   "source": [
    "### 9.2 axis=0"
   ]
  },
  {
   "cell_type": "code",
   "execution_count": 79,
   "metadata": {
    "colab": {
     "base_uri": "https://localhost:8080/"
    },
    "executionInfo": {
     "elapsed": 6,
     "status": "ok",
     "timestamp": 1742028499387,
     "user": {
      "displayName": "Julio Cesar dos Reis",
      "userId": "07725049740648948644"
     },
     "user_tz": 180
    },
    "id": "cTf2D9Gp_KuW",
    "outputId": "72836166-b866-4751-f235-6698eb6a324c"
   },
   "outputs": [
    {
     "data": {
      "text/plain": [
       "array([3, 5, 7])"
      ]
     },
     "execution_count": 79,
     "metadata": {},
     "output_type": "execute_result"
    }
   ],
   "source": [
    "np.sum(a, axis=0)"
   ]
  },
  {
   "cell_type": "markdown",
   "metadata": {
    "id": "i2aSNi1h_KuX"
   },
   "source": [
    "### 9.3 axis=1"
   ]
  },
  {
   "cell_type": "code",
   "execution_count": 80,
   "metadata": {
    "colab": {
     "base_uri": "https://localhost:8080/"
    },
    "executionInfo": {
     "elapsed": 42,
     "status": "ok",
     "timestamp": 1742028883349,
     "user": {
      "displayName": "Julio Cesar dos Reis",
      "userId": "07725049740648948644"
     },
     "user_tz": 180
    },
    "id": "yJrDU8AJ_KuX",
    "outputId": "ce316e73-5df6-47b0-d737-39dc9c25f010"
   },
   "outputs": [
    {
     "data": {
      "text/plain": [
       "array([ 3, 12])"
      ]
     },
     "execution_count": 80,
     "metadata": {},
     "output_type": "execute_result"
    }
   ],
   "source": [
    "np.sum(a, axis=1)"
   ]
  }
 ],
 "metadata": {
  "colab": {
   "provenance": []
  },
  "kernelspec": {
   "display_name": "Python 3",
   "language": "python",
   "name": "python3"
  },
  "language_info": {
   "codemirror_mode": {
    "name": "ipython",
    "version": 3
   },
   "file_extension": ".py",
   "mimetype": "text/x-python",
   "name": "python",
   "nbconvert_exporter": "python",
   "pygments_lexer": "ipython3",
   "version": "3.13.2"
  }
 },
 "nbformat": 4,
 "nbformat_minor": 0
}
