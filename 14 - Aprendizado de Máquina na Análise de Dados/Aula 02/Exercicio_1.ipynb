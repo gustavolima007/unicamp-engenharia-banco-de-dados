{
 "cells": [
  {
   "cell_type": "markdown",
   "id": "84ea1eb8",
   "metadata": {},
   "source": [
    "### Exercicio 1"
   ]
  },
  {
   "cell_type": "code",
   "execution_count": 3,
   "id": "a0a840ea",
   "metadata": {},
   "outputs": [
    {
     "name": "stdout",
     "output_type": "stream",
     "text": [
      "Atributo 'historico_familiar' já está em formato binário (0 ou 1):\n",
      "0    1\n",
      "1    0\n",
      "2    1\n",
      "3    0\n",
      "Name: historico_familiar, dtype: int64\n",
      "\n",
      "Dados após pré-processamento:\n",
      "      idade  substancia_A  substancia_B  historico_familiar\n",
      "0  0.000000      0.000000      1.432003                   1\n",
      "1 -1.414214      1.132277     -1.272892                   0\n",
      "2  1.414214     -1.585188     -0.477334                   1\n",
      "3  0.000000      0.452911      0.318223                   0\n"
     ]
    }
   ],
   "source": [
    "import pandas as pd\n",
    "from sklearn.preprocessing import StandardScaler\n",
    "from sklearn.impute import SimpleImputer\n",
    "\n",
    "# Criar uma base de dados fictícia\n",
    "data = pd.DataFrame({\n",
    "    'idade': [45, 30, 60, None],  # Valor ausente para teste\n",
    "    'substancia_A': [2.5, 3.0, 1.8, 2.7],\n",
    "    'substancia_B': [10.2, 8.5, 9.0, 9.5],\n",
    "    'historico_familiar': [1, 0, 1, 0]\n",
    "})\n",
    "\n",
    "# Etapa 1: Tratar valores ausentes (preencher com a média)\n",
    "imputer = SimpleImputer(strategy='mean')\n",
    "data['idade'] = imputer.fit_transform(data[['idade']])\n",
    "\n",
    "# Etapa 2: Padronizar atributos numéricos (média=0, desvio padrão=1)\n",
    "scaler = StandardScaler()\n",
    "data[['idade', 'substancia_A', 'substancia_B']] = scaler.fit_transform(\n",
    "    data[['idade', 'substancia_A', 'substancia_B']]\n",
    ")\n",
    "\n",
    "# Etapa 3: Verificar o atributo binário (já está em 0 ou 1, não precisa de codificação)\n",
    "print(\"Atributo 'historico_familiar' já está em formato binário (0 ou 1):\")\n",
    "print(data['historico_familiar'])\n",
    "\n",
    "# Exibir os dados processados\n",
    "print(\"\\nDados após pré-processamento:\")\n",
    "print(data)"
   ]
  }
 ],
 "metadata": {
  "kernelspec": {
   "display_name": "Python 3",
   "language": "python",
   "name": "python3"
  },
  "language_info": {
   "codemirror_mode": {
    "name": "ipython",
    "version": 3
   },
   "file_extension": ".py",
   "mimetype": "text/x-python",
   "name": "python",
   "nbconvert_exporter": "python",
   "pygments_lexer": "ipython3",
   "version": "3.13.2"
  }
 },
 "nbformat": 4,
 "nbformat_minor": 5
}
