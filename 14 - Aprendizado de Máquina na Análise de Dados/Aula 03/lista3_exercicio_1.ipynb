{
 "cells": [
  {
   "cell_type": "code",
   "execution_count": 3,
   "id": "99899d9b",
   "metadata": {},
   "outputs": [
    {
     "data": {
      "image/png": "[encoded data removed]",
      "text/plain": [
       "<Figure size 800x600 with 1 Axes>"
      ]
     },
     "metadata": {},
     "output_type": "display_data"
    }
   ],
   "source": [
    "import matplotlib.pyplot as plt\n",
    "\n",
    "# Dados da Tabela 1, Questão 1\n",
    "A = [1, 2, 3, 4, 5, 6, 7, 8, 9, 10] # Atributo A (entrada)\n",
    "B = [1, 4, 9, 16, 22, 40, 50, 70, 80, 105] # Atributo B (saída esperada)\n",
    "\n",
    "# Criação do gráfico de dispersão\n",
    "plt.figure(figsize=(8, 6)) \n",
    "plt.scatter(A, B, color='green', marker='x', s=100) \n",
    "plt.title('Gráfico de Dispersão: Atributo B vs. Atributo A')\n",
    "plt.xlabel('A (entrada)') # Rótulo do eixo X\n",
    "plt.ylabel('B (saída esperada)') # Rótulo do eixo Y\n",
    "plt.grid(True)\n",
    "plt.show()"
   ]
  },
  {
   "cell_type": "markdown",
   "id": "8f8f224b",
   "metadata": {},
   "source": [
    "C)"
   ]
  },
  {
   "cell_type": "code",
   "execution_count": null,
   "id": "f7a73d63",
   "metadata": {},
   "outputs": [
    {
     "name": "stdout",
     "output_type": "stream",
     "text": [
      "Erro Quadrático Médio (EQM): 2110.0698\n",
      "Erro Quadrático Relativo (EQR): 0.7740\n"
     ]
    }
   ],
   "source": [
    "import numpy as np\n",
    "\n",
    "# Valores de B (saída esperada) da Tabela 1\n",
    "B_esperado = np.array([1, 4, 9, 16, 22, 40, 50, 70, 80, 105])\n",
    "\n",
    "# Valores de B (saída do estimador) calculados no item 1c\n",
    "B_estimado = np.array([1.6367, 2.6064, 3.5761, 4.5458, 5.5155, 6.4852, 7.4549, 8.4246, 9.3943, 10.3640])\n",
    "\n",
    "# Cálculo do Erro Quadrático Médio (EQM)\n",
    "# EQM = (1/n) * sum((B_esperado - B_estimado)^2)\n",
    "eqm = np.mean((B_esperado - B_estimado)**2)\n",
    "\n",
    "# Cálculo do Erro Quadrático Relativo (EQR)\n",
    "# EQR = sum((B_esperado - B_estimado)^2) / sum(B_esperado^2)\n",
    "eqr = np.sum((B_esperado - B_estimado)**2) / np.sum(B_esperado**2)\n",
    "\n",
    "print(f\"Erro Quadrático Médio (EQM): {eqm:.4f}\")\n",
    "print(f\"Erro Quadrático Relativo (EQR): {eqr:.4f}\")"
   ]
  },
  {
   "cell_type": "code",
   "execution_count": 5,
   "id": "ccc56faf",
   "metadata": {},
   "outputs": [
    {
     "name": "stdout",
     "output_type": "stream",
     "text": [
      "Valores de A (entrada): [ 1  2  3  4  5  6  7  8  9 10]\n",
      "Valores de B (saída esperada): [  1   4   9  16  22  40  50  70  80 105]\n",
      "Valores de B'' (saída do estimador calculados): [ 1.6367  2.6064  3.5761  4.5458  5.5155  6.4852  7.4549  8.4246  9.3943\n",
      " 10.364 ]\n"
     ]
    }
   ],
   "source": [
    "import numpy as np\n",
    "\n",
    "# Valores de A (entrada) e B (saída esperada) da Tabela 1\n",
    "A = np.array([1, 2, 3, 4, 5, 6, 7, 8, 9, 10]) # Atributo A (entrada) \n",
    "B_esperado = np.array([1, 4, 9, 16, 22, 40, 50, 70, 80, 105]) # Atributo B (saída esperada) \n",
    "\n",
    "# Coeficientes da equação de Regressão Linear fornecida na questão 1c \n",
    "# B = 0,9697 * A + 0,667\n",
    "coef_angular = 0.9697\n",
    "coef_linear = 0.667\n",
    "\n",
    "# Cálculo dos valores de B (saída do estimador) aplicando a equação a cada valor de A\n",
    "B_estimado = (coef_angular * A) + coef_linear\n",
    "\n",
    "print(\"Valores de A (entrada):\", A)\n",
    "print(\"Valores de B (saída esperada):\", B_esperado)\n",
    "print(\"Valores de B'' (saída do estimador calculados):\", B_estimado)"
   ]
  },
  {
   "cell_type": "code",
   "execution_count": 8,
   "id": "099dbb1b",
   "metadata": {},
   "outputs": [
    {
     "name": "stdout",
     "output_type": "stream",
     "text": [
      "Erro Quadrático Médio (EQM): 2110.0698\n",
      "Erro Quadrático Relativo (EQR): 0.7740\n"
     ]
    }
   ],
   "source": [
    "import numpy as np\n",
    "\n",
    "# Dados da Tabela 1\n",
    "A = np.array([1, 2, 3, 4, 5, 6, 7, 8, 9, 10]) # Atributo A (entrada) \n",
    "B_esperado = np.array([1, 4, 9, 16, 22, 40, 50, 70, 80, 105]) # Atributo B (saída esperada) \n",
    "\n",
    "# Coeficientes da equação de Regressão Linear\n",
    "# B = 0,9697 * A + 0,667 \n",
    "coef_angular = 0.9697\n",
    "coef_linear = 0.667\n",
    "\n",
    "# Cálculo dos valores de B (saída do estimador) aplicando a equação a cada valor de A\n",
    "B_estimado = (coef_angular * A) + coef_linear\n",
    "\n",
    "# Cálculo do Erro Quadrático Médio (EQM)\n",
    "eqm = np.mean((B_esperado - B_estimado)**2)\n",
    "\n",
    "# Cálculo do Erro Quadrático Relativo (EQR)\n",
    "eqr = np.sum((B_esperado - B_estimado)**2) / np.sum(B_esperado**2)\n",
    "\n",
    "print(f\"Erro Quadrático Médio (EQM): {eqm:.4f}\")\n",
    "print(f\"Erro Quadrático Relativo (EQR): {eqr:.4f}\")"
   ]
  }
 ],
 "metadata": {
  "kernelspec": {
   "display_name": "Python 3",
   "language": "python",
   "name": "python3"
  },
  "language_info": {
   "codemirror_mode": {
    "name": "ipython",
    "version": 3
   },
   "file_extension": ".py",
   "mimetype": "text/x-python",
   "name": "python",
   "nbconvert_exporter": "python",
   "pygments_lexer": "ipython3",
   "version": "3.13.2"
  }
 },
 "nbformat": 4,
 "nbformat_minor": 5
}
