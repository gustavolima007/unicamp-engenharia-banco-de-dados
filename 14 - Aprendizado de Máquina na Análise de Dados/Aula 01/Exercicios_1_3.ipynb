{
 "cells": [
  {
   "cell_type": "code",
   "execution_count": 5,
   "id": "78cddfc4",
   "metadata": {},
   "outputs": [
    {
     "name": "stdout",
     "output_type": "stream",
     "text": [
      "Classes Preditas: ['Não', 'Não', 'Não', 'Não', 'Não', 'Não', 'Não', 'Não', 'Não', 'Não', 'Sim', 'Não', 'Não', 'Não'] 🎯\n",
      "Matriz de Confusão: [[0, 1], [2, 11]] 📊\n",
      "Acurácia: 0.79 ✅\n",
      "É um bom classificador? (baseado em acurácia > 0.7) Sim 🌟\n"
     ]
    }
   ],
   "source": [
    "# Dados da Tabela 1\n",
    "data = [\n",
    "    {\"ID\": 1, \"Idade\": \"Jovem\", \"Nivel_A\": \"Alto\", \"Nivel_B\": \"Baixo\", \"Historico\": \"Não\", \"Classe\": \"Não\"},\n",
    "    {\"ID\": 2, \"Idade\": \"Jovem\", \"Nivel_A\": \"Alto\", \"Nivel_B\": \"Alto\", \"Historico\": \"Não\", \"Classe\": \"Não\"},\n",
    "    {\"ID\": 3, \"Idade\": \"Adulto\", \"Nivel_A\": \"Alto\", \"Nivel_B\": \"Baixo\", \"Historico\": \"Não\", \"Classe\": \"Não\"},\n",
    "    {\"ID\": 4, \"Idade\": \"Idoso\", \"Nivel_A\": \"Médio\", \"Nivel_B\": \"Baixo\", \"Historico\": \"Não\", \"Classe\": \"Não\"},\n",
    "    {\"ID\": 5, \"Idade\": \"Idoso\", \"Nivel_A\": \"Baixo\", \"Nivel_B\": \"Baixo\", \"Historico\": \"Sim\", \"Classe\": \"Não\"},\n",
    "    {\"ID\": 6, \"Idade\": \"Idoso\", \"Nivel_A\": \"Baixo\", \"Nivel_B\": \"Alto\", \"Historico\": \"Sim\", \"Classe\": \"Não\"},\n",
    "    {\"ID\": 7, \"Idade\": \"Adulto\", \"Nivel_A\": \"Baixo\", \"Nivel_B\": \"Alto\", \"Historico\": \"Sim\", \"Classe\": \"Não\"},\n",
    "    {\"ID\": 8, \"Idade\": \"Jovem\", \"Nivel_A\": \"Médio\", \"Nivel_B\": \"Baixo\", \"Historico\": \"Não\", \"Classe\": \"Não\"},\n",
    "    {\"ID\": 9, \"Idade\": \"Jovem\", \"Nivel_A\": \"Baixo\", \"Nivel_B\": \"Baixo\", \"Historico\": \"Sim\", \"Classe\": \"Sim\"},\n",
    "    {\"ID\": 10, \"Idade\": \"Idoso\", \"Nivel_A\": \"Médio\", \"Nivel_B\": \"Baixo\", \"Historico\": \"Sim\", \"Classe\": \"Não\"},\n",
    "    {\"ID\": 11, \"Idade\": \"Jovem\", \"Nivel_A\": \"Médio\", \"Nivel_B\": \"Alto\", \"Historico\": \"Sim\", \"Classe\": \"Não\"},\n",
    "    {\"ID\": 12, \"Idade\": \"Adulto\", \"Nivel_A\": \"Alto\", \"Nivel_B\": \"Alto\", \"Historico\": \"Sim\", \"Classe\": \"Não\"},\n",
    "    {\"ID\": 13, \"Idade\": \"Adulto\", \"Nivel_A\": \"Alto\", \"Nivel_B\": \"Baixo\", \"Historico\": \"Sim\", \"Classe\": \"Não\"},\n",
    "    {\"ID\": 14, \"Idade\": \"Idoso\", \"Nivel_A\": \"Médio\", \"Nivel_B\": \"Alto\", \"Historico\": \"Não\", \"Classe\": \"Sim\"}\n",
    "]\n",
    "\n",
    "# Função para aplicar a árvore de decisão\n",
    "def predict_class(sample):\n",
    "    if sample[\"Nivel_A\"] == \"Alto\":\n",
    "        return \"Não\"\n",
    "    elif sample[\"Nivel_A\"] == \"Médio\":\n",
    "        if sample[\"Nivel_B\"] == \"Baixo\":\n",
    "            return \"Não\"\n",
    "        elif sample[\"Nivel_B\"] == \"Alto\":\n",
    "            if sample[\"Historico\"] == \"Sim\":\n",
    "                return \"Sim\"\n",
    "            else:\n",
    "                return \"Não\"\n",
    "    elif sample[\"Nivel_A\"] == \"Baixo\":\n",
    "        if sample[\"Idade\"] == \"Idoso\":\n",
    "            return \"Não\"\n",
    "        elif sample[\"Idade\"] == \"Jovem\" or sample[\"Idade\"] == \"Adulto\":\n",
    "            return \"Não\"\n",
    "\n",
    "# Aplicar a árvore e prever classes\n",
    "predicted = [predict_class(sample) for sample in data]\n",
    "actual = [sample[\"Classe\"] for sample in data]\n",
    "\n",
    "# Matriz de confusão\n",
    "tp = sum(1 for p, a in zip(predicted, actual) if p == \"Sim\" and a == \"Sim\")\n",
    "tn = sum(1 for p, a in zip(predicted, actual) if p == \"Não\" and a == \"Não\")\n",
    "fp = sum(1 for p, a in zip(predicted, actual) if p == \"Sim\" and a == \"Não\")\n",
    "fn = sum(1 for p, a in zip(predicted, actual) if p == \"Não\" and a == \"Sim\")\n",
    "\n",
    "confusion_matrix = [[tp, fp], [fn, tn]]\n",
    "\n",
    "# Acurácia\n",
    "accuracy = (tp + tn) / len(data) if len(data) > 0 else 0\n",
    "\n",
    "# Imprimir resultados\n",
    "print(f\"Classes Preditas: {predicted} 🎯\")\n",
    "print(f\"Matriz de Confusão: {confusion_matrix} 📊\")\n",
    "print(f\"Acurácia: {accuracy:.2f} ✅\")\n",
    "print(f\"É um bom classificador? (baseado em acurácia > 0.7) {'Sim' if accuracy > 0.7 else 'Não'} 🌟\")"
   ]
  }
 ],
 "metadata": {
  "kernelspec": {
   "display_name": "Python 3",
   "language": "python",
   "name": "python3"
  },
  "language_info": {
   "codemirror_mode": {
    "name": "ipython",
    "version": 3
   },
   "file_extension": ".py",
   "mimetype": "text/x-python",
   "name": "python",
   "nbconvert_exporter": "python",
   "pygments_lexer": "ipython3",
   "version": "3.13.2"
  }
 },
 "nbformat": 4,
 "nbformat_minor": 5
}
