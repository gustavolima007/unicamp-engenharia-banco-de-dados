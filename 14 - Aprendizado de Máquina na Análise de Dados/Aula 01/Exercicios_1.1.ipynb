{
 "cells": [
  {
   "cell_type": "code",
   "execution_count": 3,
   "id": "c069f5d0",
   "metadata": {},
   "outputs": [
    {
     "ename": "ModuleNotFoundError",
     "evalue": "No module named 'ace_tools'",
     "output_type": "error",
     "traceback": [
      "\u001b[31m---------------------------------------------------------------------------\u001b[39m",
      "\u001b[31mModuleNotFoundError\u001b[39m                       Traceback (most recent call last)",
      "\u001b[36mCell\u001b[39m\u001b[36m \u001b[39m\u001b[32mIn[3]\u001b[39m\u001b[32m, line 9\u001b[39m\n\u001b[32m      7\u001b[39m \u001b[38;5;28;01mfrom\u001b[39;00m\u001b[38;5;250m \u001b[39m\u001b[34;01msklearn\u001b[39;00m\u001b[34;01m.\u001b[39;00m\u001b[34;01mnaive_bayes\u001b[39;00m\u001b[38;5;250m \u001b[39m\u001b[38;5;28;01mimport\u001b[39;00m GaussianNB\n\u001b[32m      8\u001b[39m \u001b[38;5;28;01mfrom\u001b[39;00m\u001b[38;5;250m \u001b[39m\u001b[34;01msklearn\u001b[39;00m\u001b[34;01m.\u001b[39;00m\u001b[34;01mmetrics\u001b[39;00m\u001b[38;5;250m \u001b[39m\u001b[38;5;28;01mimport\u001b[39;00m confusion_matrix, classification_report\n\u001b[32m----> \u001b[39m\u001b[32m9\u001b[39m \u001b[38;5;28;01mimport\u001b[39;00m\u001b[38;5;250m \u001b[39m\u001b[34;01mace_tools\u001b[39;00m\u001b[38;5;250m \u001b[39m\u001b[38;5;28;01mas\u001b[39;00m\u001b[38;5;250m \u001b[39m\u001b[34;01mtools\u001b[39;00m\n\u001b[32m     11\u001b[39m \u001b[38;5;66;03m# Carregar o dataset Wine\u001b[39;00m\n\u001b[32m     12\u001b[39m data = load_wine()\n",
      "\u001b[31mModuleNotFoundError\u001b[39m: No module named 'ace_tools'"
     ]
    }
   ],
   "source": [
    "import numpy as np\n",
    "import pandas as pd\n",
    "from sklearn.datasets import load_wine\n",
    "from sklearn.model_selection import StratifiedKFold, cross_val_predict\n",
    "from sklearn.preprocessing import StandardScaler\n",
    "from sklearn.neighbors import KNeighborsClassifier\n",
    "from sklearn.naive_bayes import GaussianNB\n",
    "from sklearn.metrics import confusion_matrix, classification_report\n",
    "import ace_tools as tools\n",
    " \n",
    "# Carregar o dataset Wine\n",
    "data = load_wine()\n",
    "X = data.data\n",
    "y = data.target\n",
    "class_names = data.target_names\n",
    " \n",
    "# Estratégia de validação cruzada\n",
    "cv = StratifiedKFold(n_splits=10, shuffle=True, random_state=42)\n",
    " \n",
    "# Configuração dos algoritmos\n",
    "knn = KNeighborsClassifier(n_neighbors=5)\n",
    "nb = GaussianNB()\n",
    " \n",
    "# Pré-processamento: sem escala e com StandardScaler\n",
    "scaler = StandardScaler()\n",
    "X_scaled = scaler.fit_transform(X)\n",
    " \n",
    "# Predições usando cross_val_predict\n",
    "y_pred_knn = cross_val_predict(knn, X, y, cv=cv)\n",
    "y_pred_knn_sc = cross_val_predict(knn, X_scaled, y, cv=cv)\n",
    "y_pred_nb = cross_val_predict(nb, X, y, cv=cv)\n",
    "y_pred_nb_sc = cross_val_predict(nb, X_scaled, y, cv=cv)\n",
    " \n",
    "# Computar matrizes de confusão e relatórios de classificação\n",
    "experiments = {\n",
    "    'kNN (k=5) sem pré-processamento': (y_pred_knn, X),\n",
    "    'kNN (k=5) com StandardScaler': (y_pred_knn_sc, X_scaled),\n",
    "    'Naive Bayes sem pré-processamento': (y_pred_nb, X),\n",
    "    'Naive Bayes com StandardScaler': (y_pred_nb_sc, X_scaled),\n",
    "}\n",
    " \n",
    "for name, (y_pred, _) in experiments.items():\n",
    "    cm = confusion_matrix(y, y_pred)\n",
    "    df_cm = pd.DataFrame(cm, index=class_names, columns=class_names)\n",
    "    tools.display_dataframe_to_user(f'{name} - Matriz de Confusão', df_cm)\n",
    " \n",
    "    report = classification_report(y, y_pred, target_names=class_names, output_dict=True)\n",
    "    df_report = pd.DataFrame(report).transpose()\n",
    "    tools.display_dataframe_to_user(f'{name} - Relatório de Classificação', df_report)"
   ]
  },
  {
   "cell_type": "code",
   "execution_count": 2,
   "id": "5e3ff6c1",
   "metadata": {},
   "outputs": [
    {
     "name": "stdout",
     "output_type": "stream",
     "text": [
      "Requirement already satisfied: ace_tools in c:\\users\\atlas core\\appdata\\local\\programs\\python\\python313\\lib\\site-packages (0.0)\n"
     ]
    },
    {
     "name": "stderr",
     "output_type": "stream",
     "text": [
      "\n",
      "[notice] A new release of pip is available: 25.0.1 -> 25.1.1\n",
      "[notice] To update, run: python.exe -m pip install --upgrade pip\n"
     ]
    }
   ],
   "source": [
    "!pip install ace_tools"
   ]
  }
 ],
 "metadata": {
  "kernelspec": {
   "display_name": "Python 3",
   "language": "python",
   "name": "python3"
  },
  "language_info": {
   "codemirror_mode": {
    "name": "ipython",
    "version": 3
   },
   "file_extension": ".py",
   "mimetype": "text/x-python",
   "name": "python",
   "nbconvert_exporter": "python",
   "pygments_lexer": "ipython3",
   "version": "3.13.2"
  }
 },
 "nbformat": 4,
 "nbformat_minor": 5
}
